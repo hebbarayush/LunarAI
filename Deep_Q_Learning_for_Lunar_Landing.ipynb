{
  "cells": [
    {
      "cell_type": "markdown",
      "metadata": {
        "id": "LbZcI9ZXHl3a"
      },
      "source": [
        "# Deep Q-Learning for Lunar Landing"
      ]
    },
    {
      "cell_type": "markdown",
      "metadata": {
        "id": "E8yPRjteXgPb"
      },
      "source": [
        "## Part 0 - Installing the required packages and importing the libraries"
      ]
    },
    {
      "cell_type": "markdown",
      "metadata": {
        "id": "slEm5teGWjWU"
      },
      "source": [
        "### Installing Gymnasium"
      ]
    },
    {
      "cell_type": "code",
      "execution_count": 1,
      "metadata": {
        "colab": {
          "base_uri": "https://localhost:8080/"
        },
        "id": "dbnq3XpoKa_7",
        "outputId": "d10291ff-cb5d-4842-9bcc-5de63c81d81d"
      },
      "outputs": [
        {
          "name": "stdout",
          "output_type": "stream",
          "text": [
            "Collecting gymnasium\n",
            "  Downloading gymnasium-0.29.1-py3-none-any.whl.metadata (10 kB)\n",
            "Requirement already satisfied: numpy>=1.21.0 in c:\\users\\ayush hebbar\\desktop\\python\\lib\\site-packages (from gymnasium) (1.26.3)\n",
            "Collecting cloudpickle>=1.2.0 (from gymnasium)\n",
            "  Downloading cloudpickle-3.0.0-py3-none-any.whl.metadata (7.0 kB)\n",
            "Collecting typing-extensions>=4.3.0 (from gymnasium)\n",
            "  Downloading typing_extensions-4.10.0-py3-none-any.whl.metadata (3.0 kB)\n",
            "Collecting farama-notifications>=0.0.1 (from gymnasium)\n",
            "  Downloading Farama_Notifications-0.0.4-py3-none-any.whl.metadata (558 bytes)\n",
            "Downloading gymnasium-0.29.1-py3-none-any.whl (953 kB)\n",
            "   ---------------------------------------- 0.0/953.9 kB ? eta -:--:--\n",
            "   ---------------------------------------- 10.2/953.9 kB ? eta -:--:--\n",
            "   ---------------------------------------- 10.2/953.9 kB ? eta -:--:--\n",
            "   -- ------------------------------------ 61.4/953.9 kB 656.4 kB/s eta 0:00:02\n",
            "   -- ------------------------------------ 61.4/953.9 kB 656.4 kB/s eta 0:00:02\n",
            "   ------ ------------------------------- 174.1/953.9 kB 876.1 kB/s eta 0:00:01\n",
            "   ------ ------------------------------- 174.1/953.9 kB 876.1 kB/s eta 0:00:01\n",
            "   ------------ --------------------------- 307.2/953.9 kB 1.1 MB/s eta 0:00:01\n",
            "   --------------- ------------------------ 368.6/953.9 kB 1.1 MB/s eta 0:00:01\n",
            "   -------------------- ------------------- 491.5/953.9 kB 1.3 MB/s eta 0:00:01\n",
            "   -------------------- ------------------- 491.5/953.9 kB 1.3 MB/s eta 0:00:01\n",
            "   ------------------------- -------------- 614.4/953.9 kB 1.3 MB/s eta 0:00:01\n",
            "   -------------------------------- ------- 768.0/953.9 kB 1.5 MB/s eta 0:00:01\n",
            "   ---------------------------------------- 953.9/953.9 kB 1.7 MB/s eta 0:00:00\n",
            "Downloading cloudpickle-3.0.0-py3-none-any.whl (20 kB)\n",
            "Downloading Farama_Notifications-0.0.4-py3-none-any.whl (2.5 kB)\n",
            "Downloading typing_extensions-4.10.0-py3-none-any.whl (33 kB)\n",
            "Installing collected packages: farama-notifications, typing-extensions, cloudpickle, gymnasium\n",
            "Successfully installed cloudpickle-3.0.0 farama-notifications-0.0.4 gymnasium-0.29.1 typing-extensions-4.10.0\n"
          ]
        },
        {
          "name": "stderr",
          "output_type": "stream",
          "text": [
            "\n",
            "[notice] A new release of pip is available: 23.3.2 -> 24.0\n",
            "[notice] To update, run: python.exe -m pip install --upgrade pip\n"
          ]
        },
        {
          "name": "stdout",
          "output_type": "stream",
          "text": [
            "Requirement already satisfied: gymnasium[accept-rom-license,atari] in c:\\users\\ayush hebbar\\desktop\\python\\lib\\site-packages (0.29.1)\n",
            "Requirement already satisfied: numpy>=1.21.0 in c:\\users\\ayush hebbar\\desktop\\python\\lib\\site-packages (from gymnasium[accept-rom-license,atari]) (1.26.3)\n",
            "Requirement already satisfied: cloudpickle>=1.2.0 in c:\\users\\ayush hebbar\\desktop\\python\\lib\\site-packages (from gymnasium[accept-rom-license,atari]) (3.0.0)\n",
            "Requirement already satisfied: typing-extensions>=4.3.0 in c:\\users\\ayush hebbar\\desktop\\python\\lib\\site-packages (from gymnasium[accept-rom-license,atari]) (4.10.0)\n",
            "Requirement already satisfied: farama-notifications>=0.0.1 in c:\\users\\ayush hebbar\\desktop\\python\\lib\\site-packages (from gymnasium[accept-rom-license,atari]) (0.0.4)\n",
            "Collecting autorom~=0.4.2 (from autorom[accept-rom-license]~=0.4.2; extra == \"accept-rom-license\"->gymnasium[accept-rom-license,atari])\n",
            "  Downloading AutoROM-0.4.2-py3-none-any.whl.metadata (2.8 kB)\n",
            "Collecting shimmy<1.0,>=0.1.0 (from shimmy[atari]<1.0,>=0.1.0; extra == \"atari\"->gymnasium[accept-rom-license,atari])\n",
            "  Downloading Shimmy-0.2.1-py3-none-any.whl.metadata (2.3 kB)\n",
            "Collecting click (from autorom~=0.4.2->autorom[accept-rom-license]~=0.4.2; extra == \"accept-rom-license\"->gymnasium[accept-rom-license,atari])\n",
            "  Downloading click-8.1.7-py3-none-any.whl.metadata (3.0 kB)\n",
            "Requirement already satisfied: requests in c:\\users\\ayush hebbar\\desktop\\python\\lib\\site-packages (from autorom~=0.4.2->autorom[accept-rom-license]~=0.4.2; extra == \"accept-rom-license\"->gymnasium[accept-rom-license,atari]) (2.31.0)\n",
            "Collecting tqdm (from autorom~=0.4.2->autorom[accept-rom-license]~=0.4.2; extra == \"accept-rom-license\"->gymnasium[accept-rom-license,atari])\n",
            "  Downloading tqdm-4.66.2-py3-none-any.whl.metadata (57 kB)\n",
            "     ---------------------------------------- 0.0/57.6 kB ? eta -:--:--\n",
            "     ---------------------------------------- 0.0/57.6 kB ? eta -:--:--\n",
            "     ------- -------------------------------- 10.2/57.6 kB ? eta -:--:--\n",
            "     -------------------- ----------------- 30.7/57.6 kB 660.6 kB/s eta 0:00:01\n",
            "     -------------------------------------- 57.6/57.6 kB 509.1 kB/s eta 0:00:00\n",
            "Collecting AutoROM.accept-rom-license (from autorom[accept-rom-license]~=0.4.2; extra == \"accept-rom-license\"->gymnasium[accept-rom-license,atari])\n",
            "  Downloading AutoROM.accept-rom-license-0.6.1.tar.gz (434 kB)\n",
            "     ---------------------------------------- 0.0/434.7 kB ? eta -:--:--\n",
            "     -- ------------------------------------- 30.7/434.7 kB ? eta -:--:--\n",
            "     ---------- --------------------------- 122.9/434.7 kB 2.4 MB/s eta 0:00:01\n",
            "     ------------ ------------------------- 143.4/434.7 kB 1.4 MB/s eta 0:00:01\n",
            "     ------------------------ ------------- 276.5/434.7 kB 1.9 MB/s eta 0:00:01\n",
            "     -------------------------------------  430.1/434.7 kB 1.9 MB/s eta 0:00:01\n",
            "     -------------------------------------- 434.7/434.7 kB 1.8 MB/s eta 0:00:00\n",
            "  Installing build dependencies: started\n",
            "  Installing build dependencies: finished with status 'done'\n",
            "  Getting requirements to build wheel: started\n",
            "  Getting requirements to build wheel: finished with status 'done'\n",
            "  Preparing metadata (pyproject.toml): started\n",
            "  Preparing metadata (pyproject.toml): finished with status 'done'\n",
            "INFO: pip is looking at multiple versions of shimmy[atari] to determine which version is compatible with other requirements. This could take a while.\n",
            "Collecting shimmy[atari]<1.0,>=0.1.0 (from gymnasium[accept-rom-license,atari])\n",
            "  Downloading Shimmy-0.2.0-py3-none-any.whl.metadata (5.2 kB)\n",
            "  Downloading Shimmy-0.1.0-py3-none-any.whl.metadata (2.1 kB)\n",
            "Collecting gymnasium[accept-rom-license,atari]\n",
            "  Using cached gymnasium-0.29.1-py3-none-any.whl.metadata (10 kB)\n",
            "  Downloading gymnasium-0.29.0-py3-none-any.whl.metadata (10 kB)\n",
            "INFO: pip is still looking at multiple versions of shimmy[atari] to determine which version is compatible with other requirements. This could take a while.\n",
            "  Downloading gymnasium-0.28.1-py3-none-any.whl.metadata (9.2 kB)\n",
            "Collecting jax-jumpy>=1.0.0 (from gymnasium[accept-rom-license,atari])\n",
            "  Downloading jax_jumpy-1.0.0-py3-none-any.whl.metadata (15 kB)\n",
            "Collecting gymnasium[accept-rom-license,atari]\n",
            "  Downloading gymnasium-0.28.0-py3-none-any.whl.metadata (9.2 kB)\n",
            "INFO: This is taking longer than usual. You might need to provide the dependency resolver with stricter constraints to reduce runtime. See https://pip.pypa.io/warnings/backtracking for guidance. If you want to abort this run, press Ctrl + C.\n",
            "  Downloading gymnasium-0.27.1-py3-none-any.whl.metadata (8.5 kB)\n",
            "Collecting gymnasium-notices>=0.0.1 (from gymnasium[accept-rom-license,atari])\n",
            "  Downloading gymnasium_notices-0.0.1-py3-none-any.whl.metadata (1.1 kB)\n",
            "Collecting gymnasium[accept-rom-license,atari]\n",
            "  Downloading gymnasium-0.27.0-py3-none-any.whl.metadata (8.5 kB)\n",
            "  Downloading Gymnasium-0.26.3-py3-none-any.whl.metadata (5.8 kB)\n",
            "INFO: pip is looking at multiple versions of gymnasium[accept-rom-license,atari] to determine which version is compatible with other requirements. This could take a while.\n",
            "  Downloading gymnasium-0.26.2-py3-none-any.whl.metadata (4.1 kB)\n",
            "  Downloading gymnasium-0.26.1-py3-none-any.whl.metadata (4.1 kB)\n",
            "\n",
            "The conflict is caused by:\n",
            "    gymnasium[accept-rom-license,atari] 0.26.3 depends on ale-py~=0.8.0; extra == \"atari\"\n",
            "    gymnasium[accept-rom-license,atari] 0.26.2 depends on ale-py~=0.8.0; extra == \"atari\"\n",
            "    gymnasium[accept-rom-license,atari] 0.26.1 depends on ale-py~=0.8.0; extra == \"atari\"\n",
            "\n",
            "To fix this you could try to:\n",
            "1. loosen the range of package versions you've specified\n",
            "2. remove package versions to allow pip attempt to solve the dependency conflict\n",
            "\n"
          ]
        },
        {
          "name": "stderr",
          "output_type": "stream",
          "text": [
            "ERROR: Cannot install gymnasium[accept-rom-license,atari]==0.26.1, gymnasium[accept-rom-license,atari]==0.26.2 and gymnasium[accept-rom-license,atari]==0.26.3 because these package versions have conflicting dependencies.\n",
            "ERROR: ResolutionImpossible: for help visit https://pip.pypa.io/en/latest/topics/dependency-resolution/#dealing-with-dependency-conflicts\n",
            "\n",
            "[notice] A new release of pip is available: 23.3.2 -> 24.0\n",
            "[notice] To update, run: python.exe -m pip install --upgrade pip\n",
            "'apt-get' is not recognized as an internal or external command,\n",
            "operable program or batch file.\n"
          ]
        },
        {
          "name": "stdout",
          "output_type": "stream",
          "text": [
            "Requirement already satisfied: gymnasium[box2d] in c:\\users\\ayush hebbar\\desktop\\python\\lib\\site-packages (0.29.1)\n",
            "Requirement already satisfied: numpy>=1.21.0 in c:\\users\\ayush hebbar\\desktop\\python\\lib\\site-packages (from gymnasium[box2d]) (1.26.3)\n",
            "Requirement already satisfied: cloudpickle>=1.2.0 in c:\\users\\ayush hebbar\\desktop\\python\\lib\\site-packages (from gymnasium[box2d]) (3.0.0)\n",
            "Requirement already satisfied: typing-extensions>=4.3.0 in c:\\users\\ayush hebbar\\desktop\\python\\lib\\site-packages (from gymnasium[box2d]) (4.10.0)\n",
            "Requirement already satisfied: farama-notifications>=0.0.1 in c:\\users\\ayush hebbar\\desktop\\python\\lib\\site-packages (from gymnasium[box2d]) (0.0.4)\n",
            "Collecting box2d-py==2.3.5 (from gymnasium[box2d])\n",
            "  Downloading box2d-py-2.3.5.tar.gz (374 kB)\n",
            "     ---------------------------------------- 0.0/374.4 kB ? eta -:--:--\n",
            "     ---------------------------------------- 0.0/374.4 kB ? eta -:--:--\n",
            "     - -------------------------------------- 10.2/374.4 kB ? eta -:--:--\n",
            "     --- --------------------------------- 30.7/374.4 kB 262.6 kB/s eta 0:00:02\n",
            "     ------ ------------------------------ 61.4/374.4 kB 409.6 kB/s eta 0:00:01\n",
            "     ------------------- ------------------ 194.6/374.4 kB 1.1 MB/s eta 0:00:01\n",
            "     --------------------------------- ---- 327.7/374.4 kB 1.6 MB/s eta 0:00:01\n",
            "     -------------------------------------- 374.4/374.4 kB 1.6 MB/s eta 0:00:00\n",
            "  Installing build dependencies: started\n",
            "  Installing build dependencies: finished with status 'done'\n",
            "  Getting requirements to build wheel: started\n",
            "  Getting requirements to build wheel: finished with status 'done'\n",
            "  Preparing metadata (pyproject.toml): started\n",
            "  Preparing metadata (pyproject.toml): finished with status 'done'\n",
            "Collecting pygame>=2.1.3 (from gymnasium[box2d])\n",
            "  Downloading pygame-2.5.2-cp312-cp312-win_amd64.whl.metadata (13 kB)\n",
            "Collecting swig==4.* (from gymnasium[box2d])\n",
            "  Downloading swig-4.2.1-py2.py3-none-win_amd64.whl.metadata (3.7 kB)\n",
            "Downloading swig-4.2.1-py2.py3-none-win_amd64.whl (2.6 MB)\n",
            "   ---------------------------------------- 0.0/2.6 MB ? eta -:--:--\n",
            "   --- ------------------------------------ 0.2/2.6 MB 7.0 MB/s eta 0:00:01\n",
            "   --- ------------------------------------ 0.2/2.6 MB 7.0 MB/s eta 0:00:01\n",
            "   -------- ------------------------------- 0.5/2.6 MB 6.4 MB/s eta 0:00:01\n",
            "   ------------ --------------------------- 0.8/2.6 MB 5.4 MB/s eta 0:00:01\n",
            "   ---------------- ----------------------- 1.0/2.6 MB 5.4 MB/s eta 0:00:01\n",
            "   ------------------- -------------------- 1.3/2.6 MB 5.0 MB/s eta 0:00:01\n",
            "   -------------------- ------------------- 1.3/2.6 MB 5.1 MB/s eta 0:00:01\n",
            "   ------------------------ --------------- 1.6/2.6 MB 5.2 MB/s eta 0:00:01\n",
            "   ------------------------- -------------- 1.6/2.6 MB 4.5 MB/s eta 0:00:01\n",
            "   -------------------------- ------------- 1.7/2.6 MB 4.4 MB/s eta 0:00:01\n",
            "   ------------------------------- -------- 2.0/2.6 MB 4.6 MB/s eta 0:00:01\n",
            "   ---------------------------------------  2.5/2.6 MB 5.1 MB/s eta 0:00:01\n",
            "   ---------------------------------------- 2.6/2.6 MB 4.9 MB/s eta 0:00:00\n",
            "Downloading pygame-2.5.2-cp312-cp312-win_amd64.whl (10.8 MB)\n",
            "   ---------------------------------------- 0.0/10.8 MB ? eta -:--:--\n",
            "   - -------------------------------------- 0.3/10.8 MB 5.8 MB/s eta 0:00:02\n",
            "   - -------------------------------------- 0.5/10.8 MB 4.7 MB/s eta 0:00:03\n",
            "   -- ------------------------------------- 0.7/10.8 MB 5.9 MB/s eta 0:00:02\n",
            "   --- ------------------------------------ 1.0/10.8 MB 5.6 MB/s eta 0:00:02\n",
            "   ---- ----------------------------------- 1.1/10.8 MB 5.0 MB/s eta 0:00:02\n",
            "   ----- ---------------------------------- 1.4/10.8 MB 5.7 MB/s eta 0:00:02\n",
            "   ------ --------------------------------- 1.8/10.8 MB 5.8 MB/s eta 0:00:02\n",
            "   ------ --------------------------------- 1.9/10.8 MB 5.4 MB/s eta 0:00:02\n",
            "   -------- ------------------------------- 2.2/10.8 MB 5.7 MB/s eta 0:00:02\n",
            "   -------- ------------------------------- 2.3/10.8 MB 5.2 MB/s eta 0:00:02\n",
            "   -------- ------------------------------- 2.4/10.8 MB 4.7 MB/s eta 0:00:02\n",
            "   ---------- ----------------------------- 2.9/10.8 MB 5.4 MB/s eta 0:00:02\n",
            "   ---------- ----------------------------- 2.9/10.8 MB 5.2 MB/s eta 0:00:02\n",
            "   ----------- ---------------------------- 3.2/10.8 MB 5.1 MB/s eta 0:00:02\n",
            "   ------------ --------------------------- 3.4/10.8 MB 5.1 MB/s eta 0:00:02\n",
            "   ------------- -------------------------- 3.7/10.8 MB 5.2 MB/s eta 0:00:02\n",
            "   -------------- ------------------------- 4.0/10.8 MB 5.2 MB/s eta 0:00:02\n",
            "   --------------- ------------------------ 4.3/10.8 MB 5.3 MB/s eta 0:00:02\n",
            "   ---------------- ----------------------- 4.3/10.8 MB 5.0 MB/s eta 0:00:02\n",
            "   ----------------- ---------------------- 4.6/10.8 MB 5.1 MB/s eta 0:00:02\n",
            "   ------------------ --------------------- 4.9/10.8 MB 5.2 MB/s eta 0:00:02\n",
            "   ------------------ --------------------- 4.9/10.8 MB 5.1 MB/s eta 0:00:02\n",
            "   ------------------- -------------------- 5.2/10.8 MB 5.1 MB/s eta 0:00:02\n",
            "   -------------------- ------------------- 5.5/10.8 MB 5.2 MB/s eta 0:00:02\n",
            "   -------------------- ------------------- 5.6/10.8 MB 5.1 MB/s eta 0:00:02\n",
            "   ---------------------- ----------------- 5.9/10.8 MB 5.1 MB/s eta 0:00:01\n",
            "   ---------------------- ----------------- 6.1/10.8 MB 5.1 MB/s eta 0:00:01\n",
            "   ----------------------- ---------------- 6.4/10.8 MB 5.1 MB/s eta 0:00:01\n",
            "   ------------------------ --------------- 6.5/10.8 MB 5.0 MB/s eta 0:00:01\n",
            "   ------------------------- -------------- 6.8/10.8 MB 5.1 MB/s eta 0:00:01\n",
            "   -------------------------- ------------- 7.1/10.8 MB 5.1 MB/s eta 0:00:01\n",
            "   --------------------------- ------------ 7.3/10.8 MB 5.1 MB/s eta 0:00:01\n",
            "   --------------------------- ------------ 7.5/10.8 MB 5.1 MB/s eta 0:00:01\n",
            "   ---------------------------- ----------- 7.8/10.8 MB 5.1 MB/s eta 0:00:01\n",
            "   ----------------------------- ---------- 7.9/10.8 MB 5.1 MB/s eta 0:00:01\n",
            "   ------------------------------ --------- 8.1/10.8 MB 5.1 MB/s eta 0:00:01\n",
            "   ------------------------------- -------- 8.5/10.8 MB 5.1 MB/s eta 0:00:01\n",
            "   ------------------------------- -------- 8.6/10.8 MB 5.0 MB/s eta 0:00:01\n",
            "   -------------------------------- ------- 8.8/10.8 MB 5.1 MB/s eta 0:00:01\n",
            "   --------------------------------- ------ 9.1/10.8 MB 5.1 MB/s eta 0:00:01\n",
            "   ---------------------------------- ----- 9.2/10.8 MB 5.1 MB/s eta 0:00:01\n",
            "   ----------------------------------- ---- 9.4/10.8 MB 5.0 MB/s eta 0:00:01\n",
            "   ----------------------------------- ---- 9.5/10.8 MB 5.0 MB/s eta 0:00:01\n",
            "   ------------------------------------ --- 9.8/10.8 MB 5.0 MB/s eta 0:00:01\n",
            "   ------------------------------------- -- 10.1/10.8 MB 5.0 MB/s eta 0:00:01\n",
            "   ------------------------------------- -- 10.2/10.8 MB 5.0 MB/s eta 0:00:01\n",
            "   ---------------------------------------  10.5/10.8 MB 5.0 MB/s eta 0:00:01\n",
            "   ---------------------------------------  10.7/10.8 MB 5.0 MB/s eta 0:00:01\n",
            "   ---------------------------------------  10.8/10.8 MB 5.0 MB/s eta 0:00:01\n",
            "   ---------------------------------------- 10.8/10.8 MB 4.9 MB/s eta 0:00:00\n",
            "Building wheels for collected packages: box2d-py\n",
            "  Building wheel for box2d-py (pyproject.toml): started\n",
            "  Building wheel for box2d-py (pyproject.toml): finished with status 'error'\n",
            "Failed to build box2d-py\n"
          ]
        },
        {
          "name": "stderr",
          "output_type": "stream",
          "text": [
            "  error: subprocess-exited-with-error\n",
            "  \n",
            "  × Building wheel for box2d-py (pyproject.toml) did not run successfully.\n",
            "  │ exit code: 1\n",
            "  ╰─> [16 lines of output]\n",
            "      Using setuptools (version 69.1.1).\n",
            "      running bdist_wheel\n",
            "      running build\n",
            "      running build_py\n",
            "      creating build\n",
            "      creating build\\lib.win-amd64-cpython-312\n",
            "      creating build\\lib.win-amd64-cpython-312\\Box2D\n",
            "      copying library\\Box2D\\Box2D.py -> build\\lib.win-amd64-cpython-312\\Box2D\n",
            "      copying library\\Box2D\\__init__.py -> build\\lib.win-amd64-cpython-312\\Box2D\n",
            "      creating build\\lib.win-amd64-cpython-312\\Box2D\\b2\n",
            "      copying library\\Box2D\\b2\\__init__.py -> build\\lib.win-amd64-cpython-312\\Box2D\\b2\n",
            "      running build_ext\n",
            "      building 'Box2D._Box2D' extension\n",
            "      swigging Box2D\\Box2D.i to Box2D\\Box2D_wrap.cpp\n",
            "      swig.exe -python -c++ -IBox2D -small -O -includeall -ignoremissing -w201 -globals b2Globals -outdir library\\Box2D -keyword -w511 -D_SWIG_KWARGS -o Box2D\\Box2D_wrap.cpp Box2D\\Box2D.i\n",
            "      error: command 'swig.exe' failed: None\n",
            "      [end of output]\n",
            "  \n",
            "  note: This error originates from a subprocess, and is likely not a problem with pip.\n",
            "  ERROR: Failed building wheel for box2d-py\n",
            "ERROR: Could not build wheels for box2d-py, which is required to install pyproject.toml-based projects\n",
            "\n",
            "[notice] A new release of pip is available: 23.3.2 -> 24.0\n",
            "[notice] To update, run: python.exe -m pip install --upgrade pip\n"
          ]
        }
      ],
      "source": [
        "!pip install gymnasium\n",
        "!pip install \"gymnasium[atari, accept-rom-license]\"\n",
        "!apt-get install -y swig\n",
        "!pip install gymnasium[box2d]"
      ]
    },
    {
      "cell_type": "markdown",
      "metadata": {
        "id": "brqiMN3UW9T9"
      },
      "source": [
        "### Importing the libraries"
      ]
    },
    {
      "cell_type": "code",
      "execution_count": 2,
      "metadata": {
        "id": "mZaKXP_aMl9O"
      },
      "outputs": [
        {
          "ename": "ModuleNotFoundError",
          "evalue": "No module named 'torch'",
          "output_type": "error",
          "traceback": [
            "\u001b[1;31m---------------------------------------------------------------------------\u001b[0m",
            "\u001b[1;31mModuleNotFoundError\u001b[0m                       Traceback (most recent call last)",
            "Cell \u001b[1;32mIn[2], line 4\u001b[0m\n\u001b[0;32m      2\u001b[0m \u001b[38;5;28;01mimport\u001b[39;00m \u001b[38;5;21;01mrandom\u001b[39;00m\n\u001b[0;32m      3\u001b[0m \u001b[38;5;28;01mimport\u001b[39;00m \u001b[38;5;21;01mnumpy\u001b[39;00m \u001b[38;5;28;01mas\u001b[39;00m \u001b[38;5;21;01mnp\u001b[39;00m\n\u001b[1;32m----> 4\u001b[0m \u001b[38;5;28;01mimport\u001b[39;00m \u001b[38;5;21;01mtorch\u001b[39;00m\n\u001b[0;32m      5\u001b[0m \u001b[38;5;28;01mimport\u001b[39;00m \u001b[38;5;21;01mtorch\u001b[39;00m\u001b[38;5;21;01m.\u001b[39;00m\u001b[38;5;21;01mnn\u001b[39;00m \u001b[38;5;28;01mas\u001b[39;00m \u001b[38;5;21;01mnn\u001b[39;00m\n\u001b[0;32m      6\u001b[0m \u001b[38;5;28;01mimport\u001b[39;00m \u001b[38;5;21;01mtorch\u001b[39;00m\u001b[38;5;21;01m.\u001b[39;00m\u001b[38;5;21;01moptim\u001b[39;00m \u001b[38;5;28;01mas\u001b[39;00m \u001b[38;5;21;01moptim\u001b[39;00m\n",
            "\u001b[1;31mModuleNotFoundError\u001b[0m: No module named 'torch'"
          ]
        }
      ],
      "source": [
        "import os\n",
        "import random\n",
        "import numpy as np\n",
        "import torch\n",
        "import torch.nn as nn\n",
        "import torch.optim as optim\n",
        "import torch.nn.functional as F\n",
        "import torch.autograd as autograd\n",
        "from torch.autograd import Variable\n",
        "from collections import deque, namedtuple"
      ]
    },
    {
      "cell_type": "markdown",
      "metadata": {
        "id": "EzlDKXvkXzGI"
      },
      "source": [
        "## Part 1 - Building the AI"
      ]
    },
    {
      "cell_type": "markdown",
      "metadata": {
        "id": "UtG6Zc83YYy3"
      },
      "source": [
        "### Creating the architecture of the Neural Network"
      ]
    },
    {
      "cell_type": "code",
      "execution_count": null,
      "metadata": {
        "id": "Fd7QXfZHTLmz"
      },
      "outputs": [],
      "source": [
        "class Network(nn.Module):\n",
        "\n",
        "  def __init__(self,state_size,action_size,seed=42):\n",
        "     super(Network,self).__init__()\n",
        "     self.seed=torch.manual_seed(seed)\n",
        "     self.fc1= nn.Linear(state_size,64)\n",
        "     self.fc2= nn.Linear(64,64)\n",
        "     self.fc3= nn.Linear(64,action_size)\n",
        "\n",
        "  def forward(self,state):\n",
        "     x= self.fc1(state)\n",
        "     x= F.relu(x) #rectification\n",
        "     x= self.fc2(x)\n",
        "     x= F.relu(x) #rectification\n",
        "     return self.fc3(x)"
      ]
    },
    {
      "cell_type": "markdown",
      "metadata": {
        "id": "UxVrBnFWZKb1"
      },
      "source": [
        "## Part 2 - Training the AI"
      ]
    },
    {
      "cell_type": "markdown",
      "metadata": {
        "id": "T364fz9qZb2j"
      },
      "source": [
        "### Setting up the environment"
      ]
    },
    {
      "cell_type": "code",
      "execution_count": null,
      "metadata": {
        "colab": {
          "base_uri": "https://localhost:8080/"
        },
        "id": "vyBq_R3JYRnO",
        "outputId": "9dabd415-fdd6-47b2-ea8f-720afe657d96"
      },
      "outputs": [
        {
          "name": "stdout",
          "output_type": "stream",
          "text": [
            "state shape: (8,)\n",
            "state size: 8\n",
            "number of actions: 4\n"
          ]
        }
      ],
      "source": [
        "import gymnasium as gym\n",
        "env = gym.make(\"LunarLander-v2\")\n",
        "state_shape = env.observation_space.shape\n",
        "state_size = env.observation_space.shape[0]\n",
        "number_actions = env.action_space.n\n",
        "print('state shape:', state_shape)\n",
        "print('state size:', state_size)\n",
        "print('number of actions:', number_actions)"
      ]
    },
    {
      "cell_type": "markdown",
      "metadata": {
        "id": "c_dZmOIvZgj-"
      },
      "source": [
        "### Initializing the hyperparameters"
      ]
    },
    {
      "cell_type": "code",
      "execution_count": null,
      "metadata": {
        "colab": {
          "base_uri": "https://localhost:8080/"
        },
        "id": "JH1LUGMhaFoj",
        "outputId": "cbbe20aa-2429-4880-c58a-420cf27b9632"
      },
      "outputs": [
        {
          "name": "stderr",
          "output_type": "stream",
          "text": [
            "/usr/local/lib/python3.10/dist-packages/ipykernel/ipkernel.py:283: DeprecationWarning: `should_run_async` will not call `transform_cell` automatically in the future. Please pass the result to `transformed_cell` argument and any exception that happen during thetransform in `preprocessing_exc_tuple` in IPython 7.17 and above.\n",
            "  and should_run_async(code)\n"
          ]
        }
      ],
      "source": [
        "learning_rate = 5e-4 #0.0005\n",
        "minibatch_size = 100\n",
        "discount_factor = 0.99\n",
        "replay_buffer_size = int(1e5)  #100000\n",
        "interpolation_parameter = 1e-3  #0.001"
      ]
    },
    {
      "cell_type": "markdown",
      "metadata": {
        "id": "8hD_Vs-bYnip"
      },
      "source": [
        "### Implementing Experience Replay"
      ]
    },
    {
      "cell_type": "code",
      "execution_count": null,
      "metadata": {
        "colab": {
          "base_uri": "https://localhost:8080/"
        },
        "id": "Pb2ew2TXzyim",
        "outputId": "13156a6f-f87e-4628-962e-afde63863d28"
      },
      "outputs": [
        {
          "name": "stderr",
          "output_type": "stream",
          "text": [
            "/usr/local/lib/python3.10/dist-packages/ipykernel/ipkernel.py:283: DeprecationWarning: `should_run_async` will not call `transform_cell` automatically in the future. Please pass the result to `transformed_cell` argument and any exception that happen during thetransform in `preprocessing_exc_tuple` in IPython 7.17 and above.\n",
            "  and should_run_async(code)\n"
          ]
        }
      ],
      "source": [
        "class ReplayMemory(object):\n",
        "\n",
        "   def __init__(self,capacity):\n",
        "      self.device = torch.device(\"cuda:0\" if torch.cuda.is_available() else \"cpu\") #Gpu or cpu allocated\n",
        "      self.capacity=capacity\n",
        "      self.memory=[]\n",
        "\n",
        "   def push(self, event):\n",
        "      self.memory.append(event)\n",
        "      if len(self.memory)>self.capacity:\n",
        "        del self.memory[0]\n",
        "\n",
        "   def sample(self, batch_size):\n",
        "      experiences = random.sample(self.memory, k= batch_size)\n",
        "      states = torch.from_numpy(np.vstack([e[0] for e in experiences if e is not None])).float().to(self.device)\n",
        "      actions = torch.from_numpy(np.vstack([e[1] for e in experiences if e is not None])).long().to(self.device)\n",
        "      rewards = torch.from_numpy(np.vstack([e[2] for e in experiences if e is not None])).float().to(self.device)\n",
        "      next_states = torch.from_numpy(np.vstack([e[3] for e in experiences if e is not None])).float().to(self.device)\n",
        "      dones = torch.from_numpy(np.vstack([e[4] for e in experiences if e is not None]).astype(np.uint8)).float().to(self.device)\n",
        "      return states,next_states,actions ,rewards, dones"
      ]
    },
    {
      "cell_type": "markdown",
      "metadata": {
        "id": "JmEkbFbUY6Jt"
      },
      "source": [
        "### Implementing the DQN class"
      ]
    },
    {
      "cell_type": "code",
      "execution_count": null,
      "metadata": {
        "id": "wQTcKuJ2z9iK"
      },
      "outputs": [],
      "source": [
        "class Agent():\n",
        "\n",
        "  def __init__(self, state_size, action_size):\n",
        "    self.device = torch.device(\"cuda:0\" if torch.cuda.is_available() else \"cpu\")\n",
        "    self.state_size = state_size\n",
        "    self.action_size = action_size\n",
        "    self.local_qnetwork = Network(state_size, action_size).to(self.device)\n",
        "    self.target_qnetwork = Network(state_size, action_size).to(self.device)\n",
        "    self.optimizer = optim.Adam(self.local_qnetwork.parameters(), lr = learning_rate)\n",
        "    self.memory = ReplayMemory(replay_buffer_size)\n",
        "    self.t_step = 0\n",
        "\n",
        "  def step(self, state, action, reward, next_state, done):\n",
        "    self.memory.push((state, action, reward, next_state, done))\n",
        "    self.t_step = (self.t_step + 1) % 4\n",
        "    if self.t_step == 0:\n",
        "      if len(self.memory.memory) > minibatch_size:\n",
        "        experiences = self.memory.sample(100)\n",
        "        self.learn(experiences, discount_factor)\n",
        "\n",
        "  def act(self, state, epsilon = 0.):\n",
        "    state = torch.from_numpy(state).float().unsqueeze(0).to(self.device)\n",
        "    self.local_qnetwork.eval()\n",
        "    with torch.no_grad():\n",
        "      action_values = self.local_qnetwork(state)\n",
        "    self.local_qnetwork.train()\n",
        "    if random.random() > epsilon:\n",
        "      return np.argmax(action_values.cpu().data.numpy())\n",
        "    else:\n",
        "      return random.choice(np.arange(self.action_size))\n",
        "\n",
        "  def learn(self, experiences, discount_factor):\n",
        "    states, next_states, actions, rewards, dones = experiences\n",
        "    next_q_targets = self.target_qnetwork(next_states).detach().max(1)[0].unsqueeze(1)\n",
        "    q_targets = rewards + discount_factor * next_q_targets * (1 - dones)\n",
        "    q_expected = self.local_qnetwork(states).gather(1, actions)\n",
        "    loss = F.mse_loss(q_expected, q_targets)\n",
        "    self.optimizer.zero_grad()\n",
        "    loss.backward()\n",
        "    self.optimizer.step()\n",
        "    self.soft_update(self.local_qnetwork, self.target_qnetwork, interpolation_parameter)\n",
        "\n",
        "  def soft_update(self, local_model, target_model, interpolation_parameter):\n",
        "    for target_param, local_param in zip(target_model.parameters(), local_model.parameters()):\n",
        "      target_param.data.copy_(interpolation_parameter * local_param.data + (1.0 - interpolation_parameter) * target_param.data)"
      ]
    },
    {
      "cell_type": "markdown",
      "metadata": {
        "id": "o1tZElccZmf6"
      },
      "source": [
        "### Initializing the DQN agent"
      ]
    },
    {
      "cell_type": "code",
      "execution_count": null,
      "metadata": {
        "id": "BuXh2lUS_3NU"
      },
      "outputs": [],
      "source": [
        "agent = Agent(state_size , number_actions)"
      ]
    },
    {
      "cell_type": "markdown",
      "metadata": {
        "id": "E8v0PtUfaVQp"
      },
      "source": [
        "### Training the DQN agent"
      ]
    },
    {
      "cell_type": "code",
      "execution_count": null,
      "metadata": {
        "colab": {
          "base_uri": "https://localhost:8080/"
        },
        "id": "FRu-LfAhHvo1",
        "outputId": "429300b9-d583-4427-c87c-489783ca372a"
      },
      "outputs": [
        {
          "name": "stdout",
          "output_type": "stream",
          "text": [
            "Episode 100\tAverage Score: -160.04\n",
            "Episode 200\tAverage Score: -139.07\n",
            "Episode 300\tAverage Score: -2.12\n",
            "Episode 400\tAverage Score: 55.92\n",
            "Episode 500\tAverage Score: 182.89\n",
            "Episode 537\tAverage Score: 200.82\n",
            "Environment solved in 437 episodes!\tAverage Score: 200.82\n"
          ]
        }
      ],
      "source": [
        "number_episodes = 2000\n",
        "maximum_number_timesteps_per_episode = 1000\n",
        "epsilon_starting_value  = 1.0\n",
        "epsilon_ending_value  = 0.01\n",
        "epsilon_decay_value  = 0.995\n",
        "epsilon = epsilon_starting_value\n",
        "scores_on_100_episodes = deque(maxlen = 100)\n",
        "\n",
        "for episode in range(1, number_episodes + 1):\n",
        "  state, _ = env.reset()\n",
        "  score = 0\n",
        "  for t in range(maximum_number_timesteps_per_episode):\n",
        "    action = agent.act(state, epsilon)\n",
        "    next_state, reward, done, _, _ = env.step(action)\n",
        "    agent.step(state, action, reward, next_state, done)\n",
        "    state = next_state\n",
        "    score += reward\n",
        "    if done:\n",
        "      break\n",
        "  scores_on_100_episodes.append(score)\n",
        "  epsilon = max(epsilon_ending_value, epsilon_decay_value * epsilon)\n",
        "  print('\\rEpisode {}\\tAverage Score: {:.2f}'.format(episode, np.mean(scores_on_100_episodes)), end = \"\")\n",
        "  if episode % 100 == 0:\n",
        "    print('\\rEpisode {}\\tAverage Score: {:.2f}'.format(episode, np.mean(scores_on_100_episodes)))\n",
        "  if np.mean(scores_on_100_episodes) >= 200.0:\n",
        "    print('\\nEnvironment solved in {:d} episodes!\\tAverage Score: {:.2f}'.format(episode - 100, np.mean(scores_on_100_episodes)))\n",
        "    torch.save(agent.local_qnetwork.state_dict(), 'checkpoint.pth')\n",
        "    break"
      ]
    },
    {
      "cell_type": "markdown",
      "metadata": {
        "id": "O8CNwdOTcCoP"
      },
      "source": [
        "## Part 3 - Visualizing the results"
      ]
    },
    {
      "cell_type": "code",
      "execution_count": null,
      "metadata": {
        "colab": {
          "base_uri": "https://localhost:8080/",
          "height": 459
        },
        "id": "cb9nVvU2Okhk",
        "outputId": "9655ea48-09b9-47ba-a632-b22e70b472e5"
      },
      "outputs": [
        {
          "name": "stderr",
          "output_type": "stream",
          "text": [
            "WARNING:imageio_ffmpeg:IMAGEIO FFMPEG_WRITER WARNING: input image is not divisible by macro_block_size=16, resizing from (600, 400) to (608, 400) to ensure video compatibility with most codecs and players. To prevent resizing, make your input image divisible by the macro_block_size or set the macro_block_size to 1 (risking incompatibility).\n"
          ]
        },
        {
          "data": {
            "text/html": [
              "<video alt=\"test\" autoplay\n",
              "                loop controls style=\"height: 400px;\">\n",
              "                <source src=\"data:video/mp4;base64,AAAAIGZ0eXBpc29tAAACAGlzb21pc28yYXZjMW1wNDEAAAAIZnJlZQABEM1tZGF0AAACrgYF//+q3EXpvebZSLeWLNgg2SPu73gyNjQgLSBjb3JlIDE1OSByMjk5MSAxNzcxYjU1IC0gSC4yNjQvTVBFRy00IEFWQyBjb2RlYyAtIENvcHlsZWZ0IDIwMDMtMjAxOSAtIGh0dHA6Ly93d3cudmlkZW9sYW4ub3JnL3gyNjQuaHRtbCAtIG9wdGlvbnM6IGNhYmFjPTEgcmVmPTMgZGVibG9jaz0xOjA6MCBhbmFseXNlPTB4MzoweDExMyBtZT1oZXggc3VibWU9NyBwc3k9MSBwc3lfcmQ9MS4wMDowLjAwIG1peGVkX3JlZj0xIG1lX3JhbmdlPTE2IGNocm9tYV9tZT0xIHRyZWxsaXM9MSA4eDhkY3Q9MSBjcW09MCBkZWFkem9uZT0yMSwxMSBmYXN0X3Bza2lwPTEgY2hyb21hX3FwX29mZnNldD0tMiB0aHJlYWRzPTMgbG9va2FoZWFkX3RocmVhZHM9MSBzbGljZWRfdGhyZWFkcz0wIG5yPTAgZGVjaW1hdGU9MSBpbnRlcmxhY2VkPTAgYmx1cmF5X2NvbXBhdD0wIGNvbnN0cmFpbmVkX2ludHJhPTAgYmZyYW1lcz0zIGJfcHlyYW1pZD0yIGJfYWRhcHQ9MSBiX2JpYXM9MCBkaXJlY3Q9MSB3ZWlnaHRiPTEgb3Blbl9nb3A9MCB3ZWlnaHRwPTIga2V5aW50PTI1MCBrZXlpbnRfbWluPTI1IHNjZW5lY3V0PTQwIGludHJhX3JlZnJlc2g9MCByY19sb29rYWhlYWQ9NDAgcmM9Y3JmIG1idHJlZT0xIGNyZj0yMy4wIHFjb21wPTAuNjAgcXBtaW49MCBxcG1heD02OSBxcHN0ZXA9NCBpcF9yYXRpbz0xLjQwIGFxPTE6MS4wMACAAAAHU2WIhAA3//728P4FNlYEUJcRzeidMx+/Fbi6NDe92RHggdr9AG2GsoFXoglO40GweaC4Ve/MhMmG6s7VoH1ZaltJI6ag9IID4XywrH7018toTprvQXfn5GeWiu32MTKdikISGWmSxApX46QtUYZjLiBwR/NBF4yYnEoOrySatWscjmjcq/beasz3hcXg2w7ckXhxgKDY1h50hsIBymlvmtuZ/rxnhwRfTrLqkeYb27dEzpN/tHJIFrZtlCjXgJCAKDed495WM1xbulG51yeDjjLnSFN/oTLcXgI1Oj/wPyOajohqkhvFwAAAAwAAi3RvS0VAJ29oN5htSxY4YEAVh0I0EmUF6bSTrEkh1gO8DAgF6+3cy1pa54Yf0NJUsD9AfMheXab6qOBugAAoQG9ZNOGwEsEVEkGIJoQckZEiwG+Bz6GzpBKswA3zWtCwtlOkWkz5NBtCEZl/uiVPHvu+cArs1OflXYQlnoHhlUUJwddixzKZgOBQ8YdrS/f9JeGO0fy7rLmuV07oLDhYia4RQwFvXOJiS2IRAniL93ZNs/8awF6eaq2EhCYrnxb6uQQNnqYWPrfBkmkBnn0+miqZnUGIpR0LWaxoZH8JSD9fijH09ulSNHW7ZCidezo0qMwEGkklOi2sluGWVoA14bGcNyENYh5PHr1/hTfPRdITrz/6P9te1T9+P+yJvT4x7yc2u6wl9xIvvMuPu8EfugMSFO0h2nz682JsKCTUx5ztuFHvIOsm6pCY5n7ylVEh+7n5TLV1uVUztoEre12tArrPLdH84IiA7vtLtLxAtiwSmQC5RxmgkD/2LZrLsYd4PcRFDK+4U1d/sslqS6H1RnKVP2/0gQrmEN3QzzcJDCVkFTorHhQIBn/2iLXA/UVCikStFP+nWmUjuEWx4vMiEZ7fTN1lI6uE9nAyNteLkf6Xjt9naRncQyEH7Witl2IA1Vk/qcQe/0vxnSzFRSordDh9TlEFao81y2aIN/38/GoeWN/yZ6WyP/Y1rNXKDyfwjmHSLnpc7aLIieyeweTn413dLkyMkmxsYnWDEym5o0qYRdLlsD1QWe6qTpWwRO3hKm2ShxxfAdEVbar4J0d10VZdMadZ7HisIEri4X2tJixsoOuwVr19nBt9WyvvQY7joKtzmSiDjoEVtyRQiCKWEE8phVh9P9p3mwW0f8/ADORbtzNu7g0vVA+Fnu9OJqt8Bitf1jmovYGMirP0Y5B4Na587p1HSaqUrllYXZinEz/d+C8lT10AsAOFmFSiMxzb8CXr2HJXjmlIa+VxmykG0EcKe0bbbE0MWxqq3HvL8lMybKAUwjC5YxtoiAOBwBOrXE1MajbvOX/FR1TTRZ9B87Q46JXhsyDB2X1b8ulYfVcrMIb9kz7SxJBijE76vzEZKACoNwli0iDcJW/edR1TkCa/OQ1HcRqkwztMj6NBsF6p4KRGFoAIf4wk3lvi91P9+EXWpJi351vlTpoT2MNVE5qNnFiwTLQ5Iz9CwkxypvYLsTMqy1Zzhd3hOEiG5WAA/9bH15g7c35yxpnXT6hlVRY5iYdv3Kc+3frZ+XVdGHBI61pDQopTMQ7ZsrbvGVzvE5xOWJzXaXB6ZXgaOWIQYvs/0JPCaVespC0RsARNwkrpIqG+P+Tv1Zv74r1ffqPXyzVG/HNVlGBm5coRCF7jDs7EZbWK5JkLaagMMx5E9njyRvJc3ecbW4YRmS6LMyB/roi/hMCN6rLm7ceeE8SCoQRQ2VJ7/jDFOUe5Zbd2INmhrbOLVHmhDC/G0Ed8ROAAFDmnliqoOVkUNznETeoEUv9p6ciV6ogXZBI/E2/ZzkfunxXGEdlYEuPdoOXQjoiDUS7O1U5blTNtUA8PzE0WUpoaoXJwCshDQSmA7Y0yS20fVbUYTj3aLEzQ7hoxZpeWk+ClKRGbqbqQqM6jOjwJjNxc2e7xfuMrxUzBr2opGsmKryB3TJ5h/7Azs1L+tR2MufJKvbePSu399kKmDeZg5zRJQAc8iL0LaOTDAi7AumB0N2SCAY68gBwZjPHw+nMEckT3lPKhyq1yUbXMt3rsZ62y7eQy2o4nsth4zR5oDO0ZptPG/cYLO/gUXMYpTCOW0huiUMf4DVvPNyA81xmmpekyMK2de2kBPx6qjAzY0KJ3f4hwL0LClrJS0NZRUp8nMIgmGFjQ5uTwBoK0WWqEcDuLR2fXetGzuXCYgzLQlg931oANAX//e0ueVSbfCypsBRshzItvJOiRorg5XMoHNEz8OXVyYNEH+Un2bAFbJTuTq4m3A+9vU/po/O2iiTnIYHcM3Koyl6E809YSd7IuJpm/R7HboRf4lNKDpfxAhO81+sllcbv865uG7WO/7RlnXiO1qA/dy4VaUFEVRoh1hDYjbA5Mtt7Ylr2Nv/11N1bI9lJgo9tYvuVG65CEn6K2JCAwdRzKfVPnuohgnLj3aq01QPvRMl+iBdk4ZawPsBK+wEZjDhZ91pJHdAAAAwAAAwAAAwCAgQAAAZpBmiNsQz/+ni0nblmYABw8DlPCN7yftbEJxaggCiXS2Uf/NCZr05mlgqvYJmK3OSfHyyD9+u7QZPDE6Z9JVeNm7hejKV1VsmvLSp22nlvJplfzWFbu5Vshg7G2+PpKuv1EE0+AfR5jPvCWatR7yrs385/JGIroGfUuEzLqYKwZ0gAAAwACgkgUImmMLpOqJgd44CK/kYCmX6ixGksvXnpd6FIl6Ml2PPg5ZyuyBk+f8MoTuuAZOjNnk3R4Cw3DR86ZZ9lujmGWmIHjQJs9nAdbS8xPlhq/nvdtUzdgtjwQ39alWkQZ/FmDH4cTwhO3Y1pvxmsl+yEmysM99SE+fg180QetBiTrs89v/6XMa4my8QOHCwSJyjJLUyu8OaCyKF0/1WO8Oh0/ectGaBitOsWp2GOIKKmOxO5xv+zRRhBNRQLQLkaJaopiLFJuBT4LHBIlCks04R6IKdo9wnIM3KMjzoFpbcacj3ZQxcsyQp5xEH50M12HZdPazNWDI6dgeKNjbX2jbFYprxafDj5FSgQ9UaUpi7khXEwlgAAAAEtBnkF4hX8L7fks3+UbL/gAEJQwpiF+GnZf5ksgVAK13pSroFDvPm0NdgAqs3Ao+DhHG1NU9Ya3OV2vJYtq+RMm+kv13dqPCXigCZkAAABWAZ5iakJ/DbgVuqASVB8/oLaEvtawAmrPx+2b7u1nQc+I5boM+CFcCpKIrUVwlq2pRgubkNkVnrLcp0vLksADTOq+f+Jpi0v/YqwHkP3u9OV6ciWgB3QAAACsQZplSahBaJlMFPDf/qePPJRHENvuIA4QIkDIr1yol6PJahtfCavPYJyP1xI92A0Q6xBhA4dQTtXVuZD8Sp3tdGhkMfM5lm4ICxgAAAMBIEpZd9Qt+VWumcZixcLcXiX2RdGNAV/52pqxKBEVGT4Mi6h/LcMOKw3qr3u2p4m/0iwaArez+M7XIAWUqCCuzVMfq/7HGT4poBKWayYLcSekTYzfmmhghgKGhv7osQAAAEsBnoRqQn8N3V6C98T2jcxMvknCvuagAnb1eYb1Hule808SobUqx0zhfLZu9zWxUZvAEWDGmLFq2JXNHpwCiiVzV5tnaEPfbsYA+YEAAAD9QZqHSeEKUmUwUsN//qePf7OB5E91RIglWoS69nYMmiFQqshrfalIgIzs9H9+2JeRlohdo77goW+uFteFeZDDiNhzTSzGxJZ3Bw4KbdKpN8/u3FXY1aufbbsqE0xulwLJXYgD8YPSdPFXlEAAABSPlV09g53wWchtUhe9d6HpGO6ZQiLBajXw9BheYFwRFFV00OzKh7OGnG+6s+gQX1LmLlhJS8Qyf+h0Y7ke+7apmor8U4KUJUpLgruFnBeL6iD/jN3qrCpZ5LHIStx/Wu6Yd70iV11TOo8L5LJjQZGoZhpGKiuXuz/+J+A0dJKiQ+Eld+Tz5lgyBWtHTNmK8QAAAFEBnqZqQn8NFblo9AIt5TAjp6kAP6HW0NKtsTwkhfU6D3IlLw95SZ+U5KBDCQa0wSBgiK6AMd8RGIAgfYLs66GpFy3k1qKGytMgBcJF7vrAHtEAAAD3QZqqSeEOiZTAhv/+p48Jxx7kAbhBR+cJCCY1+P3aglqAvXditseG7prvhmH25fMqtoRO/xRZIAAAAwCJVUCRDoj+nMAAqI71GN2i8KX6peSH7wS8TR7HOVbgn8oK97tqmZ85OCzpGqFovasUvJFJRA5PW0bpbo8IF0SNAmD49yD4ddx8F8unVmQ9FO9FkMJiyYih3Jx3IysQossoWWsOdUeQMTMMu3PKAwYnTqfg65HNNCFVE4Xm+O2g29qnKJQBHYFTkIahRHL/m8Phw+CJbtJ3wd/Urnl3N2jQ35FjRl90VOjf4r0l5a4n929k48s3os3vdHBSQAAAAGNBnshFFTwr/wvQgxf2/9oB7JLcqpZHkvkVwHkrHyR/uIuIpu6YIAb+Q3ZsLtSj2I4z+4r91AloS4oOmKhjbxOawDKpkl8dcOHcm7D5KageZji6+67Gyycp4/FYIN9c319QDVgAAABsAZ7pakJ/DfPZpV24acEI0HQNSDXOsPgABakCGNQ1CLQGJwTyml7PtYUtSBn3kCWr+jCqfV8C9+tteDSar7K9u0iIt640xumjuqkYogdyu7/lnDzw30EbFBycQBkz0DQwhXOY/9VuP/3RgIeBAAAA0UGa7EmoQWiZTBTw3/6nlHIVPABtVx7zWadCDvQxZdvRP9II+jDa/eSAT+1Ffe1LYr8LNBBsCiT4hNvlg4m13FvlY8cErd3jcrqMx0fgFfELinBELrPetsrmCL+KJbgZanQE5OmcCO5asBoH18Yx3GBfB44eJ1CvGUCPBwv07SUjL9nmkRFSU4ZgaKKSeK/I3O6IXNJiN1oOnPbB2cOD1Q0J32JVeDOTeKtIv3AodIi9ESMZlnM1hOlEWIdHgLyUDLaxKHP5SwVocn6nuNcgALOAAAAAfgGfC2pCfw+Z8K7ipFepgCJCreZ44Cv6bX4twJ5M/+g3fy/CvDWN+n8tjjDQKDyJOnuXmoB9p212jOEMEKoegVSW4ynkya/4Kh3BpJeUyeyWxqkUVSr4ZTIBfhzyUePNyYOaRI0c/bHL9F5r9+4wD49Q8ZWpD+8u5a5zCvAEnAAAALpBmw5J4QpSZTBSw3/+p7bzrkAE6o64nCbWrrUftruU6aqhP7uwDNd5yocp51PH4sWy7a4mZs0Vd5EYaDSHrc6i8237vnIPw5OygdgXJE6g5svEv1itlaPWniUpKRKLtpYzWKdJ4gJOLIZji3JcjBsEapUt4gpjJiflmYu1FF98Iwnu0TTyIqvWn/rQ/jv/Tegwb6x7p1/ni+1bIRJr0qwXlb7Um+f4woFYyMv7yBIGjNxqzTKBc8BuAZkAAABvAZ8takJ/FDxwTcESuLAA49nf24Ys5J0uhbNhiHdpjLP6KWRsDmL+XbIUi7fy6+L1y7SY5WFXHGhN2Pi7yj2UNH3ViUJ0MjHwEditX1IGOBxOLgjztiQoj9SjibC930fO99UWvMCP+3r6r/W2aAUFAAAAnUGbMUnhDomUwIb//qe3XzpgDy8Kr6CXSUlTof/s3/Gkh3eAOEAH0L7D8HQ/h8mX7+mdVBZeagc0+i8SmbNoLBTR6gIFJFTmlsVGowk3Gp/gfjWJSgUfMMjbXGRy1e5SOFAySQhISV5crTvyX6tCOjh/Qk7rudHeZGYLVwl31W2ZByOh44W98IAw5ycBfCYufJkWbQHOg+Vs4d59hvUAAAB0QZ9PRRU8K/8Spu4F72/ABGBW1pdYfhj++cFXhjnsG3+2oji8UYr+7yYXyvhtHffJ60kicHUDh2urFJslior1DJjuU3X/fW1Y1r8rPw/3sSdEX5cJNqUyN3wodh9+vvJmGVrxlfNrSAeKXcXby4mZftUAUEAAAABkAZ9wakJ/G/t0AF/sZOHbfQVsao/nguBOv+1Jq7AwAynTN8+QTsstJwXonjLsed2nyqIVhdjvRlbesPeQX8kGjDqJdSwKeOVQqTc3NRClKmrUbrx3vgQgdqBJPY/rC/3RmogQcAAAAPlBm3RJqEFomUwIb//+p4QAtfvCW/F1Ua4Q3wiuJBAIURzct0tDsSwyw4FXolR5Lfl0NsIr9+vnRYD3Scr2NyGxOvzIbNehwhqYCg64i6/lJD4kByMxMb9cHm6MDhPe7Q0DpswozLAhUYCJqb1+mqlYTN0QLxxr5BAbH3NaD/L/G3nId9xTGGw99lj1WuUoidFZxzGYijoGvRl1bGGBYMUls8ifL2YxFU1Z5r96ma99sq7/jTvwY7Vu8bVkEt+iF9loBCShCJca3OU+arSej+HGDPTAsrkR1Dl62MzDII1sRqbX35gi0MQtttkOadTOrw8dpjRU98y6DrkAAABrQZ+SRREsK/8AlsfeXjGSKFWCXqUB9RUC0s6z+RYqdUABHUVqmGaoDFNMp/+jaPb1J2+3JweDV7zuoTTvEUxQAEZu2a1pkBxwM2XVaFsA+X53wPFl0P+ncvHeDb4SXQi00fsqFWGH5arsAk4AAAB8AZ+zakJ/AL8JkG5nRaK/4FYK80QArB+XBXkpXB866EeSIU26aG9Q9eSjI8eG5uWEjg+Xwaz0K0PA9MXPu+/hE8N+xfiK4lsw5tyItGf6Lx1Y3HsvK41pGuRDtb7ldK5C/l7oYHXE7nQdZMm8CiAkwhd7u64iW3/1WlQRcAAAAb9Bm7hJqEFsmUwIZ//+nhABDum9Hol+WbLmv91S50U0sAJQPnE5/Y7YE9vQn9CYUXU104ajpf/2SaobE2SCokqK+dui/xg295410CSq+9Oim9FNk6+qepRpWd6U3w2SBHJ5aDQBSDFmZ5IOC3i6Tr4zQAnJgpJ2xTh2YLllqN9Y/SPeaH0xwF1mkc/b/uvHr1kPMYR1R/octm3kV1XJ/btRuG8i8+niKo66LD/X36Q9qb94Bv1nCLWs9ybMFyhoD6z2KW5pdUwo3AUgF8RqWGQQJudp3TR6EBlGQovBWg3TwLCoHlEd7z3fsifTkNTqwdmUp+L6IsKO3JRjxcFWqFLyinH5lrPdEZEN0ERk7OAzF1EtGupNbVGgmrHFbcez7Kfe3Ifw7EUJOWvEupoeDHfXziTZ20qu63bM6iDer2oSZrql/acVYECTJhrSYlQCb1bXzVZXePmVbB69Kdi+x/sK8MR2nYK5YBqFhG6V9gFn++qhH31oWCwlWkyynRgkuBiayetgcyOMtT3FfWhkcZWz55Au6rrxZnxCitg+OK1HC525/wyFnEra1frBB954zdoZOOIF+IlsgXgl+/IgqYEAAACrQZ/WRRUsK/8AOKqL0BA5lc8MUBxazaGJ/bMaet244RjBT/gvyaACcF6Uj9yxrq2+RwGmOw98dyMV2KAWhCrc9+WEM65muM3iM6yJtG0/wlXO1bMXIE4tkz8DXx8Mjiw0gxU6CpGmK1raMg3a8172kVZW1DIfgMZLN3wjta23zYdB44wvmEMf4MJpbw4Sz8QMXHH+fs6+niGQkhf0OaNkzTw4tLGDxZqrDaFxAAAAlwGf9XRCfwBJakj7xuRCuRokY9NDil753IKTC9abwJLLOiCjkJ8v8XuAE0zM4ymZKw5ocZEAMUwpSR3Osk466ZTvFU32g2fBOwo9mYe4KDltcEigaOsftjRLJZaI/yk1txxJM5gxhFsp+hD5tVy7uhp4HqcUUL2kmsFQQSZGPRwsqiAweGzjkmUsLpwkMYtTCB0ER6gAnYEAAACRAZ/3akJ/AEliMDczvZVJ6mKRR8p2fxPTPtWLqOnw/2VVk+ZMQ+JUl4/pP4cmAIQ/VAcdkorxdHe+N9t4zsGIACJocTps+l8Cm6seQztINVEtLge9fLnC3ZLYxR6VKrMd9iWexMgHl9x+1nLSJe3ucBT7SBfxQ+yuTUd+InmUb70V8MCk8KAHon5QOVdqQEAEXQAAAQZBm/lJqEFsmUwIb//+p4QAGx4TyrWX1C/OMflk+NXnkg9ctJz1NDGjQBVI/UMQtqVDaZr+IdX7JlE7sI1k3A4SF5v1I/zBhCFUv5Fw+bwLUJOOGWiyPlmrjUuya9ePSxWX6wqthZx/hokCU6kAdY4SIUIz+buGfpryakWfRSfxIbX3AjAaTGyO8r3+IhOyrVIEsUAwdIWY2xphRF6IyUCXqKcfuo5M3KJEFO5BzOPZ6YeDxxO9Dcqx9zq/sPm10x+3D+6/Rv0Efyf0CACxxtld3PRmjI1YzYHFjF11lhtcsJ/10JymuuehYIqh8pfVmQ4UZcl5k0DIxbTv6Dg1I4FMT0QlAM+AAAABH0GaHUnhClJlMCG//qeEABp/ZT8FhnHCHP25ilkAcGMuBkU3BTJK/mWDpc02ST4PMblVefEr5uieGAd+nXwXB9xuhHTjPeG8vHufMAP4S1kGNP16kHQE6aYCyow+R6mZmM7EGXv8yisevtLEw3sOFEEgfqzbs49cu18PterEOmVoYXxqVWvwnYnf9OZT887TzuxwcBfwo6K/KG8klIZs/mZpdOJdPknTvyX14Cq8FTPMdpf9C/jkrTXt//P0OD22NbEo0doVLSzqjRZjMrZ2sEZ0rhgQW0TKKQp1oBqTizWkEh/RePaVfEW6IIN7Yj0Ezf9qRQ6F0RpJ+ehp0yzTeDMWppyEmKj3BX1A9ACis1xte/h4VH9KcF/hlKCUGHzBAAAAwEGeO0U0TCv/ABWWiclw6qAfL0ztsXD559g5jT/QSYyE8aOEVPHvD+e4UGZIvrU5ydou4HU3Cg8mpVkPRzd1fLzLq2+fNwwFmZtvNK3mikZZCkdnj+u1lhXgtkr+fpD6wt+8j/tiBM0+kDn4F4oGd78Kn+xtCqoC9CEPCMLOkrgOYo/xRTTnHqX5UUSbx5kApEAoxBRr9KlLuUmYAnU1vzcuJFSwE03sxwetIx8O6HRsOtPI/9OWeUom0VVv6AgMCAAAAOkBnlp0Qn8AG6OhOS2iie2IdA6gqjkVwMU3QA2qhCEebI3eU8K/edt+W/4IXwUK2IVk3S+bMUjKABFnaKIB0BnF7zI9TP6/0Z6mRCEd+3u2K5Y7++xrDvVLqKpfMGcfK/f/4S6nced//y2J5ZSx3jSTMlX9ql9Z0PSlcsyKuJ3ngbAreEoM0oljLjz2rwpOUsmC3od2GzXGpEkpzi9jYzTp/QIqvze7DJkAomn9Y0nqlSWFKxg65vK2WS/ys43EDBg+myKabQ/YjFGip6UIgfKBjn/7MvkyDGhXD0sqMqvnXc5uKof3iKAM+QAAAM8BnlxqQn8AGmFSZK81a9BvYCgiJdRLk4YsvuSDLcq/c6kMFX7EODABK22/rjgoocqTE/Z9S11yMfzP20cQSMqIuTj4HF7yjZVprsiO1AqtIDQ4r7h5CGRkukQskvPZMWY8oIWEMBjVtFRRXJabV3tUmB8gIAtwUy+IA0aYJe3z4hnO6ma740SbxBY9ypc0YpHU5jyKvQFVzUA214CcnbMwHFmhzMaCELlYZI4tam72hjTCY5Y/AqF0a3Chnq/GLoo9DLNH1ZxUSXcnUx8AA2cAAAEqQZpASahBaJlMCG///qeEAApH81kYqhqPNzMI/TWqKRL3h8kUr4IbELNsfsCB9frc/0475AeFabBgtzWDWvqYPkvjnthWalPADVdI2NBeiKnz4WRfZHYF1OHRmuD1bYgky+foPDp15dBmQNR9JA0IKVdrEHXcEMGMPNYy+HNrZxJ4RIsnCcCCUB5drI8NWCuwY/4wnKFKU6YWbV27FnDIaLt8BD93TdPUToBXbR9CfNJ+g7FVuPRs0V/DPesZrv1A6zXIkLs+z3IbXntsl7KCAcc6Ey/TG0wuVABPL0o3QpWtrChZzvxoxOsqHA1eK0rw2Qc2BSDtYJm2GnsKvECPEERwi84oe2pPb45XfVa+N60ZhqE1rWuALizGgUIPN1HladpwGjWJHwANmAAAANBBnn5FESwr/wAIL49/1Rg8dMeG4lnjgHnPK+V2fi1szl0EfiyTO0YD/gVlzJLD5Mv3YAW8dDOpQE11T6fLV0O5PardknOoSNyuZpKzBY8de2R7hTZ9MKFtpBqEGCLPJ2C4SFI4gndjhgXJzwWnUyEoDAvtg/nOG4e00zWk0ZP2vXllm8gZ2iZ2Rr26Bk6jphwduH8muz/G7rcWSskD4nS0VMw4GOhA2Fn3K9oFDinBBKRBfXy/34d1JzPnRjcMVGndTpfAW/xMjC4PKjkBaDFgAAAAswGen2pCfwAKzVs1abve3US/2QGbpScPn/7P7obsjmYBwAqai5yJM9Chv45M1xCDnIiL+VTx/CZiGkjAb1Pmfzncy/OXEtjQv9gxLmSo7hC9JPB7BDpYpc5IB2CrmdbYhgGKnugk25UaXdNyGWlY2ZjaJJ54T6SsxhFzeO/ibVXVU9hoq5RD7tBtQqGAYhrk02gS8lI7RTMO4zVohKOOxJmPPK3cJ0h3xJiimUS/uAlJAB4xAAABCkGag0moQWyZTAhv//6nhAADy2q+mt6S4A/EazOy3j3inHYA7ANwBHHbWF50qQI+aetdMXohI8cAMm7/lVZLDlFtN+WdVGSX5yXU2R5CYb0TRCw9wc4vgcYxXZDtnNg7mumhETW+QhbGAid9BXbuDTaLF9OVjWnmhu5zyU0Gqgwl0LleMIh++AkVC7vRWEghR5hVt7LyuQSMaMrmwbSlSD7hFNVMJfGZw13Dx/JFj1m5jYUkw9qOG4voacflAMxjapBKspnHJJP2dQsHVSu2YHk6j+8rZXssGvnm7U98yziTDiUoxAwFMILyVrkRc2WjX5ue6wBfvXvDBJWsUYHlgVxKVES+KaUvpYLuAAAAyUGeoUUVLCv/AAM5YPhZvU2uqwa7MAG1D+wPQ9he3qzOvfzW3yLVH+wZb8LggFfd5wEhpIkN5PbT3XOat7iULv3bdNe44GW6L2k7M7JigrEhyV2Rkzo9jgD8d0ovgH5fLnSFsLEDfAalD2+YLUZ0kohPvcDDIoClkyCaTgRtRjkQCLXgyX+bpEltVPoT8DZ2dZGeUPedyOne9okxg07kJvQsxJt6cW03zv7O6xRfy5fSmzMxta4mlE8GZdj4nbtFXWt7gpsq464KSQAAALsBnsJqQn8AA/e+v8YEAJmmcfmr3m6bWE6ZyZ7o0FABuoq5Ui/XNHuAEE6efpYb2NO2ViCb+QrF/q41t8cO7B5CGHp//45PCdJBduWH2dkX8MW8d7uPIMby8O02yiJpvwTiEUCqUfFLbzi6rydbUgWz6JuNnY9YEOl3Y2yePFJZWs2PDqLEi10gOr2wyp8srn7PlbJcWGvN7BggB+pf7WeJ7DkMDPUGasJtN1eeUIIZ0S92ASh7TiphAA2oAAABEEGaxUmoQWyZTBRMN//+p4QAA+XCeY0lsugvqe8Vk8HvQjDWflOpX3s6iu89wHm2+5EjGyKfQLfUsSIqPxJyG1hhDAuKd9TFM/1HR45gwX+0dYRXHSP6ozFfeh+b+n+Y1EckaWOwUX7u7hX9oWcNHnjPZoHXx2vH141FSHQsO8VsoKOf+6JIgzsT00XSN9TVyJ0eAFLjof0neqEhC4iWBOpayEdflNVwsBX7s1TbCAf2Rcbrh5mMcObbY8tAHlGDswQK7odZ+nWfn7FFWYw+wm7yjLG2jtuaFjgIShF2JkN3tippil831i1ISOHnlLpT8RG7Hsotz0hs+7gYNFfBpiU5GuKMYV6RIg0xjijlQDphAAAAxwGe5GpCfwAEFiSkhEQD+/uuskF70XUwHiwiXRu/PwdAB9h/sBoyVnR5Aao6CGf7JmJp3Wf+FZfYeYRL8W37EUQ4WH5s7s2U7DD9KLInJnYsvzHVTnpY4VSm9FQrHzFHQp9EUzYuO+Abs/FokdnBIVSGaA6p3f5aygwVTJtUHYzPfJgou1EZ3yhQM5JcScQIA82ZrwfSic/uuCdcxL7UmYNo16OTmXf15mBZQVjRG4R2c9IWIMBIzuCZw8FhU8wDoSExoIeuGzEAAAE3QZrpSeEKUmUwIb/+p4QAA8/sqJ4sZ+uWeGSAHB6CmAQnEl6LBC0zxZjJRhlk5f8zB1WE9QI4CJV71W51nvSwHpTmOuX6qbp25P6ddYKI0vaDG11xB4LSdhmfC8aguk2WO6QdS5EwZAAp3YckIl3a6VgnrP2DGG8pgH8PxphDqvxy+GILWPlFeYsSq7DZcJnmfAJLvuQAGQkg+Wvzd9gpXzQ9lp9WgxoowkNodLWE8MBEzxma+uFK89krCo8D9/akpsyAT5jTdS1x1n5e9ge8UPGrjLMZoyOQnKwUTR8DM/OZ0CAq+slH6Db2J//EwRxFQ1DRx4cv9UbtY/73816EQ+2x/a7BRxbqMa1wNWAx0GGuX4MvDj+nBW1i3bdazTaiw/WLpHs00OMc+ZNHhxRP5iRZeZvdVMEAAADwQZ8HRTRMK/8AAyRC1tUBFQcX0QDDIAWvj2r0puiVbwbF36cZWPyaudlUhMokf14/n9PVY7bBTaw9ggsVkAg+pnZlApt48heuGotq3ynF7/099kkPMmVMZmqcByn1Fs4fYyc+lDX5XBFqdwH3+ns30ycrLtWmt+OD9fcpLeez8fayvJ7ygWos63v/B0JYEQryMu1bCw0qKBGnRTaUHwbEEmlsN4PTCcIatEPVarBnljQv0gz1QHSsi0wmIiMS19rHiC37OJIlxpaCEXDHRjdvMzKv3pD/htTb57diluVl0tL+cj45/L5aFU0TjbJ5DBDxAAAAqwGfJnRCfwAD97Mi/edSD3vu6OEe01/8gGYupLQFcumpw24ZsDPeQwpAq+MY9KJgFWaAz4QKq1DpBMQH9FMQpsNno8ABBO4+D69WbpuLPUC8wwCxKeEaFX3RMQVLUTkVGOcg+qVrCnaDZ8E8VmI1g2J4FFGPsJqTviJ4RZYOP3bkiPdQD5EZHLe9Ejk6eC0OPlpO5QNu0Wh+4DnGIyg+qVvxCG0ORQZfTkDegAAAAJ0BnyhqQn8AAZK3mqtZMORtEM4ZJk7PJt+mHtY3XxsEH8iDiIHzodH6koAJ2xSkxiMvpYjtxyazHmmdBi70UiLgKJKx2DkcznEM+fqEEzLKD9ETBtqadWcwUhVAqcwbofKSdZaKtT7uOySPm+xrcjvy5bu7S2F70qXzsPl585wj8VKlogz0BquRqboOLDecB2EXKCMM6cQAG3Zm2AMWAAABPUGbLEmoQWiZTAhv//6nhAABf/6PoxVQF/VM2lrjupAGlvoHmGTcNc2/268B6Ce7LAoAQQdqT9kxxo6vcgGkaX3EXX1T0SGWjK/Z3dKT1P1+JZ7sbjuG5/d8nHzBk1R5h0/l5LBglpAQDfT52G/YYxADJ3tQHbkJ4qZYCJbjhbGKK1jrRqeCcbqzhhDwkS7EWjPbVl5NjThXQvhVXvF5zi6BmSyfBg0uCyHdhnXjGf3ERBoGKC74tQbOU+C8ovgrXXmUxtyaEzZo37iXE+KVhT/KVliHC9+Z9vEKk6/8NoqlMjuOA+3uJCIOJS4wMrBk4urQ99fiF9gsnZaiAE1cHRCGoGzzwsqzOO4J/D9GV31Rd4ksfq441g3bS/mZL0DkZRTmYwNguFwtiUHR8vY74+zoUpydPUryQE/lHpGBAAAAoUGfSkURLCv/AAEx/U/JngBRIs38/3xwY3mGvncEt0ssrpOtA942aEiTGgBbgHYDD6QiqcP2L6vTsMjiENmv9zWTUppSUFzYK+4Z/1TaUMk/sOq/rHdHyc4lWn4MKOzgWDSVO+n5Ji4aLNWqJMAonGJm/fev3eukXyCHnpxjMCl3WPqtFaYXeq/ir77Dn64iVDV8TGWDQsb068jkPAYzygekAAAArQGfa2pCfwABkfyOQ/Eonbo9AmfEtlrOC9jQDUuR7O7JZdjB+HN2x/hQKrlwRIAY+4LjoomJI5aHToAdApVWBzTy+ex2dJrL5yxebp9EMlxmnt4yACNo3dUIkhFSBnHYdjCwAI+XyEUpgOhRxG3ZVubsx9ml3CDxyR2WuLANe1dhDqYQNQgxomA9e5zFyOgkqPV+Bk0dxC0/KnwQNmJUd1FDaTPPXro5ZidAAOmAAAABVEGbcEmoQWyZTAhv//6nhAAAkpdUQ1zH6pdVe5kkw9jGeZrRQaU+qGbT8lD+VF8gRtx7OL/QPLs+/mjO5VaFH8CW9UbsREAct6Ki5njLQG+EnPCTez5E8TzWWKMGZRD5wf5wvxtgJP8LG35gYflb93o16Z2CglATnu6KYv9OqHrtZAQGO9U4oSf9gZzf+DLQ9bujYDK93Ox852Lby6y+PW8lkTv3p0cItRNROmLJGLYxeq06z4HHCaCcTNat/0XR55R8fXX+GaZwO14GulFgk2blKlCBmKFWXgmelO15rI8To/K5qg/ictGSxQVKGL9CbLR0U6lAm5zOF9aDf8R9u2g5ExkWy7o4wYu9Ka5TlDqMolnVwiV8NSkAiv4HaVlu/ax9r2aN0I+ovKiplK7XBwZmM7+U72E1DQibzSQ5gVlVE7dkvYJxIcUhDgk5Tbajax8/O6EAAADtQZ+ORRUsK/8AAHWwfT+TeNooqXuEndOL3IdGcspdRQLsEAC4ucOqJ9y4FT6IFv8WUSpbihonP+T1F61s3YwPOakqVMXEj3YYtSNjuTdEEOlUmsAo4HMYI++WewZDSMnYJPrkfqlVWTaJbJHB4K7iVEJ9u2ogyH1dGesdzmxShUhuuyb0jTiQL+f0uYW83DngXy3wEWO7aHGTx9U+NDNPEYUfTFpXgD6VeIzzOO6D66G4Z7eBrIAZ+u8wiekCTamDc8C+1KARGqJm2h4wPQTHokVir+KZAE3kGd7oVxEMejdaE7EvVLXWWOqKW2GBAAAAqQGfrXRCfwAAlq+gYcqfJeGC+RBdMkwQRUuKRFqfVy7e4MhtLVvl/xRgJrygLkggr0/Zbdkm/q+oAVzl4nxeTO2s//b/6OkPvTDjv1HScMt6TzGWLgNuPTqIlafoSfehum7RJypscD71jwiqjTyeTqGS9mFnnDKjC2j5cKT4qiP5elItUlEF/vIC5l3bVTRbuO75PB+h0AAHRZY/J9BgtnWGqMatAOKNbHkAAADBAZ+vakJ/AACa7ahzwf9grenN5alGEUAFnecQnJ8TmWTap/MyVAP/FcqmB6QuQ/uTMBl4rOweYs4nCpVV41IysAv/KFInU7bpA2tWZDuqKGYn5y0Z+qaFvfi/qHWrspugk7bXSRampOs7ELsHSuNJlvmqUrEESNaM86r1a/zCWL0PVsVgV3FEj8azCbYPEhI7Gok5dvCMpc6b+OuIkJQCE3IVTmjxVp4gc6Qz5Is46QLqunOiquBaFHJ7pjo53PS3XgAAATpBm7RJqEFsmUwIb//+p4QAAJtyD5p8E3gANk+wp6Ky0yU10vOaMeQ2SXwX2FCRrGqA6O57iA6XXb2wcftVEM0Uz3NgVcPAK9WwSY7/XT9Q2Y//MXv1PnZxiDatjtC4JmndIUGM99j+IfJvbW6l3eYcYnJApDl3pgv0F/v3EyO1xxFUi8sauQjLT+E5tMn6fplLfH2HLrQK90U0TzGeXVyvIkoo24KKmxJQ8ixZTkTn67KWnvobkNDgHgXJ15aQquoURLOXtMcV/C6n5fdlu9IdUEN9Mv6n2YHPVyN0xU4n57gBe3fKQdBodeQBrnuUi42wWqpwCXL1d+qPxEmzXc1bK1Y2X6GSLw2da6W2e7X03Sj8IRP6c8iGjK4P6SnmgaLTLAWDamuOqwWbRot88v2PZgEu5/+mO9FCwAAAAMhBn9JFFSwr/wAAfFmDQIYgBbhW1tK1x17g3Vr4xzjhiAOFnWSx2xBPE2Ss6auTI4KrBlFAvbVMRax+Hb+MbYEMeQ49aPAuspLTRs5v1ZRvViqPhIzz2OBDRDFzd/kWCmi8KVubPT5QoGHehLfkawSJ4fWVVPYvdxqQhsTk5AYwZlmpD47t6H+af+1qNpWXLyIIcUx2rxUqWeNK/8zxAM1Yr1yvN98u8+lzpcJ3cyCLjGKTuBfVdg86Vlf9zqVmehQQrxJOZoa7gQAAAKsBn/F0Qn8AAJrWhpNdG7We6/XBxziKWTg//VHCxTcsvJIuuWbjn4akvdo9dj78gqUgAV9J3UEsOhdVoTEmVpU6+nXEXvCNMOc/dFvB2l9dbBVuRtfT3n7jjVWm8ll4mYJhpmHNvAcaymaoHnvryseg3p5ZaZif8H+0ApUBSeskVEitf6kKa94zJmg8/1fwtvgre0kl9PREB8Mx+2UCG4UgXiwWVgbYqh+ieWAAAACeAZ/zakJ/AACj29gQIAOK14j6KzGY/r2xL/sRp/BgsD1v6GZjeeAa3tpMTUCfj0pYpF+rfTofpvApC3Jt4iSqXNtGWSDAwGZaeXqDgobgvb3JJC4DdiVKQRG4bBXQ1wVj2dArPl72bJ3R5xhWojUwQD97fzy+O9RzwVUxzx6wbZkkJVackeVH2PprLvdb2nHk30W7bkhZxztIpy2z7rYAAAFUQZv4SahBbJlMCG///qeEAACbfI23Sfqpnes9Xl0Jdh7wVJAYAWq2zMCSkYkWGu9q56mWdKG3cVganfYCF/tYX9w2MqleQ22izYLkJBbXSRzaEdgsLWczFxLHZvn8ZLhoNK1OxL8KPGNYCPm/aRgRHvKAlS/6yEm89SjCQtyuCk66VwtSaH7fBqX4dJKewU2Ntj+Nzb1s7ardks01oeaKEygrQ0EL7a03ZFPDkNfSFkJSePErUugce3nBTbBaWdFACWtaFUV2ik1N9nn8wlzoH7y1isFRjlCJEb75glun47kDcQfysmlw0koHHFh6KZy/R9qEfSgcuRZR6YcX5diZ6sP500iJm/HyxTgCA7u/VuWAvBXP5rE0IViCQXPjzGtKeCAZODl+rAxF2eecilLafkviFTHDXhTUyqg1WPKR9MYCaTqmjIposNBIMJbzSAwFf2fBgQAAAK1BnhZFFSwr/wAAgVDghBQAQTVm8fOTai5jlLYq6EXgzF91xHTYqPRTAtKuTkcMqGxdrBQ9gPeRtM9Y1vUF7gjvIPjEj32ZbMZ1ZkcejVRjTRHv/peu5TUAlVw30MKwSXtoBWOMSNybmtMJrKX1uIHdy5VhJJN+COhwB43pbMq5H9T3E1qvkMAoUeT4zD/M5Lp7W5IID9Wxxi2oeO7ZRB2do8EltV+41TUFjIAPmAAAAMoBnjV0Qn8AAKzpdr0QBBA+1FF3fkEoQeR3kF491uBRoBtYWkhMgPCXRrjRuhrDgU71G1eeLdjUfnaruVMd8nFVizNQWt3MdciRir9mad4syLUioTHM5s+8nJSWwzLCWufPbGFrFE/OjRelaYP3YAZjwDPR0pV6dZifEmeeLGnTqvz3zhzoSo9Trp6ULLmViH7TVhX3qBKTIJ0CtcqnmkTJFTRcWVJIDqRS0c2QKAJXQqyDS4nNKky/osPIGY1dyQ8eJU6ApBFlOH+BAAAAmgGeN2pCfwAAr2tuKESBYwBeY760ThaK8YPVlMaOcXKW20ISTigRZXMqB3PlwZX4hcQ2pWQgMcH1Oeqo7K0AJ8rv7EaTLU3vBcBj3qzyfSLxcjkLdm2GdLUjQWBLXhRc6TizR5tGj67acxCZoqhyIaEHYwtbNno2+tnCE9LYvQtxUA96vIybOjPOtbSIXYvLvWzF811ATHH74kkAAAFwQZo8SahBbJlMCG///qeEAAA3J+XvOlbQx6YEkPLzwA4PueVYCn5XrXsuGCuxaUS8wOl4CW7gVD6fj7KYIpSrEyHU7oQvBLI2t72VSFR9j9L4rhnM1HOqsy3NwevcRvMLFEGRXuv83dVuWfLz7ENCYqbHnmwv4Gi46tjtnVSZl5FyR9jR/wDcRso6mkwmIAmwHn1+lU3wAcpDrE1SiDfKkRygaS/lNbMZXz/Kv0XhVFuiBaEYJtSKSfM/NnEKbxsboKRDvFwBEMZapNRFMqvblcdG7CD4wzR7Z54mG7KA+Yh6mhndl5ZXM8iUR23uqI/dJIlulvdQ8AFIbxx3FIp2nKXyjh8jEZJQ+an1eWTgrz2WnR6kJKNw7lpod1oo0hZT+ismT/+pgTVwjTRZS6Bt5gSC0mDVUvXV2cCqg9hFH8fHjPxmPupnpjOkZymmvZfA3H5THCph0koqpf3ELqmdANKykfDmew3ax5FlCae4QJwAAACjQZ5aRRUsK/8AAC/WBYNv+ujE6lK2mkcZFWQuz7XG7fEFB3eTzkERaJcAqIsAJq83C2q9LZ4hTywdBLCjyP9pzFh7NxmQtEhD+pG5YQpU7Lb+O6OOoMOgd4+qp3qLrYGMW6cgmTRV2zjRskwy3fHLUTZtJ3IGg1IbreDk+EN8uNi0/7juH3Hq+ObKjJWXGniaenhRHIwXk67Yhir+IvW8F4BCwQAAAKsBnnl0Qn8AADy6+h2aSekzRBRh6bzg6ThmJt6cM8aeFVglQh7eAA9khphaabwrzzqcspqciLzyShyXNPti5SX+LT8IsQeZvvBDTJoLp9EgV1TUZZwhXt6gjyvqVK5mVhB1g1eHKBhDGCjozzVGRXxzV0XfdenNofO6JeMOaA6dVg2t28wpD3N+FtqqbATYmhXmr6EF6RzPbHginrxqp0b+2XXhMZLMt35AKygAAACPAZ57akJ/AAA8zwEydiRXP+6MP8hxYUxOUO12zM+wlXZd//x4s+lm9+z4AC1pLCzpgLZnLID+d2f09zjKWZ4Y7nwa6NygckIrYg3iBN+ziZFfcjSJ2nh8x3u9I2XMEg85wCrp7MDADDkkbkvukIcLFyYVDN7z0AC1f+HzDEY7nhDp1FZY+pD80yX6W2aaQsEAAAFUQZpgSahBbJlMCG///qeEAAA4id1vCUQzH5+gX0JH0AFh7bW9gHLsr+I207o+zuJROKjKdbiR06ynfSXkC9ivbt7eXhi6LeS36h0+sWrtqcknQkjHOG7n5utoxwVu88WLGLh+37i06IWlT16qQEApnpWBGtW04RVEH5wYoIBJPmauqya6i1N3tHL6j5P1Ryc3J/8CZG11OQY93XnLznzpPgwxEsSrZ5cIz2ZE3xC8uRl/tOKNK37av3HwYPsvxXq1CBJ1C0aygifdL/ne0KowGbJ4A2OoFUBiZbdoJEKiQQ034aHwwKzMBmxoRIQvRNXm0OYRBAUcTh3fm/3M2xNzo6ghZ8CNew047+JxZami1KiryqAkF3QVj3jMGE58Xd0KwMMFor4qeI7cahRJZdBOM4nM+UEvS6Azdq/2L6bwanx3VtEFFbBgBAB9WpQ/9lBd9PVTFwAAALpBnp5FFSwr/wAAL9YU+ZtwjC8Ao3InMmiZ+o4AFexY1D3CS8C68Dy1dfwGd0PbKQf+5xmdROfrWtKt5g8dCiF9mmz2kGq3YYb7jnyvtikHUoPHcRniU8ee9wj1FMRPz6OusdTkO6Us+BrgpqsbNqCud6In2TBUawrlJO7BdT3VoJwBOlF1u0dX7/W1rL3qWD13gnMATqYscftlmxHDzjm5Y4cKC4Kc5NDMUwcbLGIHwnqaRz6y6HMAfMAAAACuAZ69dEJ/AAA8uvn60+k0pCNZP2I38Tu6rskO+d+89Hpi+Ez/maHbiXhiXRi/oQAXURuO7lMTXsAgUUr7Ymi5fLm2qSQhjNjE/OF/8xBxg62sM06wXqP8vGsixycoTnFqiY4UHTuDk+G0BIUlPE8PfU9sC2DVH6sCS57NlOXOv1LyhpvlzQgfUxHuHM18fBtlkh8oQQCCq05/WrujgusZG16VYv9wxPUAjGKwDiDgAAAAzwGev2pCfwAAPM8BF9o0Yk+tjEbpjJaWTp4CEqVszR2yJbz3/HBAC11CEI82RvOEpmtyX8+I0lafyhTDt4NrSvOQBVbyMcB5MyzgKH2PBpFHHFBj3QnlfJFGn/6dvBSiIpKkwvU0uv0ojl2Sks3nBwXFooNiTyEA9xj0BUHitq5r+9XJpP7gvkgoX7w31K/PfzqT6ZFfP3SIPmQxrB/HSLdT96TPT9YFGrf4qJed+rLNar13O4hwYbgVPxIuhUQseQssgcLPyxLS9Zk6DXF2bwAAAVdBmqRJqEFsmUwIb//+p4QAADiacYwmuJmE/psSy0g2Qhg/JBULysGzcc4Z5VDpot4AfZ73M6YVuy4UpojYY7clj6MjlLGVx799ZWXPoYDuwy0aY/gpbvUNQVz/D1bW25vtFc4UjDFCyy/TxO/XJpVdpFhDfgR98sgTpVHOdG+A7cG05VfV8C0xCfIoFUMukjqtuegfR28vQ535Y1Nqu4aISuHacytcictdddQ6/bZHqLy34t4w+Bu8BBW+Kn8+oh8lOfTYYD3nsPpgATJXFV7DGMvfne9FKMUltGhqOO5H9tyckAVouA/QXc/zZKaQaWt4+aVneO02FnE639KQcjJQnIBL1Dg6WekTGHe8zMr/bI/EQKsJCrbd4lqTqi1JKkIVwijWql4XEJfP6qR/NGiaWAOLGRZMUgSSwFDBFQ6fLOKRUDhVlrYrjteN+gLUaXCt/+waFEK2AAAAzkGewkUVLCv/AAAv1hAm2HLE9JBXi8lDwrr+SuOex4S3ABONdzqPZAV0YmRXJOIUM/mqQoLsYuXCsb+itb8AWIG1Tk6XryYB3BYZKOYClBCLRFanvTDxFzgnyWk+PpkeLvKurBOnvCQbJ48G5Fj6IY2vuzVVsvFJxIYMp1Ueu8/4iqaU2mDm+YEkNQE6ueY5V6prjT8TFSd5kWib6OwZ5F1yKmUVETh6BO2S7swfUggTAbfcJ+dv+UmlY3sKCS1p0fFKmh0K/SsgIulOUAtpAAAAwwGe4XRCfwAAPLr5lQwWAnxp02fsaCGA5iwBQLAgCFBMfnWcEP1IVmTAkSkfcqtuw7bBXW574oS0yNghEZ48RPkPnNwKPqySJ/HQjxeoxUwtAA5AFI45Yc2Ka4kgisNCQ9Lp/KptvbkQlDl9qWwur2G2WrfErcdxVkiH/7nAHMGV6EB35fFAPEF080fUPodR/sTXgKyQ1wh+Jv1YQUYltU6Ww/9Tx9LFDBKwQre2HwxrLog+ElD7XBiue9DH4/z0mOCpgAAAAOIBnuNqQn8AADzPASgGXRzzAiGvwoNy5KiB7XO7VjWABao9usTDMPYjEnIysl7zLD+LRDXHRMC1IR4/aCAKreRjgPJlyOLH9JTqojyuWBa1MpU79TO8QxATPo7Hb348iC5aetpNDKKMONz+EE+2fi45+xNmZgS7l80EisfIGyeI48t5eEjAeEV+MwYPHkd8wPQrQ22wYVbZ9Kk7ClojkSEoRBzaW/ef1RiNyXWm25oTQGrWTdY13JEEHGD5WwMLWFwwP/gHSx7u+wwQr8XBaS8XzRKCxPul8dKrxtab2ePk1YKTAAABQUGa6EmoQWyZTAhv//6nhAAAOIEkavuAavxfjVZaZFU6W3JlKVbgv9ELiHJ5vuMckw05evVtAKRMUWXfuvVs7u5lHZwzwCssWTy+uZGMWalSz9bOi6fAHvP5+QqJ2LapSoYyIoZ/bfENC3uy1CRkDRHIoNa99WeLfXrK05QpRIclYO1icXzCx1gc9OV+mBWb3tHR8GLJu/AvpHMWBlGUsQDe8nS1DWV2H36n4LCkxVIvisGVxFyUyK7sKL3T07m0YsnFEuOB6ei4GqJUigHc3F6rwL4I0RXru/ttmlAYUTc2hZdqDn/Exfw9OPr9FUFsQoIDvQKrfLgSDhppFKqrOmVWQCjrdPBhxKunHLaZ9wLqB+y1iufTKm5JHu+ttPHwsaaIqtAlHQDs17ZXTNcL5YNZ2RzqgSoCYrlT6lBILi+kgQAAAK5BnwZFFSwr/wAAL9YT/vSeZ5FA807Fvk4CktEsAAWJ+Qh/JPFM0DViB/iUPaf79DbZfM+H5/sKYPSxG54X0DZeglVK4hf6TAf5y6Z01K0bKliY3FvLIiKr14c7JlsBTkU/CxAJJZ0uzPQaIMuplSKMdYnWl8b06Xa0yzCG8MoAanx3Qos0+jbca44rJSpb0SB8ztyg94MhgQlNEt65krZ4/HMve1h+2I5Mjx4A44EAAACdAZ8ldEJ/AAA8uw+r3WqbRMlkGV34EQBun0GgBtdxLVcO/LCDXOj8pulSyucN2TLFJN0aGu3L/8R4BPf6I5+SXppMFU4u3kZyCyjcW1ctWV920JYcQmKK26PIb9VAb6j0oaawVf3ekCTd5a3sw6+4FFdCxaho4mtRW/6FO7/USDODXQqr9PDxHYWzF/lxFOoRHsuhfal2p+qAgGAZUQAAALsBnydqQn8AADzO+Rf49vq9kiSoFCfhJCiwW8MoCwArXWlKBUNqmCDjILJGxP+X4Zdua12r/PqR4DwtzXfxsEa+4r+4MmSajoFaiWgbzFeaagP8pZf9RysYNtd6UUjbjv9YR0RdllJy4K5QNPbLbN1TWZZ3yQU9gYLBi1yXX978J7lyRIGaZxMpH2Bo94WgDD0a/AlAK/+FMaD5J0C6QQA889GYXXKEcfBtIqCsP2oooGGrSAOucAi6moF3AAABXkGbLEmoQWyZTAhv//6nhAAAOIuzH9PMgDmVz/0E2SIF7kA1YmPUJJ8JuVURFr6sBmFJ7PtF40FyY9V29rkhf7jlTt0W9wxQPb7UnrZ+/nqg84oWQmupk5efSfUMNZUCE+CoP1oxQ55MZXMbNxVIqWk2Vpw8+xgQHjft3uYTO6AoYDvqT9QYEMmSJXI/IRMePxhx6DRePGeoKZ5cIgdChGSyd8O1PjXt/veXBtbn28z70VwOKHV8ap1KWtsCuFu7glGiuibQrVEGGQ8Czc/FkbD4PsQLnZ8zLSfhXN2sgL8U59jpnMvANjgME+ud81bjFH6ye99CgSu97DCknorr8rAYdqe/QghnPaeOy5auLJIpeyME4s9jepPLVcMABNZBTNChHfoEYVy67eGA4BFsDsMetHiyomyBYZGA6r6qkoONFVk1bSDMLowwh0knDhkjo/On7JwbmfT+r0xka69UAAAAsEGfSkUVLCv/AAAv1hQyWFKqiLAZId07ZQz0qAE0Du+Fkmcu1u8ihW0KI2E0398wQqrFC5BLoenUWINcOuzlYsLsPJT5SyXvgYRY/9A5BkvLBD0DL1hbQO2OOJ5KlPHaHhHfjnfQOkhbjkoLANZdHNks3Ocx5s7SWAEQY5Q4p9B1RzOYQ2uIy1uIlhseL628ecTaiyNBv/cNyVq9+WheWB1gz8HncIIAMhWGz1eQAI+BAAAAygGfaXRCfwAAPLsNnZYADjkqN+s4DiufAKoBi7o9dcC9eN6CKmS7BJdjA2nZq7u5st8tmDvxc/HhfxeSXghlmfHWQwSzbsyYOF+F2oEiV2dViOlUfLLXHAtWl5TDdBoy1t/vuarXbNxgCJlKAPwb5s1jw0l2Fe3SZWWwdimcs83nuM2+XWr8s8fxvkdGgN80I+4dpMOogsXkge/aVhsQq8LDaa5Fp7rlYZcXhUM6Ot1i07xi2r1C7QDsT/xO0N+ckTEIuZ2XAdrtAwIAAADYAZ9rakJ/AAA8zwEyWngH0vZasL6ZEMoAJly9x7zupA/0uvrKLHQFe7KGvXIKHIia/mA6Kh83UHsmyaKQERXPi/gNYCLyT5QzBQRCYq5EXn9IwtGWIT1WYsDEeoEQRuEEMQvolnJpjrikuS8PDXGBeFBA+0IolgTuKOk6QtyAaQzfI7rz0ldVTBuh+5hGQeWPXHGAuxQIHuV5qgQET1HanbKyncZ5SAOA3u9sa3+Z+ki8TWJmASyJNxPvOVqHew33pThMzYHpR8Wx+i18GcN6ocu3kLuAAHHAAAABKUGbcEmoQWyZTAhv//6nhAAAOIEPJeZAFbzQuhAuUDaTqCPr3oTb5jMJcWTnu3fBGXpLvEf1H5UL1BRmcTUxIxbV35DG9QS9MrGvo3PIc42z05G4DznPiOmgzMFpoZj/qCrd3q3EUJG44I3creMuuaWIpk3d5wDsIjVqlM+9u4N4/CF9pLUDZopP2QIzanUIBFrOnhqCyypMkSiSg1m0lBuMt59NhbHGYyrNhBQh0kGs9GnlpL3+TcNn6dYu1nn2oZPKSNUfVkXdNCSuYh6vgjsog72cza6NoMneW0s1FOTQkZAg/qhKuWjqYQl6v3O+RLGTXF1qV8F3l30kDbYIahuaNPExtd8b46avIYOjU8nZHri3fpilsQEOJQLaacg6/GwvBTf106gwuQAAAKdBn45FFSwr/wAAL9YS2DN1Ufg++XQBCqPpHoSBr/gHfDvJ271NRvRe39asVCde5iel15gYq3RLzfuoRxT9j45s7Zm8JL7PH7aUQDX8dVTFSxPFiG7dGZIVBXhyrIVlnkIpwLVFzrh8/LpoRX3HqXG+4F1kEUiAvwoEllRMtc892r2QDxXUOapR3XkpNgO1Nq7IhxhQ7OLRnw6sP1LMV30kSscOjgAyoQAAAK0Bn610Qn8AADy7C5QVAA45qsDnLOzEcuNN5FspMMYuO293jbyz5XpuY46qjV/uGW20zl0bnHf/eMVfMatY6DQfrOPFTIBc/b4J9EzXLC6pU6aOu9M3Sxi6dJTsvWgJFtuGN9mwgFJBYnMo6FnXKHQc/tQCiYIYza+OHvmJ2ozvka6a66inAk6H/SyvcYnnbpQLUvxXRkn1ZQFrFaYhwQwA62cOsL81Ks4n3yQU0QAAANkBn69qQn8AADzPAy6S/8ZPu3QAD9nWnASGSHXtMRlMCaCdjkpLzDK6Mpf069ORsE65ZCBHHgyJLdGoOu3GZAw9WufcR64/KTtoP+NWkicShOLwtexCwBSpSlGWyVvfMe/76M7mi9o566jR7kkBZEvAhhQvtnHZky8X5QuaNOvZp/CeK8xt+Ix68iQTK10jamZUPiRORP5z0EE7rinm7IgJvayrAW1Z5indcmyyYUA8/t4kmaSi90KXskYEg4KLMuXCHzNW36T8adbaZBaSvaAeZEH0LxhF8GLAAAABRUGbtEmoQWyZTAhv//6nhAAAOIHA5tcAmRpvVk4ejuHAx+Smtxjut8iUYIkJI1Vp4AQpvFC6wlHNrAXVO240wRaa7xqPE0D4BFhMSGY5r5O2+nU7nUOxJQtwek+QXtit9cu/4WTqaWfyIp3mNqHfPJO+6FejebOk26bYB/lMN2zUVuTfjKXRlPhcvMQC/+EY9TMSVLa/AnC8Da0ybjL4DiKuj4KY7Arv89lvEMMlTXbxfQdwgMv8XbK4c3XCZOVE6Wkh/VjXjsAaMznx3/eh1NPw4F7oQQYxy50TM1xLWgM9tmdNY/dUciesr9cgm5UUWm+P6+SEFDW5OEoGgc5BMgVwZOfbWmz/6uGcgpEBM5Zl0KgyUVTE5gEAvCA0slrBJmS8g0J1TZq0Dx14TCGFeKchTYo89xyRPPVzUxBZjumyKWUMxNwAAAC+QZ/SRRUsK/8AAC/WFZLcqiGbWg6sl5bAzjnQAt48u5zCadB+GmZwA1NSLzj1QkJLZ2ORbDT//i3duxDG/ZmY3gpSsiec0Mu+8jWjQPAkC0jCV3S5tvIoJ9sMExX54/jCl27U84T5AN26EAZ83rD+bVJomDf3nuSVaiNCFDztetRQKlZ14ryjjA3D2GRlsatxk+/ndFRXKMuBBmxsXqYz17CKCiDdoVL2n82498xywJnEx7Ss1BkFzpkW9QAf4QAAAIsBn/F0Qn8AADy7D/p+OcUiFZxwmxqw06S3vJAAJ0j0WYccQRBJX07k9+H3H+1kdbY/Ye6TFs8rmuBktvUOyuMgV+ORHE/9QZ79qmfo87whdvBeDmF73rwN19KidQzOO+w+grlwR+nLdLi5VvMx8yyXAgNI2ym8PghzqEjKRkexet9dxurhz7thWJ0wAAAArwGf82pCfwAAPM705DepggBXlP6yoJuSoAWgD59ziuAMFiop7IvrWMw9dNAjtU05URihwEa0MYOSbB563qPe1QSoHVl+Y1sDzeOoZP7KEA0aj6hrd55NDu+VRoZk44n8aDUlMPRixLRCrxjXuFJCDkmy0aelyN7W7/xl8KfJ2t4MCw+yG6GoP52IH1baFEfnuX7rp1aifmO+D+UmJZHu9Ay6O1amsMvfb2FPVUdxEPAAAAE6QZv4SahBbJlMCG///qeEAAA4mnu2BQ87rALUfJ6iWu1SzuhPFEmg7Xqy+0zpASwKZXsdPRMMqy/ABe9/0npNy1tx+o7me8KCZ84hKckrOwZ2zSSN5dlWY11/rHQ4wgHMzRNFOdHBQYL8Z1M+xlig1Cnti9acWdgBApAC3lkSkMzE+nwkqF3wAKJhzG+nL6pW0OxR5lw5hxju77zgrnNmMn8ukkFGXVBoivRRiTY0H8D8jqMLzQmlOTy0KudXHf78MEmXu1Ao5u3HDCXHmtLkuHPgpZfNhLL7WXXhwBSZ0uJeThxdxGLS/OWOUEhqs/xDJ7IyF25EJc4yGBLeGyDd934qM5KhXlacC9abxUVg30ox39WWrjUD/r4+P3sIcciQhB3B1T87dM0VFCOyCDbIic9nSB5r3UcsIIEAAAC8QZ4WRRUsK/8AAC/WEeebzwBx9CAhQpv1G3V4Y3OfdQCL1J7IjYTsZZNcrQ4hQHoc2/4lvSACYAZMKCDOrUSGmvyJ8rONyOib09L2AhH9T/3M6Sx4jwDtDVGPdp8z1Mx/yWPSSQa9v1hEq7gFMPG3RCMHB5x5AcjvYsH0UTiLqxEEKPrbDOIQJiTs/LgFgob5zMKg8IwDynOYWDVSoFJcoVeiIWh/hyuKJbpIXD8y4s2ds9MXmplpSvupcW0AAACIAZ41dEJ/AAA8uw/RJeaP4mukBpStsIZqAnk9NIAIxbEl9rj1vDKushr5qSOtPMiwc/KUb5p9GAiBdFAYO2crkEdYZy/6GXIQpovlGhKtw2KJFKc+cUPV0gMqltatxXvE1BXGFtizkIVqyvafJ8XWSv5YZmi/xuAQMtI9eeur0quqrs2vUkBBxwAAAKUBnjdqQn8AADzPATO64MQ9GkLuU8X3rBfSHIIV4EQBAOQZrztZAJ3g7gfbW37zCOm1OGf6UWGKvIA6MgIn0DwF8rLdSAx22b7NA4k86NCayHBi1v3lv4Og8np3fK1H+/1kmGJnAkTKVRBbT4lUNaDMhx8tFXRWjcuEKZQPKqBl9Uh4cgqM6HnEO/HkaeWESzJ39bxmjeMNdymSNWZFaAQU2EEILKEAAAFzQZo8SahBbJlMCG///qeEAAA6OvfgaF8AE7e72zNJWEIMFwNCxT6K0o3I44V8wFFb63cUPd7jgsCp81Spfi/OGVWBgMWIlVVWjaKjQKUvhE1ST7xS1T6mUtDFpAtXyYJd3OR01+BpYFTyyfRd1j/Z3RISe/vg+6xTp1g043o6faRL7vCktVseQ2J0VA6q4suhuJfWvTyG2UAf7V+duZtYcFvLM2ejKUXoImA0YcJT5aedcH7AOEnli5wgFORQ3vBcaEYPNfAf9wOfqAvpoSYC00lT8+JWCeVsZXOMlAiSu6BShu/FPBsua6zhCMmJV0uS0AFaUT1IW1CMIBBl/N8GR8pt/+5g2J8aaBrnwFyaYDv5M+9YGkVFAWF22SK5h47OhBJjW0iHyg2df5HcOxN2e0sRjL1NkGJdxM+58aZkRFuqr2a1/WmmOEhtEgiqYRoRBn/R3LVuBX/8QX1tKKpNlY0HfiImZGIeulKpDYCOngwDgk4AAADeQZ5aRRUsK/8AAC/WEWBMuRdziofZCK00VbBfVj/Eq9bgBLlPV4HmFv2GB5Az/RswOQFnUzbi4kvHjYip8fxCK/Iryu++zakBY9mJdFn5bT8lci3oJNbCzY+RT+OvD7fUDPhDFbJBCGIGCq+JxuomNgmULEHrSgu3kmKpubENfOr00bm4bMcrS+9bMqow8s94eqqrumt5Z1YHpSwkxbdkyY7vxSxJV/+sVUpONPK5ovh+N66/ZRMt2GrLAxqRAEKk61xKAYIfqskhy2GGHUIjL5KIgKdTAYZ6Q95YxIW1AAAAgAGeeXRCfwAAPLsxfYnbNwDGR6Rztc7YUAH4xf2MTgO/eP0no/4bi+BtQs17CN/oo1Rd0kiQkk33RMZdwXbKbVi2i2vYe/NgL3llg1j9uNiBlCvSBkHVqHe3KAu2d7FFyQoRjQz5QwWIwgR8w8+eiQNePbps4bZjAZjOxl99gQekAAAAkgGee2pCfwAAPM7vDkvvxVZbR816Iq/OiDKABBffJ1eW/EAF/oJCgelcEhyzYT2N6wraznRr+ULYordKWtoA2Z1bKH+8KAJZw4BRIRTOiCDeCKxAx8/mffpQHNu+2BoTZrPH+BlnAPC1mXPr8eVm1O2ZpfPjrV68/gLhwzOJNUbNDynnIfRm0BIOErwMUFH6L1ixAAABVUGaYEmoQWyZTAhv//6nhAAAPlr3jwidQADhIgBzmAmGJBRwsrexQPBTit4JrYKLhmueidaU/DZ9zwW7ZQsX/Wr1vMVyW/Pt3O+CbIFhNkAhP0HMrmLa8UpAH/ehJCJXHZwAHqltHBM/73bTbteTZ/wln+C2KLm1VhkDSecn2WXbaabXYGcwMB6U97P+ZTpddNMcBVae9RMb/bRpsmPOx4ekSLrFIuyo/izwPY0B7jjkza8Y2uVWXqgvpz6PlNTeMxMEp3c3rptQ94dY2MpfYyAVmXk/oehRK/A+Z+0Grn9xs1Bb+yRqhqLRSUwG6y7oWxRpVjK0on42IB5EEKmT1+hCVcAHra6hgaM1zt35lYDq9dEPfwlQhUOvJ63taphEi9f4dk+PT64OISjXa8KmbHaC/WPHf2UEB/8VANW+S+QvaSjlEM+U1VOBuUPjH/Zv5l/NJC7hAAAAtkGenkUVLCv/AACC6/zmBTWTm0ALQowPeZv9rFOI0yevQhzXhx30tgMtsVPT4Uug6jdcGD10W8iV+OASYpzYDlCKzvKoW8etRZwEfhU7skbwza9y3OPHNsqqcfLINdJya1SjePkKXmDzst/wno0He5G6o5xbDOCMLjSoPcZydZ/kAY4Fr71uR6lnExeaZA03df4NJ27DD/byDaYPxKqw/q726GOua2mdwkAm+CD2t62VH4c1px6QAAAAtQGevXRCfwAAPjJ1/3RgAVxVQ2PIE9K2BQNbClLHSpDi1yAov7uTe73C3R/UCIxFuNbbvsnUdjP8kVmoICAR+zM0cjUiNWwrKdf0Sk7Jsnk4GN5LtSjdIVUVCCvOL6m4lMsmgIXPzj8Kfo98aYp8UOznnmwLo1vsXTIwUZ0CDfYEcVc4bz425K+t3hAJirFRRlaSANuINGaxpZcJoTB5irREWhUpb6FQ9yad8rj6UYvaTN3CJWAAAACnAZ6/akJ/AACs3AJ58PZZUsDWgBYI93soMPaLdpSTdmtBr6rUw/eX8o+Mo6Tx/Q6RGRMHDo6y5dLSkIPdRaLzoNNWCK0Ypf1tikKphF90C5pAlpSMj1iLW7P6PFsyWIRqgfQT+AaYIZa245L6/dJcIDJgHXQdpw/PVeTQ/pI0Rhosop/Sb4RkbpduJi9N+Lv07g33375YDa+fyULNGMYO6FWa4nhnQakAAAGIQZqkSahBbJlMCG///qeEAABBum9yeACV3EB9gQzaC1rtcA70m7sK5gSvDB/F6tuB3gcmxOQeztFXyMxJoCsIXUXPkHwdPnCGUXocVWB+kvkjQnI0ggv78F7WqdX1XF7ygffMQRliMyJQSbbpVWxH9kuplPZdh4QWnhbS4OZm6rqO4e+c7/Hdf5FTFSwmI61L9ipLuJ6ghB7JMP7NTxWyAUKOduiHWl8q8nYVaF5yj4Q6u2ibw4/ECutyINjri+zjaMEL6DsmSdk3fADZdgTmtVLIIvTFly9sM7sT+oN2fD9Ii6Tm1uaOub2xO3+GSW6VQFouKvQ0X/7Tt8HbCfepx+80OuTgjIhxK3vuLVVpF3xNYSW83yvi9mE7xZi7EKrOBmJMnk7HhfgFY+0CFAYThmrIlKCUHVVERWnyarAo3Jcpg7Ki7AljLwgQeI586C7qFoxGskigJ/tazThxW0tQYEr5M8Pz0w6FLJjr/tlKCrAM9rF46In0rcaY6m6nrc+ogIiZvCK7ZiwAAADTQZ7CRRUsK/8AAIMGZx4bglBIChmlMGPdhY2G+idnc41dioAmxgA7lHjICyj0U0WQazX42FNtoxo8H+CT2TFv28arOz+Sn4NTT2Gj+BEB5CwBQ2kxCkCKvxaSJe+3rnNMeWQ7ERiSbNLfvXhB0m++KH/nJRTDJIbdDF8DTUrH6Ug7GYeeuX9sIDJzU6rrqExkRN0jpMuta1W0XV/7wBp2coL8YqYVZ+//3rW+xRGCNow4g7Esy8HQYK4USKHjtyomSdc6N9xogkWguwvjwnFjGcgD5wAAAKQBnuF0Qn8AAKyjKHoLsJgAvHp2Uf1wYGt9kNFJyVwbrZXiN3T0t+dLAIr0tjtbrpyg3+EInaPor/1FD6AYWCYCKrHwAmFAsEpsT58nzcY2JnU6+5NJBHsqL6uC1zRfjZgTYx2mbZ5hpyOv+gySwbWRdI4sq3OARQYA9/LvDJRJDDwsIe/vUxm87NXdX1d9kFgyz9kIP05ruYsaDGBZCBTuIpmFlAAAAM4BnuNqQn8AAKzcBHnla4Hb0CAI1TAl486ynhto+jVx69OMCaOCty+oTUYjm5AEdWszzYyY7t2xlCPehQgkPAk4Pjzov6q5pXimffjDQb/RHaHr0YMwikYlRippE/dKoO+bmftnhSXFZM26c2EFubydVrt5BUrB95YTiPmNdqkFDKX3PUUUpvogzvili5NQVkeVcxpIE5+cDd/c1SC7lds/AhdApLv0T+ltWNkyL7PMC1cwFXbriLn+4BOPogHBiF9vsFRlRuvTJtoDBWDWgQAAAQhBmuhJqEFsmUwIb//+p4QAAEG+Rq3gj7n4OdkBgBCnSe5bz2+HcDEoStcE2aHYBcxbUQAxjuaThZMbsLVXF5kmbIGdrE+/QIXXsDsTAGK0eBz2d+mih3cQ8cv7ZLKmNNSXWoXAVWmv5mCbhIh/dB+oa9Qy5/K7mop5vws70h5YqnuMCRmnb5llK14ttyPB8g/GaJPEzdJEPe+2fBzcfUUclPKLIbXqueoaCWtlpEkiRUc5DSt03qdvxfSL41IbuLtItiozTq6uZKZc+ov93tqPwQC+sIXRQGMi/CqA690gN/e/5GVeyMO+fEAr3DrJvThNcJ6EB6TPS7PcVPwWqiXZT1zCYjKIAXcAAADgQZ8GRRUsK/8AADYD/UWhG4necYQnUz8JjADdcX2ZPRCjVClAChVGU0DMjGztgv+l+GRZzZf8NYndMypCfiVS5JRMGshO35A2lIpe6crO3jfbFP9fXWCZTk78bBKe/WjRYPH9J/0ciCAZ3eo65OiskzuzcZ7oFsflpNRhwQ/rl+xMfAsww7zjeaq0sOhJWizS0yFpy5h8RKyNYXhi+yx9uhFOmBbQ9mc+udhHX3cySCMXUTGOxqAZegPxOIEszrAKRNNiX5kHkzZ/8565VOP1gy9gq1M3QmQYijvWiwYgxYEAAACnAZ8ldEJ/AABHoXgAtaIapBi6c2Olv7YdnYhYS2dtmpD/Yr4qnzHS9hxtQMKmZvd/cPFgY5GflVyrpL2Y0Y1qh0xCTY+ijQWwAVgBo2HBXqVGCcQwBvtb56oWos3D/1lQ3m21+HTBeirnVPAEEP6cEocMJYyweDPAWkJk47eBK1DYq9TlUcfIAMVCRbf+kpGN+J0h1mhuQdtVMpUQKSGyHBacecyzoWEAAADUAZ8nakJ/AABBdy1TVTFcAtLckAHFa+bUco4orU/r99IFmUkGCxAat84JTtFRkh+4W7aNp5GGAjlnpi+3K9bNf9jmwwsGLRABWDYnd6S1rsLb4UZh1kZ1L37Z3zfby122JdeKoYL60eiJNCwyuEl2TDpw2nsjV02fqUot4PJFY6k9rGslIqg+h+qM2FCsTHhqUqlLKJR5gych5YHBATb9vJK3oH+SkBmdg5sCSVhuwcrV237idQpuu7btO6NuCzI7ajCS6nq/qaqDEc16e2Jju4CADUgAAAD/QZssSahBbJlMCG///qeEAAAWz3hWsurGlIEdwsAOMc6W2Q0KkAluiC+oHinXvms4gQJdJOKGLkpcEt2M5dzfgUn6Hd/30E1n8vkNCztQj0C6Mmg1T+aFlCUW4s+nTaJrdQ6rPyeIdGkOA8H3JGAs5DcFEa/By7ZanUnwbsUIBSKig1k6RbFV55Ch1CKkL5wE8/ve40h/ESzEF2dedPWKz8z/Wdd/3JhndNyGjmXxri9dtkhA3n/dDpTMebG6ay+9/yeBR049khTGgVRdnUrVtoh8mC6WyTqPzJ/VJejsKt4Kqpk8DVW6BQFVgQvMx5PQLPZnl6rag6+VGOHLcekgAAAAxUGfSkUVLCv/AAAzlh8u2nel25w+FiUAOkaNyCuhBIPACKPTPI83WjQktSRGKRCeokqxet8Vr7jUqs3QCe+PKKK9wQqZbfdBwVTRc4M0EwdZzxQm4AcqqHkdNpgF2LwebD5Y2mDyplVzpyBjiC+jgm1BLasn8n6A9vuJMeUVV6GIcV0dAyXYLZqZmXgb293+XQ3K1894hEVXYiuZW+Dj61a3wk5aIa68b3uJ0z+kSITd1p0LTLesNtInIoy2eoyWhkMgAAatAAAAwgGfaXRCfwAAQVrImIQke5j48WRloArTXzTfWGivQCOID94fj4x2cz79r75T8nt8jfv7KQHpVdIJpFjXFqVSB/qhEh0Ri13ys1NyHCbbJoU0TtPs0fE3fRoposFpB7WKrIPw/Hg3tZa9z9jcfGQYfRTIKgBSKjfQz4yRUqDA3c6WZj5Srua5GaxVzdp3hX9byhQVkyy2+ogcVd5Ud6V5O3wIQ/xoMNj3oP7MKLdAJhGiIK4hnL6kWrebqaTAT5DKwAu4AAAApgGfa2pCfwAAQXctUUkSf6mLQly9PWAHQFyPF2kSSNHYEfeJZyZGgd9JWgHUkEhEvY97ZV5KvBsQG/igXUuZZg8C+8SoGV/PW7Yy6GviUc9dXZcVgZUDlWfGmz76n3nDsLNuUFhq9MENN+IStSsNgWrn0MZRZrKYdM/8qqzfLeecloak7flPTInNnB4K8/Vujigw/V7xZFh5WXQEZ1nfbeJpdy2QBlQAAAEJQZtwSahBbJlMCG///qeEAAA3frelO0cqeQvX1znby90ADf1HpkpCPb/6QddjylJz5Ns59+tz6TmG5rsleOxBZ7JeAMxLMycAL8caW26J3QnmPgZbOMaHvaIed50v45wmUJoj/dl/fC0IUyF5QTSEinoaqESM9uZosgj3ZbqIx6kIoqI1ESJC3v6jx3gObcA8vG9ELJeGbD7MiWLSQ8WjxeTH1uPiv7l+Pku1xkAtMTF2MUdM8gN0sWxFdOTQK8DT6Xb6u6A7bx87xTTlyo5XeKWAlRuFHY9JdzPZrpESTtcqcIp6/DC86+Xo3SSZN9yXDxW7oaSvxS1ZOPSOX6/nQKFpbPDn3EIGBQAAAINBn45FFSwr/wAAM5YfLtkD8c4i35juGnYp1/61ZLeXq2sulsjEFwi/GlQQ6IgJzTuwAwBVOIvq2pRIWVSCiAVgep9d80diyAheo7RTRXz6JPxIY36pEob6Q0IaRTbcRn9Zae1vEsLGjtIwuK2CUPDoJZJM4aJJbXYYghT0D9H0IiAQ8QAAAIQBn610Qn8AAEFayJgglXljGc55x0NQRYTKwi/HLfpd00hKFZQAOYdTxBsby/pZKnAq01sViw49Uy9RU58iA3J2Y4uG9hUkx1JWC+DZCmdQtTNjmAOx31Q7Wll0zvjk6qeFNPUxTdc4PC5BKLWavVXw8KsS2p8c1k1Nz0rNqPDsplgkAg8AAAB9AZ+vakJ/AABBdy1TVTFWgLoZbNjjJ+8xdnZMI4G5EACTH24sVFpWPCm+QOPPGgPJEu6QpMjNnxe08I67kMeY3JXc65K6VIV+cebmQX4k2iQyc6FwZtn8xEqf9c51Uhkw8Bmrqk2yEcP9JxmTP5fzud401IpK/mzkqAoAKSAAAADtQZu0SahBbJlMCG///qeEAAAX/XvXpm9ZgAP4O93gypPUYq0eOqqUpnb3TKxMwN5UdO41YXdraNiAPt79wDlSSk+k9JuGLrUsUK6HtdQr9GtJDBJ6VWv2hKIMOfv8RMrOm5t0/kw9XZPIXwLl5kXYw4jeC0s+LmsnjlSnLaMXjrGGlGXi7qp/b9gzzDTv7RSAgqQLgY3GTsD99532+0Dgs4ciNqX1s3qwkNi0SHV6R1l4Ym15QwNu+9Qb4OEZwUzzLYxQS7RbQMwXU6LzyoTMvcIIObCPfx5VrKUxP2+GdNaOgcy4LuhkXO2KyKCAAAAAqkGf0kUVLCv/AAAzlh8u675jNkz0mYJ0AJYhWvxUPuXycw30NZOq7uJ6e8I+SMJtlSFTTavBBOnoD46GiKTofaBIv/SDTaykMsyTo14tJBv55BTOjQJ1sD/od4AM+V0lzhKnWEdaNDCpmUpsx8QjJtVCSWFIK73a+Ar6neCSbIRueUgqICIbWndOZm2jCKibL2/mMq0OZ2+eoRCfuJGgcqpu4NqDKQWKgFFBAAAAjgGf8XRCfwAAQVrImv/G2fWHoPlafuJgBuvLfrEwPKZtX77Z86oPdegPWJbMXly9h5prV6YRo4Dbs9K0n/p47IlTn5CTLbzGavQo9d5ZPmKhbvRwz7acUCx3ZHa20jhtem7VFclGKdXadByFaSflVSCqgxAkS0Of/TSNss8tqPMMhTRcTWHRVt8g+ko0AaEAAACQAZ/zakJ/AABBdy1TVTCO0/JACMCrpdKYkx7KnaY4M6m1Td1eR9VVYPlBso7GE5K/kidyn/J81Q9LMUG73jfgd8ipjSZIQ1iJfmAAXhpGr4h2VPT1ITL3z/1bzXCZNdexvraWsol1qh8pa+gPA+rMqFq3p8mLkTMKlcB7vKYiEs9NQKvqNnr+Ql1RbYB6ADegAAABM0Gb+EmoQWyZTAhv//6nhAAAF/5zKAQQkZP/VhYP4Eu6dxhTdeJ55EgTH121yRVY4YuftmXEoZs40RkI4vpu0ZJ5fenTAmVoa0rudrGVIBwQIoOLQD2IHauKgEIJfntMhUIT6i/F1LwcEta1SitXyINxNjjfRxHsPII+UMMbpe5SEheiJ0giW0vt418xtCmYuEWu6FNmsgHaxWfcrnFDSCL/mfnD1HOK6vyeNET1B4PcXG1P4E/Qj1ENLaTVaH2+Jn59edmLY5jMV9TgWizhfvwThTMOhSBKRHemYpaL1ZcKQyfbJN16xQx8DHMXyLnAxQqOtWifaPqk1oYk5U6hX8eDZaJ2QGQ+C5wzR2VveCK0rZi6CHXvVcBAsPM0c0hdlU5qjsGxbpfmeFs9a7RtzvAAB90AAADSQZ4WRRUsK/8AADOWHy7rvmMU1csmlJ8gCOzs3ip96T5Yqbl7eCoJQli8mgkFv+c1ftGVJpT5Wrl7dTB7XEMKAQRWaUdZSVMRXPesrdSjB94yoA7MzanUW58iiVHh+ZLq0Nw6/1xKGI0eO2dg+/xZ4XljQvn+KCXgqajqi0I7np+n7Ksl9VUGgbMZAnLL5UHTq0db2Plu+0TA14CHswxN5+yiOVjYMofmbh9f00WM14t0zJJNo6ezydxbiwuc42ZLwHZo1rfpAfOphcypNSxPAHTAAAAA0AGeNXRCfwAAQVrImv/HBmwAixyp3acsAVqcyL5cGK+L1ibZxsUmgLHmPhEjVM19Gedq+X9FQGXxBnvjleiTFWs517eUwv4VsOXPdG0YbRkNUzpYd1aEyecdhCw48Z8CA4JPd3wwY+jCrtO8N6uxFtZxVLi2YPvDnzGWkN2/WxxvovfUTELgcRkuO4vFX9C7UY9UQOxkK7bmZBohDEZLE32l9f8FUyj1ZJTXLyBegaXJxaD31XCB+APTyEmeG+YWE//5Lkoid412IImK4SoAsoEAAADRAZ43akJ/AABBdy1TVTF9oCFyLcDjMqgCuZgkofW4v7S/Xd4+o6tSbB3YgzDquL0h9AriC29p8svFyQy683TGxFR7vumZ1JVHcnDA5nbexmjvNz/gL6nKBBxs/5NVNLwEB2GfqDRFFJq3HaIPiN0oX5Nu5+M8DA0udkrzJSOEsfWZKBt5MXO+rfTNQuw6vc+Xr+estsA0QEypac0BMejLVK+GXgg9Udwi9sewb+6cD9MVEjluH23Fdv5U5pNP3RH4RvOFSTsIJYLixxZis6o2Lm0AAAFDQZo8SahBbJlMCG///qeEAAAX/XViS9mmYACMTIVwZT99gE2PiMX8KSLiYOa4aac5y24as7j+uKKVE5Gn80xlIm4HMUC6PZ1VvFRREDpgOwGipQ0OIFICzsUt62MTUEbn1BSr45WkHgP/KrTr46M4f0Ass37HYEQKA55TvMwK4QYNGweDrO0dv/4B3YaZrRL2qcCP/Ca/fJgiKEayFox1CqSmWWSLX0heFv/Kh/nwVMDzWIXzCZgnKkEdxg7clfp3EIEXfuZkXVL2j4WaNQqyjcWlqFcZewqT3cqpDLBJ5curTDHxtvyRv7d9Idzljn/VCivhXll95Ez1BIU3xApuvh6QK8LfTvgc3yQuGFM3bb1VpKB5PDw1N3cwy9M3/3DZeisXwkKSBs/tWukLCtExK4kGebRuAw7uY0T2eMG9T2vzoccAAADKQZ5aRRUsK/8AADOWHy7rvmL+Q9ACwNvEI2FTTG0GsZ5KUYx1/kv+gL35FjaL/9dp6rtMBzV//e7SMEkJciCALjiW53ql5/U7d7bBsHl3V9rtpPuIjHcCDHw0BgulT/Koa9FJ+yCLaReQVdSwaSDSyXCvzw1pJWPjU7diR46FRDZ2qj59J3LUFk7l8T8TFejpv2QHUs6Kt5621bvu0VBqUrajUnhvJdmpNIfnUw+IZHgbuPF0OttGtHOeFu2P7rTrRnoXlIeTkcAEnQAAAN4Bnnl0Qn8AAEFayJr/xvgHzrAAT9QuAIyeV/OEyCzVbxaeyoC7cMeMSI1SOxDHItmkzHLyS57VeAr8Jhge4Ewh4L5yMiWAArOv6DubpkvyQ7KDk9kjgTdqGmQT7zWYaiS2DQSyVYTHsvM1NjRCqUqpB/Tun8zrGBZr0dIjWvNo+vvXQo6MXeRKMtbfYSwl0MjBO9T+sBCyez4O5rxB24peNxwP2b5NLWxWVG0qrNOiyEUsQV8Tv1n7neWs6Iy8vjamRZa1rpGM+PZnmVG2QaKYb2gWwEjKH9d5gSiACygAAADUAZ57akJ/AABBdy1TVTFyJ+fYDJ7chdgQBX2PHSF/V2RXLurmJQ2H/TUfnD/LEr3twk5Jdu3qTDCrpdtcfQ0butc2dnhmXDKkigePoSQkCXU+GbfWn2F/16DzAf6R3E8q+vaHyqrigpVD6dY4BiISJ2apaKPu1uxN6iYP2tGCSXOUrAR4Jg85A6QQDLKACiQQLjt4gOV4J71SVz8J746/wTXGvl8qEg4zPU2zdm7o4kjBrOTVxuB2xp0hJV6IBGdp5lO6F9Uqaq2XApJNc9H/3PQAz4EAAAE3QZpgSahBbJlMCG///qeEAAAX21CMosbC8Oci7i+HscAvgU+MoAIcRMlrEh5aURL+mtTatNmVjeLdNrVmGqrTd9GSJfMM65dtng56+DIDGhI25LSbojpQMQH0OlWlfUkSQzOvBZ0MFBjnSGDxNAEiBpoKc4ZNBCvojZxpemcoxAyMWesEe5/pCDKVC3Bzy9lCo4gn11+MVh21BblVv9yfaiYRM4ApKqk9mj1qOFFBg3GvNC+MnOQWM1/JtGAzKH8boKuzMf2ef6dur9voJ0i15l3OMo5crbSSqZK956l6zbjge7BxnGkuoXaOs85pfLA7k7lnOU0hf7Qfm5iOhPgTvpG3j7QUxhIRvv4RU6sqZrsGjztRhX03zP00h0u1k5B0Yqs53THutQGAaBIenSyh4YxeDCisr8EAAADDQZ6eRRUsK/8AADOWHy7rvmL4EaO1gLNuus5WbPCtcF3KgAcsAlaPMcHd6YFP6ztzIgHQavGOkHj1b3aFlwu08u0zVTHsmhLRyd9tSGdTWPD4P5hEY1kdEeISxlCqgNmczzeFaBuq5ZSazrBYBLbga3Ydm8ggkxBXZL6oErFIuPdPq+fM5vLLVTgJLGNWdbdxUA+03YLfIViclbHvYi1hYsXEbgte6Kl+pQ+Qfcz7bAmVbCXB/cf+xw06zTK2+uVaaAGVAAAArwGevXRCfwAAQVrImv/G9/LbxCqUAsk9pFPHR/MAA0cM8V+WSbHZ58ywwDfcVaL5QBimgQOb7UUXanF+nSod+Oq7X4Pt66OhY5zYj9STYMfwVn0vlHNXH0BjmRaeI+yBQe0LLR9LneggP+EejLRfAYzNjs0HSdlK+6K3AQwL0U1WsgWs+Yz5gkbLAygzmXcD9+glU8Nt65flsDwPb7AbZCFrfY3Mj7MBL+H9XXMQA6YAAAC5AZ6/akJ/AABBdy1TVTFyjziAHQIa9VIw7THTYEXfOG6gD/8gGN23tSEFaf1lwog6dwDPv7yTZ9UnmFKyHKLuxXKq91XKY8yRfFVKbPSazG3HymQW1dMG0AZyd05pG2zAlrUWFF1wNxewRFY4FzkIlwxeHBLXsUfCC5t+kNJE6URNMTOKgDaZDU4xeDL5WBR92z7o9oqtunf68dB0cClSeBBWIwPOxCYuoGSY0Y8+Z98LKqf3+tgAnYEAAAD6QZqkSahBbJlMCG///qeEAAAIaoyTwAkicVfi/eHfffyfkqct6cufMU7IJdtw9t7S57KSHwTX5eaIyAEhxnSEZJpEYvJIIvzJLgMtQGX4geO9hW6WQkJHe50k7NsHzli6pBrQcu7Qejv45TJT+oyMBrisWn8/b3ZfOq1iuhAY76zwIlbCAbCh4c20B92cCQLD5jpUEZqvOLeAyO3Hm6VdUblIfV/MlQfhoRYf/nDNQx4uY+EfOiZ8rbhmx7boNLqBtDpbhZ0/Y6aSpzA8tXCSKlq9UxcpjAHKY7gtA0lpbcdAHejjEf1CMSHics6tGUEiYrmI1rS7SMB6mAAAANdBnsJFFSwr/wAAM5YfLuu+YqNryl3TIAcGWSwswFSnJRogKfiPH1VTdlalYYAAPEHfiFQeJi577dcH+T1q08Na7Nojz4c+dJ39msv8YsQP7hS7DpllVZ9CxLNvAC9F3OGjHWbq0FXB7OvHWjrj3YN3xztFhuEh/2s9grB+jreNpuAPnqm7pzQRCKU6JV5oDiEaC/XB80yiwc682YR6tP2rsIzNkuazmWMmpveBrpdhtxQVMVMrtI80xlsPTfCLlHBwLbhetxM4JZZC6BPXQJuOfUI0LrwBUwAAALEBnuF0Qn8AAEFayJr/xtk5pIQwS+gCJy2fd1d+xy1YXX4L3Lf1XnSIPycpUl6swzMlRnvrjx8rfhZJc6LUotR6ZFt1jw612A1+fhT4e6QxS00Lz64/SNLnsyd+gp0PirBSaHZC/QuE6cRQhZif/JtmJSqtmdJDqKphubcAwJWrsd581VW8SyO9+GrQpEjrFdWKMq+RTXH5tLR2cJvnacJaqxpOk65LOEv79T4iZ9UQBBwAAACNAZ7jakJ/AABBdy1TVTFECCyagCu/RuSFm3mXhHDW08cjRRs9O5Pz3MBCNCY5Df7dthW6L7UJr56ZbmNI9vu9LxJBuUurQ5LLXP3hfQeEgLGL0Is7GZ+1BWHVD+mzf/RrKlzKW8lrJbWJen+6Wjqi9sPYO0Pk416NCFLpw0BtPhw+FLajx+7YZXq9AF7BAAABKkGa6EmoQWyZTAhv//6nhAAACbdN8AEAK9pnGoKZlHgFH9oc6EB94LRhIsfADtSnRGI39obRrZ4FzhLO76rMA7EXuvZ2knak1HaRBE4JokjLjfn41lcFzCeY2Ia4n88dg2MvamWoGMbTzGLF4r9hVwpAZLy2HYwANoJxJ4Uvqf0viEuWBQeYk0j9zso2G/Za8rxHraebtgET3Kzyt4JD4E97E2eOxVv0D0cgqTxmAsXcUofIEvkRWUPobKXyo0DMzMiFXkYx37f4lDl/slAk28pRlBtQWmWwb3dr/PrfAV4A955eespYM9Pdl8zFxJnXYlGCpcnQ2GsSYh690WpdaAPLgT9kobHcM/o9YOv3wHhRTlhic7d5yJfbDA4bOsGmIeW+ejlxdpS9CykAAADeQZ8GRRUsK/8AADOWHy7rvmJiSFIyteAFcT5PguTy9Qj4MceJTpwlEpAqbsHz9Jhbgjoin6vr5VxhfHBRxTfuooZWDEwYBklqIGJRNCfz5GHFRQTzu2VETGqhzdTcv+egL5fxHuYCT9SGXZRhMU9i7HdsyHOToM1qp4PqISEdrtdz/3/EZQtsu6gCBa6Q3EJ7WAVKZZ8n7C/nAeXi6EFYLSgab+bNtlmPPdmZT7SXNJXOmKsdswNMNOu9IneWfFP+1o0/7ibvF6B8bbc87U0yR4UBk9QeHdsIf0n4AE3BAAAAzwGfJXRCfwAAQVrImv/GuwNm9RUgAbNDKvn4847TDA+9GZK6N3+AtVgLorVt1DqFTpkiiVOAizeCEqB/swz6rO3H8wq0EB9mPh8tRhKLZaAM+qBDscYVHMBVDuKYCsyu7RADDx173jNoavYfKtFr2u4bRmJgfXZrT9iGZgqEwNYIuldjCovcXipXk749wkBdrWlabKfpyquad9JUOwjvtv+w1g3O8m7RQ+FHXQnsQG2eNEC0eTUmUtAwwnJ9Zfjcsji/ihb8/RSv3no2DAADbwAAAMsBnydqQn8AAEF3LVNVMUTSyghACNTkhaIza7zljY43XmJVpAaCfQUm6u1zxCPwaquW8QkBlEk3PngfxROdpULJfuNpS83IbE9qen2H8VLK3nItUftQ7IPx54A3rme70Z52rvq8Ac4OCXsvyFOLOX8rDx0IJTjlhJeS2YGvcFiZR0uzbGAkZ++B+nzG/SV+bw0+7JoVPDLgTl0BKLhd+RBh06Sw/Eaaz4G60p8luU0deqZf/ez4M174LjEWDAkSc3tL4GbfN3Kly8AH+AAAAOJBmyxJqEFsmUwIb//+p4QAAAm3yNqPXhW9PEbFiqj//Y2FqTAUVodmqXLY2A8KQE+0axjHlNtJOyT7n+dGsOklcSuZ0OxfqXaWX4TwIRchzNCBpk458DdXpQSOhRHFUrnzVwxxF0pugIiZwQ74mwSzA2kb0ULxv9ri23c+W37qFXYNbndEWwMmeXugdCPYvM99UNub4xmbX9cXEIDn9+cALZwRaJZrlTCmH1FVUSk/zO+5Fk1AsG24Lvoo6zjyOO0gG90Z/2DxJRxKmy7l24AbXQiGef80VZXePknaism8opeAAAAA+kGfSkUVLCv/AAAzlh8u675iYjOOLMK5ZNKcxwA4wsIR20iZuS8oQ5HSXSR6OhMZpWWOHENNT6Kz7iX+UO/wi4bwDveaELORtX5bS4345Zly5oLiRkRi65Xi9LrFxKRL1HkKJoGwjQSFCYhWRgnmqbXfXb8VS3qAPiMGyqmtDweHatfSmcerIkyySOOD4YmZKY5jUlitoaKCRqi5w0BlG9l7lT92Sl+BeKm4/uhCafzCqdOlp2PE3i+vxh7mLsKioSUWTE4Ee5x3DJRklJPx8sUUsHi+jVVo9gTR8VVtuIYP0impXNiERuCw0a3qMzHx1Z/R7tDyjI0KFbEAAADFAZ9pdEJ/AABBWsia/8a7mjMHp7I4ALBLzpmLlF5uAluTMFd25cWDllo8tbsSEfkQ/MqvZ0Z1kTNNx/iXuT+MDZh/aEmKbxZfDRUGOXDCfKWhEsvC9b8F12w0+fyfI83MZXyl4NsLIO9W+IhmfI9KPE7bWy07tJmZklR0EHvLmp9otaYl19pM0mbtsmO+fjibO+OUr5/R2hIOvm2IuOTYOvTqQh7mqoU2AX9Y3/ch9I7MY5/beYLW7rfxLsWqV0NjAtvQA0YAAADMAZ9rakJ/AABBdy1TVTFEjMf9wAOkN5KQdyRkttKtGSOAh+9EXeGJpwrwcx53xrofu1vF+uYgyy8oteEJdVuPS7DbrEZt59hj1/WDGwHbaLl93hB3q99g/H3qPXTxZ4xEVCR1CWm5acncxisls8/wdsLjJhdUXIsyoAVBpRZ95wMMFOMclAtG8SsAjWnI3K0Hm+fAIpU4/7lccQ5U/Kzp6g5EeUhaNKZJQlCtUmLF+0QXc52/s7PIHRmA+AUQPM2eN6112VqDbPOjACDgAAABMUGbcEmoQWyZTAhv//6nhAAAB5+E80YvZGgKYAEtVNwSn+1tRi0C//k7JqdCllzwc4OKBkYPYmbpDPWQ8U+MQxL0rH03YH21olHCuWY7uAeb48UbEhISsqPZedj9+oLOTLavFxg1dwZPqdB04qBxdT+rT1lhfnnUwkh+kKUj/F32wno9kRXIW1TG614ynubNGG1yDSyIAvo7FPMUAqE3pqxn11s9Ej0EmUY9YdAVRNX5BNTZ5KTAjYtRAN1eSLIAkqvxRNMe1nzYTpvYFOc5I/y00jveAzipBP8CiW08QJaKdMZY38pF3hnMxmBB+etJZZQSqdhNPAFDevuZaPUI54Bk6fBKKg30PaB9Hu4RBHEdp6lnrJM2kcvwiq+G7/WuteOgSPmi//1HVzj7dcCvTAVBAAAA9kGfjkUVLCv/AAAzlh8u675iYaHKiQ4pvACw8X11braMLLtug5roAxo3d4r3uOPgiYBMK8ayWhaTrB7aktTVaALm7Ej7AIbd0AIu4QILIyZ75T1w6TVMfKizi05dc2oEeNZT4+gT9CJnh5j/QgZqxKGAy4oivtaeI8uWtYsulCOoEme/7V6rf6yK7fEJubGf/+6mHYf7kp0sQOTT4vONArkBLIlBq2axxCw4n9LRU++4l/x2ftWNJavgYIEGzaSPGsXMPBG8UQxVQeH9yMMt3mJhYF4/6sRWL/bPS4tYJ3ehj9/M3PFYQA9lKRxIzlM+nCQBUlD7gQAAAI4Bn610Qn8AAEFayJr/xrtKmed7RYA8mACw9uNKR1oYG1nL+mBfNeduaBCdHSpm7k4bPLazE2gYGg/FCQq7l8vF2ALqQJNWTxdin3D1PxpuCnYxHRaqO6waXy2MbP6AQH9NdGB2QUerzKenabIdB+KKTXX+Q2EHg62Sjg1OvRV0LpE6cT3mmSoxFgDsuJkHAAAArQGfr2pCfwAAQXctU1UxRIzrk5sicMFQUaAImIfN1i/awf3FpeFraPQKH2mEUtmwqE8wRJvpdPPChvYPm8s0seRBctPOT/SAkEnLLA3lQiL6cEIc+s2iU5zLCENgLfvLIgLe9ZRjkzaILbfMzbKWwciu1g5Ph6/nTTC3FuPr8rDCWcmIphilKoyFn3aUhFg7pf1h4BRYZPmNtFEuQtUjdUcSAWGy1ywHc4WgANSAAAABG0GbtEmoQWyZTAhv//6nhAAAAwNP7KfgpebjHwAffvRWcdQUdLnGNT26Si5jACIJXqNWamN30Qoi5wX+b8LdgmQYqGIGjIFsPxDVMzpPceJai2GiA0rBvoNuP5GqZyOznOs54oEYd3DDvry4VHC7qjM2ybRarbLHfFUNWzqWjiMGoei38IgROPaSZAqHK8dMQ/1Qd9dyQu+2vINQN4E5XikeNd0Z6IQgMyIPmLv/Br8upK0ZJl48VEicy1ZT30+B6WYcp5ixj1Ro3DB31rjiEm54Kq46cNdH9O5S/B7Twm5NtYXsC99Y1rgqy6W6jn5ngA2XdtmamUOiiVp0fimA3jXDoHtz13DlF0y9I9zZnSs6ebi2eOG3jue61UwAAADGQZ/SRRUsK/8AADOWHy7rvmJhocqJIPvypACMCWrFVyeel7CLbxAas96LyIbtHHYYIOa0BMXIz55W8pM9jtLglYRSg3mOef9q8vJGJE7gBv/X3H/QhKSgK2yr48cNxUdKbxfxKCTbLpogfIFEpHrwca0pu5LzrBehRAOmghUy/BZTQR8yAxJxX8XwFazGV0RRk4AA0GESubYLTrh/EyIyD8H2y/mnrxxkNCszk73zmgTQoKLx1m2utWTN1P5HXPbIN0+WACHhAAAAugGf8XRCfwAAQVrImv/Gu0pzTQicDJ7fSnx9/4sJmrzqWi1WH4M2aaWjogWCuS6aT2rlaLdYODSyvwTNdDl9lAJcfSzXU5ZpSD6PRUijxlBZ0UbdnFscApIJwDLzPeWvqwPNCX306CI+MtH+/ipNY+TQAo89Qa3rhdYNxKRKJ16rIF4RC0/gLV99wabEh/HILvF28lY4EIsuQNKooJdnVr24OnC0Vobi9ZqaArnjlF4TU0y95dDhvItFXAAAANABn/NqQn8AAEF3LVNVMUSM1Sd9uj/dOAwA5QhEX3n833NkEHNIV8GQVQdtzmZ7bfoUMMCT+AWq/MAbI3PaOoTfjAiMTFmzdNsXgIdm6QpsVH471DWdryECNKddwiJcD4BwBThD/mrD9/G4sgTDYaeKhq4b4gqoBZ/ELrHGSypGppb3ZmaBBD6YqUs7hLIoAYqwNn2MJRPobHjf9O+JFzV8K4ltvbO9PKgBFAS6BYuqkwwsk0dKgxMGAOh1P9SYhQOqc4veVo5OPzTnTh3WqAccAAABUEGb+EmoQWyZTAhv//6nhAAAAwN3r34KulAALpP9qr7yc9GSLnF1V5guV+8fztb6Pes93KmTpxQ0K4GHsDAhX6QT++APGIXKRw2e5waDRSZT+tKoILoTEDnMGEYWOwlt80wcbAXFfHw1YaKkU4+KNRHdIw5LNFmoPDgBELWFXRNKTd5VP/cqFSaJZFp3eoMy8xgkb8r9FKdkljclggXg7kg9s8ZRp6GG6Jjg8iCRPXmxPb+GtQHx1ySoptTHwA178sVg1yJC50sNAqIxyaVi8JA7ahmEKFUTDK5dce7AL564ZsKTF0DoW7TyTOq6gD15TadkbP7b9CEqxWgjmJpHAPC0uNOoptOUHhl0OF6XTOgvuK1ZFAEkL7Qcck27B81qsRBb9BO0XcnHZkTRUGkq70YwtxqHzzqIZlFwlEyHb1uvas3cBrZoJqNg3l8IuEuxoQAAAO5BnhZFFSwr/wAAM5YfLuu+YmGhyokhUt0q8aPJ2mAHBlzLjV4+/E5L3KJJiKJaHKEA+mmcxSPtjiXztamHxEZZpGSQOCspSffML9HGEDaN5KP2hq7OWEPKEbfXqaryIWOG0+aQXw7iAvgfxxB3IMTQ7aPDuKpEBl9KN0L0le556YJIl+/EgyBdC1rUp8YysNecUKieLj5PJz+Y9hjSRU6wBoaa+YIKpbwg/3OqwgcLYYwiUilvBgbMRSfgJOTRbkgaC9EousBhXvNJ4QqILijZ7HM1Qs+HeWuycxZus46m/4oYfG2hylKAO7+x8CggAAAAuQGeNXRCfwAAQVrImv/Gu0pzBhxFSABwAWAxbKIEYjj2D6wERtZblADOB30TmC0KLMdO0DX4FBVJTqmm2FNGh75YirxXcWAQZcMfFXLxWPZZH2lyjPxU1DyNNgyKxszVH1UfZx9ZNop+B4crsv+Zc5R/sgqUbHlhEisCmoaEIXCj8/VNGikLvDM9MHJdQdLPVoF7d1MpiEFksuRCdwSgxJKVvxfas/jcC6rFjMFL4dfHijBD49scALKBAAAAvQGeN2pCfwAAQXctU1UxRIzVKuXQ8AI7AnZR/Wp3dkTgN6N25QJc+4zbS6+7QgEOvqiST4v2YXbvTL9sLYmVsZ9JIUwtY9R0EaIE9uUhJI8Tn76gztdRNgAZrSz4JwLFEqLDNAwgiHeHsWAcUdZ1EuXckISqmzwhiMjCBq7/8euEXPasO27lgK7sy43xLWjeC3ZYjKhiGm72UhwM74NtcF33NDua4OCLKoydfdA2kvahNEMlUxGJX/FNVABswQAAATpBmjxJqEFsmUwIb//+p4QAAAMDd+ypcmHq1zrHclPstvy+iT0oOUk1TN4sFtyAZvBGBI5U7YM7FmhSPLeCGM6GclPoN4ojPpKUNgyJcwm9CNxUfCcO7K7aAPDgWhe7AQR74/VFKIw3+hmjfrn0R1B5+AR5hmOO7fjVc6a2FDTYSaBRaWXpe33262d2vNN8w9ReMoTXcEOBFrOKhG+n+lqYfeQERPeyPonhSCAdFNQe1baAT+ZN351JBztYSSCn1Q70lPnnPfgt3iPZQPuMuWJ0QLAC1vslcOEiS9MlQV9rUZMt/OtGLnEOgsoFgwbZaJzTU0CHD2N5Id2eeOWap+DWRG6a9jg3opQ+zv08JIAII2DOVECER2t33BcqtowO2Np2Gy64to+8C0rBRnk6DJAoWpPozKG/2pWqQAAAANZBnlpFFSwr/wAAM5YfLuu+YmGhyokhXQyarOkQcRnefr9EmvUoAODmoDc/k8HpUBkN+iCGuofSOGR7mmhA7mhzlwW38pUqri7lf3rie1QgAwf0ziZABZOYO5MmHa1RXWhzBkaxHUnWFxJsYNWjin1wSdE7BvQGr6E7tMcSvuGlZxkJ1+Bbvk0Ko90602kC70mN/dxMXcyYDtZTvKEWjWW8G8PrhPkquPcvmBGkIfkuFPvYbMPQkvHcSeV/ZEy/aKx5npR1srb9NgM7mGtydA47eh6IANCBAAAAtQGeeXRCfwAAQVrImv/Gu0pziiTNPBiFEYF1k+eADtvv/ebwAbjy3tSEFaf1lwog6dwDPv7yTZ9UnmFKsLtaSgHXYVDxzZ4I0X7v+7Na896uOtqZ2ZBC5RXEbfxGCGJ0vdWI0eeDT4f4GaJVhBsvJuN4C4JNRyR7Dl8HKevbvy13brJnMVdYtY5/MTuTjGCK+6f9vyFhAEFA1EhvGN62PaKaiE2BgjjgLV0HI434mXPM40pgAl4AAACgAZ57akJ/AABBdy1TVTFEjNTBUJYJ6TGiqD2ByIAWHiGVeiCT8zL45GWaAy8RzK6VfF89FcVYoqBZvJUMSqRvTdOlBQBR+PNvyoIO3Tmh0SwfQvF1GqvkF3YaNCeImOgQCBrU0dgCBzoZ3JTPZ2QnUbKlAkbzqi2v+0oGvelipLXDpLpZ2TeamYXtyQs2Sw+XjTlvjHW5pwbug9+qGACggQAAARBBmmBJqEFsmUwIb//+p4QAAAMC/8J5ovfSerQ2IDnvSADm5d2zHNL/7DPg7vFlYqThYTeDOlIVqd9RRqjDQKSICwDz4EJPODxSisY3NC37HIFglYDVyl4wNIQu8nWce02tIwqAvGmQyLj354G71qQPJbPTqC3qYSymHVDL32epeQ/5szpYPfxVOGGMYHYhYLpexlqMx2W1u5lh+rhFMFE84BX1tVhmec3jm3rTJK4glUFYmIF6+7Rxk1jpOITFv8yNRTxjSiJGpVcAZiEo9pGctXoLJ9IYzyn5sR227gDkowYK7XKNgCPDuiJeaxiP5RIJfJ4XR54NWy6NlJorrsHnIKy9d0JP0+fSgc7IXCjfgQAAAK5Bnp5FFSwr/wAAM5YfLuu+YmGhyokeuRVhOTSWxQEdM9AyKIa4a7IS47kK2SLx1ZxmH5YUACukGpvMxxHHE15+af8RDbD0MOmwbPoePvhEKm52EPkAOGmRWrsQcmTuxcymZmUXy/b+DW2UdMxGAu6qJNcGSOp3/10JIpvdX+m+SnY7Fnr1z0MWVQSL9pao2+tl5J1H6lRFmE4vJbDlTEFZPphDjmkJr7CDljNsIeAAAAC1AZ69dEJ/AABBWsia/8a7SnF9e3yJsXcQVOLgB0CiJF/q+gV1SKBA6M0PQH4nTylVSB50R+7RDhdrsXwzXfInzlRrYhFlDbu2VcmwHPFee/BrIjdNev89DA4VLsPjk0nFyautxGU7EgPyE+ArkP6oTcKnLiOL/ee4eXXeKBcKjiZNtCViqkAedCKTehNTS/Ay6t9YBw9cpFjAb8VVPHV1Gl8gcGeUe/1w7jPybduoh78znIuDugAAALUBnr9qQn8AAEF3LVNVMUSM1AqtPU7paYpABxWvlkjRYcKzUsLiNABVConJglYNQU6RpHT5D236Gru8AfyrYvJr6ABN1FDy51FlZBz6CSaNLPcuFneqUUfAxdk7JYkhH4ZXxcicNo1i8eVNjvzYvG+mG+AW1kbfLZUdCGdKbRhITXGTUYcfrDcgmlMpHiUeohy6rvZRnTj/GrEPru6ak2kLckAuezEGfz0NVaCx9NKD3RmQ+IO7AAABB0GapEmoQWyZTAhv//6nhAAAAwLWChd3kHXhFz0ALTVhoT0SJM0vH8YUglth3qbmCCL8aswAkhPQHgPPn7YMip+AbAbbn+GL1CR28q86RKqFOn1eWgcirmsMApgwzWodxkUma64NbZJhfPyPd8mMBiidDWPd5iUw6elDS7OLSegzdml1YYE7IAuDS4pL8sjE9iJEW2gOfmnGXnXPxU3UceVajUd5IQobYplKZJkBudHx4lPA4sFlpps55W6dX+ehiROA8jP3C2dZbac9BDBubcdpec95JPi7iOCEQRblo/O5ajY9i5RrgBfA4DrhWDjLzQ6DolLl8MYiYxbdteB2YV86X17pDC9wAAAA2kGewkUVLCv/AAAzlh8u675iYaHKiR7JWXnNnAJv/c6AGm7nePnHpIuiMTWSpBzpmqS/LSIoZRZHZDaefi77nuGd3m+nmkiu0fplzMj4L8SeoSs229ZKooGUWb80varkk1qHdOJAegBLDj2SaXvVi8I3eBLrE9vJMt++w2yg1LhONmku5ab4dS9GtMbu62TBD9Mehs50nivURDF+5zOMdYcByHt46u1GqEDAN5UOhQ4uj53l744XPImuj5xgE84qtqj+INX+LzcXFGUCNIFrAR/QVRGZkA1HgAY1AAAAqQGe4XRCfwAAQVrImv/Gu0pxfXt8cbGHGkoAgxx0l2AVB6wjeffWNWceKsgEI3+Hz0whzL0sBA+1YZISGm5wzuA4yC0JDKMUYRtmyPgurKvuRGOVB5cekgvGeNoMyecI8yWGukoSdHqx7FogQgGhBRYNVjG+ilUxwYYHyn0wRTvAC8kIrzWZwbQyuKzfcoKw/90pbtaOM0xX4oNDQ/lx2od0ntDGcIbEx4AAAAC3AZ7jakJ/AABBdy1TVTFEjNPKivhzmsAyKdKp15FgrQ1YnUQr2kFDm9mDdAQYmubcIylf36vbKxvV6BhbpIOGvLKRhXwwRkldvyMr2ZwbK75UhAbLVd2TtvpgyTe2vF7J2NYy/OevrOstBYWCbFVUq5TwuwIxtsivKux2LBxriHKZVfsfM0+ThmeNtrzCRPX9RVhmfslpKCz7M1lUGLLhg3v8mrWBIaR3bc5Am5RHtsh1G20y9cEnAAABVkGa6EmoQWyZTAhv//6nhAAAAwFa94S3hFrOjNOZkAOLnwQ9O006xncPA6GfBRwYA2Zr7y8gtItoyzh/av6mdcpA61pcN4vfeThCEW3fDTbu9kxu+HbzURT3iMUWojKuD4FznDHHZm51R7lAt++Og+1Xq3JrinpNcu55S+O4bOILfUc+0WMLhDqDotGnN4e2TPYkyP5G1/y0fIGrqCwtlnbxlo3Kjyw5caeJAO6eq03fyBAVGe//q3uLX9z06URXaD+skjaZgdn6LfGPKgAgcG+/9TN1381piQnwpAtydhv6Hz7bcMDxX48y/C9JEYdexAXS6Sid6PiC9PzQlfJkCJcDx4b6pOmevt6niv3pIdBwhFucULH1Odq2ZJYqH1qJtxXibLLDGd47DBBYH2prI+gr80JXNNUADvE9HsRpAsLel0+RqDmhlizE2hTkvcpAgkvBttdjzQAAAOxBnwZFFSwr/wAAM5YfLuu+YmGhyokekr5f3Pt+q8VIeZ4AHFnrVE40tcvzUb0m2ZDH5Aum082oxW3tuoRClX71BL28ZULjn5c3QM0qWgLo5DTZpOfXPf8LT9FkSRbqz4MXhJ/difStPzeZbWeC7axeQUVhhG/6QuVvilPPU2uln3QS6IQUeBs7O+YudS7dmbZkk8pOCKLYWdm9GyzCqOmUme/cpaczmbcTBpVwijXt+ujjXAzofxi4Ygun1K1HQeMiFBoKwb26tblgGSs8tQjcr02LWmv1C9jEHtbb5W50ybFGTfPrF5BsJpYRMQAAAMIBnyV0Qn8AAEFayJr/xrtKcQlrcdrJli4qQ6wgAOLOKWHe/0PC+Nm00OzbcxkquSrOA2415gyaBGVkK+HKt+2Fu+OdtTSjUXlTfAnMERppAM08Vm73GRviPu4BXvVC8pOfuWLjzQTFvVd0IuWvL+PLAzhAwtwx6XQgCWZMow4W2I3CoaGxi0Ug7s/wnQAkwmejGAZutAir6UmG05o18tGhM0cqWJ7wL4IxQs8mCI7sdPF5qIaaQ2jgkVJ3HtJksAAq4QAAAO0BnydqQn8AAEF3LVNVMUSM08qJpvmkAWci5+sEWFYN5Icn42Um9mkohq0N6byvyOyxPF8go6ZrXNDnJA9u6ywhuZkqCFZapsQST0zlmnP6iAQqk1QlH2dYzZOM8K9quv6EIIXEvCjx19oQAo4M1bIYS2htYAvvfkw94c2d1RETm8qkTjnDuyzvwUgU9OAULDoKRhmcxjfnM+PkHHH9gh0Tr7OZkE1n2Qdo4E6gUWEQ9vsD/J+WC8xK7dKFYa1O+VPCxeipgpqUAp4+xG1uvlfCgCosVkZqTeEzp8rQx5M5RVDtTN1MhOlglCJgXcAAAAFIQZssSahBbJlMCG///qeEAAADAR7+6RQRCCVYhYHsWIN1OpMGUzTaa1faPRYOADBhRh2AHjpH5rfYWQp77KONg/2K6LAZdvugFD6ekw1L81Haif4iTjCp5KuExzuL7241k6444xXqJawV93xV45vx/MCwquIW8bD2T7oxQOJsi2tgvv+bckiU2ad4+JbnFhbB/CD/+9y48b0e90Dz3PFHbJEiXIi89SkDM1smibuZ5dVPP4SwHl7mtQj/zvxWvb+z2zMyIvtR+d76oKHavjpb2SibgdNAaQpaRPtuqav0zCL83JduqaKiZU4TUF71rip2fIc0g35FvWPFItsaMRIMARHFRjdtvib45qu7D8mcb1vU3wANvBEVrYU46IYsV3bU5LydXVQ8jrp8QjnkljeFrEw04sTfPKlltqcyn6QU0nFTxfjAeJgX4AAAANBBn0pFFSwr/wAAM5YfLuu+YmGhyokekr5d34tQB/Y4n68Qf9gAOXtwKvJjyw+tRFLUHCngv+zP67zzib7ZmtLoem7nYRUMPDvfbQxdPDcoOSfo3EM5xSagsN+AxO2APWmDbwQQioKSBg2dUzKbG0MyK5odofGQ/W09k0b7XpfTFiCtxvSHtaoD9/bfwaZlLIJy79vmLcC7FyPKd12WfyZI/JMT07wVCNITfQQ8bAmtm7wILJ5p7h9BGAHc1E5a14zuGUCxnMDw4ibrEzq5HgIPAAAAygGfaXRCfwAAQVrImv/Gu0pxCWT/z4xXxFnIgaO4ArU5xjmkAplf64mhlioGOCCCylHf/+eRWH2Itssxu52da47z0ffuHg8B85qDlF4ieaUJHMA0m4BjCcheTJmptIYECP6CJpb1B3DAixnrDhTBTE48XQSYFsinABF//o39lqcd/Jn9RVBnhcSTfr7ZCxq/aIqSWuSUpcAIwh+lGRNirEjo/HpGnWaLPN7P4d6vbWKdWqHtSsZIteDYM6fS0boehcUnCcEfMhKA6YAAAADtAZ9rakJ/AABBdy1TVTFEjNPKiJz5eYJd8LLAwAWknsUnob9i9ourGpTW8R+HfrkIVoSQL/9uBJFMPYVEtpXeDY+XCcsH3p5f9gxgkJ5md+DIGS0WrtIrWekNh1yqnWGAECJGPpGvcVsDMQmpjZM+tTdjR3rVZQgEWznp+Jtm1J6vC1pqWcrzIFMVxP7zZ04ouG6MmvRCqk9LEvfE6VsZc54PqZ8v6qbZcksezeUukuCK7auYaGZSewnl8BpBtNlbGOdl/lYga3SRNbV8kWK2lNw59mJmvbToqgX6tpxKdjeggOfQ/BlUC7lqwAEPAAABQUGbcEmoQWyZTAhv//6nhAAAAwB8EWNa/eRtkwOeoqn/QA4tJYm9ZnxCxRSw2rd92QI302p01mvoFVfK+tap8EH/L4kBF+jAWlG5oLd4HrD4qrnURMsFjyxOytYVS2iyjCievQ3mTdylLDCfNUhQn4p9zW52n7pefQugoKfgolzQdypDannWAo1F9fC/+CJv5Z415ZvGCNtQ4kKtsClAKvjEEzDlzaKZkpsyGlVc9PbiOjs5dTLZwVepwTrx/FX6n1p42N1UXoQZvmYA1I5l7Hm+aNLAjr/cknISSjvwf/FDdUwU+R5IP2UuucayMsZrvCvDx2vmcs2vBd67aohpxDwHak50mpy2Ev+GKgOoCh8NPY4EqKr0XnB/2jIHPHb/tQNAOYkeLCacXEzM+JM1UxZyERoJ0MzppWd4BqEx2zgvJwAAAM5Bn45FFSwr/wAAM5YfLuu+YmGhyokekr5d5uLvSftib4ryN8hEJmem9xPJ+gEh4lWkhOdkwAcTQuBYj/X+Yz3eb6bOIqeYVvmP8qKRh/g31crrYvy8D8Kk1ym3ovFxtr4JEJuOR7impFyGE1XUWx+w/FxEF5wqbMuM6kiIo4+ZrfLN9B+hLFrlVtVWId0dIssXkzz0nusLOt9Dxp6Ortyr7KWiudBBgW4OIAx/YGJP1H9ymTPepGCJRZv5wDgUqCvr0ogDsRdL1ZrYr1odUQAAAJkBn610Qn8AAEFayJr/xrtKcQlMSTyqp4AhD9Kq2ZuG5dhep3hw9MmixMRzv3MsFpUdkGTQafXviHNv1l8Gbl09wwKtV6M92ea/e5FxnD7CSr9R7VymWX/Uxs10Y1NkWG68G+7FoJvJ2Jei1DTurDP+yPOCiyaAM/IFzuJa/8g0xKTnlTQLjPebKQ91v61h8NCuSmveq0MAGhEAAADFAZ+vakJ/AABBdy1TVTFEjNPKiIvbNzaUxAE5UfeXJKu1ny5fPcjlcj2hUnr9lz//3wljwJoctbDDUuNf1huwYELNWLBnAk3Edc7TxfDyHDgDWdcl6nUvTD0IZ5sfHTz/3YjT69S22P8RACDuj+ovDQfT1ZzzOo6Gn4pnknaTuyMnUgGbaJlqEABeyTE1BJVN0SCyyB+3M+okSa71Q0Zx1JfiM9gjB0MvYXnnNQKL5lc3lsUKJXV8USJSxpNCxY7YOZQAA2YAAAFLQZu0SahBbJlMCG///qeEAAADAR7pvaix7J3eZKVZnoW9+XZmo68dy5xry6wASqDoaf6DfXKtTd5ZXDi96fBYD57yaLoFG2T5wkefwkuvC6epZo8R6So+f/r2ahnrmXzVch6Bbpagn2XJYBpGuqi73Uyadgb6IFi0+kK5f0OdNvu8Q7NKEXRjJRLrYDmH96QgAl9peAZw5u8iTFTreQ/C6E6pMSt1YnSr6btBR7ZhMWddBJ7p8BuLrVVnPeg3zGRQL3HDU8QbVW+ShWJhottWX5ASt9mUSUVqt7+SdlP+OqbRU9FCdYWwgErWWzu6QV/Etdh0SwAEYUG+fUYi+7AhdBWYURSanHj7snBWQDbZh/khiyjSnSoHoNHjkZeTLB/GEFX5IUiCX29tUgI57oqS78huOG74NgAKLJYXRBt4CVmx4Ff99igi+6t/jgAAAMNBn9JFFSwr/wAAM5YfLuu+YmGhyokekr5d7FEVdB7DBesWcCC9Q4d3htyFlf+NABBEJ+BlO/ietDCZBF2TBTNU5wMyLup6EQ7aHV9to1l3o4AKMq51Bedqrz0r2OLnq9UiV8bVT3aDxCtGk0oZKfg36Lws7FRzAlWu5A4zaavPsGN67jlJvc/vz7BtqoAULJR1WpJQgqQVJ0eQ6mw2pCY4WfvEwsWwCzrw0Bjz20lIzbfaGDqdWHoVtTngnEzwDSrWC2kAAAC0AZ/xdEJ/AABBWsia/8a7SnEJZM9YNWOkS4QzTRcRP/4gAEEntuczPbb8uD3wqbMVA70zO7euBETO8ipzfe//Eykbh+q10IskxCOvadeJ+81YeT0/il9eQw+jPx/Rv9rzN00CL+OImW7j/YVFz0yV8YfUXUhVY7+mhorTynsu5kSZS9dAC1NKnkt0sBbSjvKiIMDrmXWTOb9/wqj2FyMfZvCxS+QWkysdgS1jDqwAej9aABvQAAAAkgGf82pCfwAAQXctU1UxRIzTyn1+ZfVtnBCU5QgmG6aYQAIzUOgbREt1Hyx9nO/cuz3T8Rs0BxoG3hN4Zmlxwx2HtOGB9xGweFmkuYCIGY7sCjMN4lSAaPIoK4mdaJ/Q3fBkNjIsG2rbZFqegEcyjXAQOba+sEvz8Eu+U0fMzh6q8guULIe7wRj4BVHQwbC3UCZgAAABMEGb+EmoQWyZTAhv//6nhAAAAwBxC5CEAEPo641J6q2zqHKCa+BWkBYL5RZ3iBBeY0NqD7B2byJN7cvNNkOzwn+crnpx8ce7nDKV10DkHMa8knIW+uxQA7rxf0zgkMYH23jZZH+zyZKAQgYffGp5Mt2VRedcvel88X9PuSHTBfdAMEV/g9zK9svDSXiKWH9M9sBcveTZv6gPngDChapSAfpuTf34VarpI0mqAtXLjS2XrA6U2FMr2ATb2f8Bb+vFnttLI61A2GiFmNv67RD2NiSrEl58yBRroakoSLdakcdDWELZKDkOViwFRQb9qDRuuTm5sIW914A+bDqFq9FwNAB04R+ujOSgMj7e9F1DjhqflvE1758zHdkoyuo3P6Yac7rEE05IgjZbtoKQc04P+5MAAACxQZ4WRRUsK/8AADOWHy7rvmJhocqJHpK+XHYi+NUfg/YZXwALqO13F61wPrxFi5aSFxETCLlPJ/ThBSiUPjsO8OLS2O8RcaEPU2/tvjDN/FYF6Y+Zcptrby4FSZZxd9M1yiGkMewG2Eciun6ZgUZl05IjK4LPhwxSnSgWHR5GjR/04yEyKJeiHg0CWvlOmjijqBNLlAabqveYtiimnMTqpBVLqiI4JCzehZeLYlBelQXcAAAAoQGeNXRCfwAAQVrImv/Gu0pxCUvSgkM6tcOeytS8AD71KWbH8HNxgyQJHhw+SB8tKLeHGt4wzeRF3uH0Pl/4Lt4YoypSXffY3k+wfa+v9N6wubzM8pPd44Z9t5OdPzZEKmpO5weZ8Ch/K5/wwjvr+jrb9TvH+66ThlrMCw7c6DDvCwbjsrLUEk3SU4MOycGTYtTMf+uitB/EipJGhulBgAd1AAAA0gGeN2pCfwAAQXctU1UxRIzTyn2yN4VAAj3lbzOv9dXcV1kHhYYMgI3Oj8WjwyficsDvwl37/9BecYSmqRLV2FSEhfSDFP8Daz4zsCmjCCLoY5eU7fCYHkBU1uT+Si1ZUFTm7f9TCtmiHJOWR4GAaucdXGbI6V93MPqZ4kOizRID7h2KPM5ZgLHxx6n7DHPd2mWOErl7f23VqG0JpFCK4Yc3F3n7dhIXVpoVFH5irTKY8ZH++vymayhuZ80hmoLTTn1vkA7jLsS6ZEkVjew05IZWUQAAASpBmjxJqEFsmUwIb//+p4QAAAMBFum9qJSoALzLwAOIyhvpcVyMKwGy/sXTlcYN8Jq1hGXa2x1EWWmIUV4bJOcbPoxTTHVgfybs9zaWq7kHYa5mrdDt5pDsV+Qf8QKryDDj3auoMuF/6uj/57jTkMvlrS37xXfHh/YVIw7g49nAyr2rhhJ+XSyMmipnePpXEUf49b7n7rwrV7A7oUVnSzEXCtBXNzUc7M8HFrRrfVVVWS1htD4NUAAc8X2Nml4jHvqvu9RQElCLGHCMM8H/pesdqTNH+sfzBvtVYkRG/8Mt79H8epSxTKPZuMjjmDeaJ0o8ZLvC6ff6Bz0l0BQsjWMl4S3pRFvi+hWRVEc+59i6bzeiqaoEUrkxwAa6XoNmuNZwZTnQdkrQsGXAAAAAvEGeWkUVLCv/AAAzlh8u675iYaHKiR6Svlx2Of92ABxesyAZixTdyF3Wgn8ND+KS4mlISFb65/gSboDml8i+kqrWxVSdg3Zi40Q+RbDdhpmtJuJ4zQpYAQIVRGNz+B17dSd2etx3/v+V/2Z87Qken1rEOvJZje9GRLmRZtcQe6IIh1WONbQCX6Eis/Wuc/fKNXxLbhOhytA/hEWx6Y20KdWGQ1VU23kHXZVTA9oZINQCNysttmn2rNwnTgdNAAAArgGeeXRCfwAAQVrImv/Gu0pxCUxxTDo+jgBHafk6a/gElt9i4M1Y2bvsy13GEqNb9lJ4jbIAcxe3B/l6SxjacdpJ1d/0kMirizN7KvN5Vss+Qs+LehpFIJyviHXOmHPPYMRI84HiVqfindqnDiubRHBYQYpGS8M51nJm8MhhzxsVR2KV7r6501nARQvzJ378hwj3U13io6yMqJNJ3+mE2742/DTCcRTw+xWYYmDZgAAAAMwBnntqQn8AAEF3LVNVMUSM08p92/gKAF/oJ0wJfVjw6zWbF7oufLiQsr3XrBERuuL4GNkYymPVLxGNkuDma6FgJOaZccRys4snJjFALfH0srRdR+0qqR30iMxDooyv+/swhs1vA1mk6bYWMhWl2/w9ZvxC7toEB21Pilx4cLO+T+zVTgknjlfUUoKTMImBlPl+JfL6GA290f8cGxCSKkNn+enxfN34AffTWLqy+DQ57/k5m3KGAKWh3A0Fs62DUCcdmDuNyGxCYnsACkkAAAEnQZpgSahBbJlMCG///qeEAAADAHn17+6Px99ABOtVmkKthVsPhqNxk5WOX1B5wwfv7eQCzruTinSWoXlB4pJVsUW2iDeqPeqCKnJycpnrXe3ZYzTauDe1fp7kWWZg57F9o67G4QzRWEo/9I1lkVNIkiaVWSS8k7uAAuAzan+vfQ+Z8GcvQ9svXzwvQW/8y2W6+8iXn8rV3XaHjNsIUiaQ1wmBCMqF15x9VnNiH4l73wjxsj+TlRSf6YlkQsS/wQM1Wgmaz0RIcNFld+PxkUEhucPsHnOIFXzm9SN6nPVBofborbeWlx4DoFNGqCgxYna1DqTRGpZjkGacv17C5MpCmvhTbitKZz1V0G4MdP4qKDb6/3Uaf/t/g3w12ipKGPYtV2xE6UMXcQAAAOpBnp5FFSwr/wAAM5YfLuu+YmGhyokekr5cdkbTNihADT5w/ZUp8Fr6icRSyHplaAja+OVTrwCJaTh1rrWxEwnI9J7K8JX/PTAmmSrTWv/mDgHvCJ3Z6bp8MCM+u2TZ1gkdiyzUsymUec99hMp/Tu3WgxxVajOzCqlQg7YveCFdhw0JXHlP5wznbpuy/sIAR2Pma8gC7kIqTkodNhUZzfiQz4lIMy1kTE+ZkrxKZOpspvhs+lyCabyegIT+iFvzGF7o7kTn8z6GsWBwEH7rusKd6hb7sV5CofSfEeFruXxU2oUjHsuVgvEAjYAAAADCAZ69dEJ/AABBWsia/8a7SnEJTA+T0P/LrgBUg/cb7xOFga9ZkzA63SYe07dsYFm61K00OWE3u7RnqlQF5c9tSap8dvE/X7jVOlacr8nvmJRB77dHmfs7d9e9tYvHFO11fnqGytfJLNHeSdNL1QAlp/b3YWR6HNwCWTlKerHxaGpGboP+ksAUZlZx/eqUb1Wg88ibDOoKAjqP1+qXAm/W7VHVRhhkGE3KSrX+CxQHesPrkXoTK8iYWwltD8L995og7oAAAAC4AZ6/akJ/AABBdy1TVTFEjNPKfdY/tYQAqH4HpqAL7X065khM/l7TI9GZHGabt3paJZFJvDQNnLUkFWRCnNXaVR3YaKY4mykbRNvUcn3/OWMEmmNtBA1dkOEVNL7dFAANjEkkejGPeq7YiLjk2SZDro6mjEqB+dnalZCe1yc0wA9K6eJtTyCur1pV0J/ThmSI5v8GgPoQHxkqJz+NXSxrJm4jgMaKmi4URQTeWNbmjGccLRo58Bsh/wAAAUNBmqRJqEFsmUwIb//+p4QAAAMAef2VNsD2uWQAnTwwYqLyGYwgHWU5VugIGTK/f/gipYRPfIzu7NVNpU/rsTd514Vo16XihZ3Lfxv3oZ2GYnv6Zilyl3C/SqEceWo5qHaPx/Fe3YCRIleDq/OXezTObX/bY6h0tNKreYFOBv7/NlhpXbt5s3OWq1YQJCd0oxJ+cS/GENoLAFdfrZbwKzLuSAE+YHDiDbJhzZ7VWJK52LEPvU5ng/2rvSbdxtnZYnGumr+Of0faZyYq9rjsGCMAtLCrfHG8c7VzS2LdO8Jau81+XNSLz0hEC8AsbqwN4igkEpUKR1+vC1kU8UgtHGT1nUKNRX3+teo6ky2wxvXM5nGXJV1QaqyJ0KY5dtLKTDrIQMHNF4NtAZGqBEmO5k8cwG8srX59IDfTlpsptU2+HYyiJwAAANBBnsJFFSwr/wAAM5YfLuu+YmGhyokekr5cdkh8EyIJMYAiYi8dx+YMLk997RBhbPKr+3RKx7caF1j45lY48dSyddPceJyRxOeZD7c6r1wjmO7vUAhGD6j8Z0wYaqmZYddBYVVRky/yBNVJwaiGWoJPEM1BrXa9d5/VsBfGbwcDUwDfE6UwwVJy+nHXSQrHLYU243Yzy+ihjAR1SptZU8Lu1QRoxzBfS3jjQtU6cwEpjz5/S0jLW30sTIXJiOjUDSA0MDX3VJeGtlCPSN0Jfh1xAAAApwGe4XRCfwAAQVrImv/Gu0pxCUyIw3cQVI6gC/EkSL/V9ArqkUCB0ZqERGOmMw1WDuF4LjLi0cCZRSoxW69pnlFoMJnVtokEh6F3/z1fhsURJNJcRWZXGsPooWsoe5z42NRx7n/nEmyVZzMFUsBA3G+zEAEWQqOxQVHf9/X2IYJdcwn95Hm33fmqjSbkUYUB0ms7+zw/3W1kI4Dye4BaTbDHQK2aIAE3AAAAsgGe42pCfwAAQXctU1UxRIzTyn2yP9cmACwN28OiUL/d5JkgmyV0bkE/liRileD9PUSxBpeBE3BO7Y9fIp6vP4P/kTKwWHiwMck5TRQpqRxzcHUQ7D6mk/0nxz1rKQG/+tMON3Xreu7GUtXtl8TY9GwvuPLmDHZMamJJ8WMJbRpCDuBvKFBDRLhthu1VVN3dgifCIXmJAi6+qJiKYa+sebe8AN6X6BekqOg3QjrVs7IAAz8AAAEyQZroSahBbJlMCG///qeEAAADAHR9lTRk/Szq5b9YQHxQiYlS1WUylja4jlvbFvFR0kfL8607AyLUe1kQ4127NiuUJVNkI8UBdcQNyZSrp+4gmySUfOw1d4I+oGM2cGHY/IqhvmMBJ4SDwoZdBoSoTzw6eoatspa3dqmLa/K0A1HX0qsHwS0AY7c6KmGo3i3EiTU9mBkozdKWVrFoCXMiI20MhxzaQrwfoghitKV1N6GuMDgGTbw8HOyddd1+vzzhmq+PYU4U9xD+Q2CRJdiefaXbOqwpLDtqU+cqTLdhvRFsTb9JH/7mMbptxhls0z8RgZPJ74BRLIGu+n+DZr74UDJgsLbLA5Dz3cm9Tn1lRMP7URq8h7AZnm6bR7WN+FQCvHSAjdnp+ilrmleNZdW+/SfTAAAAzEGfBkUVLCv/AAAzlh8u675iYaHKiR6Svlx2NQF0eQcP8zBTomCRqQP/wvQAK3WHnS13w0mdi4LTAX4ztwFhMcD0oEPfUJv1VP91IJ3siNTjg8Kecq9SlmN7JDRzjrUF7pLbKlfhzO9M8tsRIrz4RW9qNSgfx7PRRtUuXiLW4EfgrrFHJ+3B0oyt0f/2KLw/guCUJ+i/HXJMu+yhUPc1pDELuzGPLHgCabqyTOA9MZuAc9HP0qxteDf8Qa1AgnSxV6b5sYkZDIfeFAAGhQAAAMQBnyV0Qn8AAEFayJr/xrtKcQlMTzFAB0b2LmXaGIUHdmL0Pnn1k44NzD4e2L3fF+pdMfL957BXdWAm2rdI8oIQd6QWcnKSjVXPfv1edWc5qqjuRYzB0jo9/zICjWjBVxOtOcSQ9FDEuYIKHEJ63pBHuc3WIrl7CbaS79W9INb3Vd/UEZfm55i2ZkfYAuF17uyF9awzhw291d/8za8vu6QU/LIk9lPFc+IehVNbWWJhnQO7LelQsSa2VjlPIGbTiDhpXyLLAAAAngGfJ2pCfwAAQXctU1UxRIzTyn3EGuqO0Mxg+pogBDDjofxyk0TQp/pbkj+AIysULt6TUF9VXaLQqzzN9AzV3i7eSraufl05TN4RsfXyqqnKrwXQWuG9TUnEyhfINuG9l5RSpJWfWu37czzC5P2x/FlyYcb8cX/My/q8uQUXTMYj0rmzAmYoF4Pajcl8j7HCM1/kUmYlnIpnAueYAG9AAAABQkGbLEmoQWyZTAhv//6nhAAAAwBp/6PoyxguDK4AbNPFjjhYArjS/zQg7Cfv1MrwWqd24hfggVThlmYdzQWEDrGB5ni+MvlxMROsG1y9sRXzRYYZACo/Qzh5qs3xw2CSPMmme4gPu05iZpu/oVjW3QXQfiScHOaeqtxzH09JlwOoPOCtUsMseMbvguM6e8ffR0lUmMb0o+ZBX/r2+ZmAJ9jaDCBS1ukD9hFCHHtnwMJ5mUsrDzKveG4CPtSsNTarzxG/QNT4U73XltcjiX7fFAu2wiR2Idowe6IKlidgeTnFjxyGwifWSQw6+FDPPTgihkO123z31N92QI52or4YHdjhS172ny8v39YztgRGJS1JSKxBSboWYkPabS/EI11z21ZDXJUeElh+1ch5/Y/s+aRODhNGkmtRVWpMKXrkKv9sOTMAAADZQZ9KRRUsK/8AADOWHy7rvmJhocqJHpK+XHYywCm7XBunyiAIJQ7M4neMYx0fyXK+SeQH0bLBFGxPvhIzipDqby6eWDmn875mmEddQK19UxtV9ofgmNNimXMAN1iJYZ8LRh6G+5fnkX/0/tMMMrUqu7W9OgbQuxFkxUi7ntNjIX5eO0MKKLyugMuFbDeWjR3Z5TCsX5t2vQQ8y2lRmYPNdmnVWgSf1erF/HW0mFYUl5Aw7Bdpmcf7fcMojG3eP55nv56YQkW7iOCSE5NVg/mjFD2FH/hWIFwIeQAAANwBn2l0Qn8AAEFayJr/xrtKcQlMmQHeJkthzrSnS1l7WcKPuQAK5mtZaqmDO9zD91sisKkX5dPjX0YkZYBy4PQRt5PZV0OElK3vRJE95eqeiKkFYoIhKmUM//wf7RjN+P/oYjNCd+KLRHQAW9I0UMNvXMIkxpTRvn82Xltmln3jJbvaQ70lqGUNcl4rlPIs2g58NGYmBpUHRBJx4POqazFXvW7RzfPsuAC78X1ksmMMVpBKaODQTdBrB3S4G1EUCE+LHEi20SqItFBiw9R419GyKhzVJ6j+aOGLQAGzAAAAsQGfa2pCfwAAQXctU1UxRIzTyn3qnS0f9b7DzQ0uL1PAC29rPrG4L65XAvWJRjMxIMFlOSL/q4lL3XFMQsloU7/sy1kb7cTxP4dMZVrLiyUhGdEOOhR4tzGr8IF18tCscmDjVZIGM20dlZw04X9TwmjWMhw6TiprsCUgekrjg20CAxCsyhkvCyHFTD3Yh42q0G05upgISI3Qhj4+5KoomlBSd80LTap5a36zDXbsA4sDZgAAAU5Bm3BJqEFsmUwIb//+p4QAAAMAafhPNGLZZ3UP7UAKx6Zm6TUCXBwkci/gMRU99ttS1GohTJsKee6n8jr4JEOd8btVVJyrXXPCojHsUP8FfItsI22Pdt27nAWARaRRpVxQmucpJSKr8QCmLhxQN+vcWc9S1aOGHD5L//XS1a5M/AS19H1WU1i2YhDxFXLNxn2z/xruJq6I5jMvd/hFe5afzeYa3STDcP8a6vGpmtNx/+ZUN9qKI1mXf0Qp9nQRXpp82BRSXD4toI5r49ny/o6LpAw735jY6W8SpNdLJiq+Ra9gOw8yug3oBRHo1DCtFETGqFaLOFTAUprcV3F7j5ENsM1k73jZ9Cyooblf4o9alVURDTBwA3C56BnhiFS6iDGe2b/YXrXh3UAaTcyLksv1AFz8ksli0hYCVn9USaJUXLKIwzxuu+vBq381pROBAAAA6UGfjkUVLCv/AAAzlh8u675iYaHKiR6Svlx2MsAnxfnBauH6yCE8LsARMdDYZY1TqLPSoz8qa8L19ScQA5y6CerqiZvvPZUPomPmcEI+G+6HeJRNSPKdssbSkzkU75d5nXf8Kps86186NVNdbT+lt54lPFMNYzaKD3LkRApR6tFxiUgdFuc/xrgSXBGb7hkK11sBu7eSoEUgC1cbi3fS2YLr6Gn+gWlji2Os17gdaXzU8DxW0+K8cD95IUbzqkw9VOS1p8QrrdD9G0gd0zW0kBVqC1mLIQBCDHwb6VrSbKx1WsKA9sLAHoIPAAAA2AGfrXRCfwAAQVrImv/Gu0pxCUxCYB86Qcw73xKBXHj/3lgAcYm4wRKRfdJDOCFC+xHEQZW+1BVTfaDZ8E8Zg1dscQ+bR5S0qOQsolPqwOtew4cfpQsaY5sMzvc6/aCNCuIhUMsQXR9v7k59l/pd/gTJ1dgVfhDQjT7/oxL3Zo4B8a0m/zzorb4YPR7nV31H7WHy9NybpS44G8qRxjjPBbUxHbJ0IqAY6CaMOnPU5wFGHcGW6zYKJkrcutFPuHz1fbfgfKl238rQa5q+zevVLh2gXNzoX0BJwQAAAKsBn69qQn8AAEF3LVNVMUSM08p9xBrqaaCtTgkGIgBXEYXRUCPC5zRUn9aV8g0ewJ75dH/XVe2HUNnUrwBDj566i2c4DDXzYMy9POlmWxeI9Xydz7HQ9tvai3qE51of8ucg1NDa6f2sXDC8EOCvLxOa3l9iV+eYq57fTb8u5DuPu1lmGfQn+dB5mnYew/3IbmPXj//+Ern+GUS6gAxkv6ubkKIjhqqFc7LwccAAAAEOQZu0SahBbJlMCG///qeEAAADAC6+8JfbJdfw1Wc4mTrTZViNd1ykN+QM4AbgzkDYQHU3WqOSzpU29vMyR1NK+TfZRh2PzzetZgH66YF7KjnkSrfGkYmfIrvxWSdYnwWSI2TCEw1V+fLurITcjGccUirzthdJDshfMC6H4rPlvSn03bMhNlaujOSlquA9SHDNB3ambmEwEUbayxiYEHk0apegV+iHKRkK4o2RkZqsBLi3q5X1nfyE0FQCzBaqlsLgZrzadeQn4GNB13jMWUtuEzZzLbrUfZwdZYHu6lN0alqMus9RfK72zGEFqmFeLdtU0uwj/IOElVVP6kebmWkXyM1ZxPHoOvgTsyRAchttAAAAvEGf0kUVLCv/AAAzlh8u675iYaHKiR6Svlx2MsAgw3OeAFRDF4kXuXBizmE/OXLRtm4u63j131UeKbbaAdF/I1N4m4m1omJSMVp6FUEauOPs1B9Z2umcb7y4FOQvRIQC7D0Nqch1A3cet61VRdeTzE6OpwiTJH9bZROYuoogO1BiJLgCvr2w7lTwzQUCmbMit0HZj9KiA7lMkP5HGXsdgMTQSaI5qhTbL2aoygbI902iVuDw1byqcUylgN+BAAAAowGf8XRCfwAAQVrImv/Gu0pxCUxCX/ZwonK2Z6iidt1vtprMqXaWz3lgAhwjIsiNWR9fUS3v306Susjx7S6bZnBdYGqTSroKSst5KY9GhHfdl5Th8XWJ+lfCJO8iBclRUxG+B06tyZcyOppY1o800yusOpu62jTrFjTV+CQx6f3f09l7cKZPJ6raMBtT13goZjYX+nEXyGMOkl1NAJUlWG3AA+YAAADMAZ/zakJ/AABBdy1TVTFEjNPKfcQa4XjhDaLPgMJuEW0GAG68r+gCj1L57INX3Pwmiz2LyJ6c/pN6AuNzzVFvV2GG1Mlu29uTEvhcLPuHiwMW/kSFp8Lxy3Z3psKKbgrA1h9i7C/MhnTwAvu9q5hh0MAEW+admU8dnp95qNxQIcJN4TRkgm/O8z7LvyeAy8QVwHYYfHQrPUl8Ez/Ua3X6mJHKnquiQeWoy/SW8dgW2/j+fSxz9dZEFSv95yC4dBZ2heAbNtgwCOTgAFTAAAABY0Gb+EmoQWyZTAhv//6nhAAAAwAufFDqAGj0Z7km+n+Tt7v3+PJGgpB/FAe8gTB3VyI5wpwGCtzoGzPl+9XYO6kG+ajfaVJBTl6pD+/W+QoXNWtJhDsYQMyWSj1PSmuhuO2Sr+R6GcTL3wElOTDv7ejz5hx01Q0nyzls2+HzwctyxO1GA390bfbM4r3N1c96ktMi+bfYT38B5FEZYXFfRVS35G5L+M/nH51gl/BzLC//Ge1DgKrBy5pR+KxOTHGarb3Xk3HBEIZ7IfjNU/8dgIugaOspQM/mdzBZD2S++5A6ok54VWS4yv7IZDBjQaqtgcQ4UwhztJ8Ep+p2z1oBHZ8iMSl1oPfz4squCn+O6P5kSm6HuvLKGMnEiLsk3mKcLlUdlsNiUvNDDZ6M9VEZpSDOZKal9dQrQmHxaUB7TM1lngpTvmEYgJ95okE7lABjvk53yZrAKe8eIsRqOb4uYfwntoEAAADDQZ4WRRUsK/8AADOWHy7rvmJhocqJHpK+XHZG8UMCxGIrpjPPzbAEPemwyxrvUWejwF0BtgukdXBM04CvamX5eSZQ8USNEvvfdzpLItICx6zoS8jjntkrs6DaK9UuQPD3TUSJl9gb33209+6p4/fUqtBh9xC/C9ShjgXBdxh6Ohgc3aPrV+CSRwBc5kd0edop4dJXVNivX0u3/hzSTTrd5vaERJUmPJy0zuHSeg/aqGnuWDrgIcErFFKRzICs0S/JjBlQAAAAnAGeNXRCfwAAQVrImv/Gu0pxCUxB8Oee2j1gAi/oh9RyjnemrX9t6gK4+uXxGcuHGvcD1UYxvej0Socp5zJU4aX1/3KEluuGwRtVI3LX/oqmwCLUIC3fces1FcMWqyKoxJfBvya6+FHr9LdveNIFXKrwgyipLDvsMi1QdWIiQqT/NgdZ+PTeA5KTL+7S4LgpmdWJqUqcCAaeZVAPmQAAAKYBnjdqQn8AAEF3LVNVMUSM08p91jXFWLdABXMd6eSQNBtmlB1pfrYEmkX3v1n755kxwL0pnTVTo5BlIHfsctWNiWBBlfQNHeFjzx3/ZCHhw1F2KP8I1bcW/S4Rf/548no8mv91qi1tjRLi6d9t24LDUCt4Vvq7btbSEe39JDCMbLwNMaY/44iftQu6mtxAKaNG/AfmJl4hT9kinbB//MSThvy0AFxBAAABL0GaPEmoQWyZTAhv//6nhAAAAwAugJmf8ey/miJ8wAG0n/oRqWqq7cNKch+29Gyw42CfR+j8B/+JHbzq+SpEfE7mUXCXNOhFy+bukgvSTGP4yiSwDujYn4JkYPe4LSfgd2Zw0NvetHooCtZrbne/IsYWKwyQh7XILeufQBzcxoOMBndR3oyo9gwYiil9jwEyYw31M7R9MZYYVZnk6gYHp8U8Q7KwT67zHNT8sjAL8nlU1lQYoboVfZxubScNcmUsgcR9DlQscpSZ4TRh7JKHoXca3hiKXTqCs7YMQqzJj4ckmuX5Z5UkUcxMBfEzXwT4zW8kQ1bcrp1TzWKLIev1X6cgplBz42QhQscoYqBcKItzc3uyzWfUc6wrX04tO1RjVgQk7+3rfGvhQ80Nq0FosAAAAL9BnlpFFSwr/wAAM5YfLuu+YmGhyokekr5cdkTXbPsDFlIAj3mKn2pUW1ZUL6XJC0ik4ZCioJf6QyrJxVrBh39UBaJOoAea6TJrSAoKfC4EbnlbwXLVw5wi57wxmVsWvsRDOjb2Z3tlU5WM+Iw1kyGO0WsPY+zY0zobUka1DA/C2qOShMZX16XcbWzff+KZMXj3g8yVOL92sS68IebNi4h+DDpfHmYJzmig7824qNg/nS3wP5rjULFluA9P/ZIhswAAAJABnnl0Qn8AAEFayJr/xrtKcQlMaqf1Fkn89nABx7PihyIJns1U6KPXKnZU7VsThgItpTCXreA6/rNTeWGbSIEeD+1/kQ6LPqhZA5YJlufNv4BHKlXiw2SQlkMI4GCQZ98EIhVF6HcC7Iv97g6zrONRscPuJSeDQwzgYBI0y6nB68KHmxkJQ3Bttgx355zAGDAAAADKAZ57akJ/AABBdy1TVTFEjNPKfdY1rF/7t4RuXgAGfrkwmFjuQOUFc0OdcO7ItA73X7O1LqgBBjuFpMiVPiDxWK/7wT2I7vRqtLjib9+2ElYd+P4UcNDrjd59MVRUKwFRJEQawba+C9h5g70bC01DkIDyj7yY9J6Gylff/no4hQa9EKNjxrV1A6odm/xAtKZsli2xvvm2LimhiP1AT4UCShV3oPplvnWdIbhZaM1+LSjHTZa2Wtxsh95PsjwqDbdwbOSynkpJOQgBjwAAASlBmmBJqEFsmUwIb//+p4QAAAMAL7FyQAWCtDXYXxf2Gm9NABhTeKuC0i8oqiLfmTqVT+l4eqUmPqu41H5UYV6X4AMdmaiQv7xBhLPYR0obbZO20IMD61PmU3oKvtb5oDAwsS8OcY/XNB7hwLW+lmJj3Y6SXsTwRNyuWBsDYr/t9HuzTZkX9zD9blisyvRL09T0+bBUHMv4kkgRHtpqlchnG/YskZotueaATWRVJDyNdI+tLpjXGot8TE+vPfLp1gkdYq+dCydvcSbora2wXG3mZQaBKrpGkQI/G8sFwRPX2NnZdRHAkSWNMqcVXyuS7G1i9EtiOD+HYDW10tWCW0ax98e9xHISzjXQpzO3vTlLOf093S5Fklm3meJuH4vlCYYeZgGg+d/zQncAAADTQZ6eRRUsK/8AADOWHy7rvmJhocqJHpK+XHZE12/O1Dr4owBYfN8UKJS3N6ZPlqzfJ4FJl8/AgfzK1Q1xuUWCVxpN33UvdVA2CtqUEhMeQ9zO6V2+/sdXGlG8nWn5o4S7+su6ky5lQT2RN0MBmFRxsIlTGkTAAafZ3biBIw03wuj7n8jKbsKbz0gt/1++v2sFr2me6nMdv/8CEqMaI0gfX2D7IAge38IamAICBwxZREU66zkme9NjtpWBgZQcXH5gOJRgFBNdEn8RxI8wBF+3D+AEvAAAAKMBnr10Qn8AAEFayJr/xrtKcQlMaqfKi11gCg1y/KzVloU5f3LgOuA5xbsMmkbzekRtaiyxx19N3MhoFVTyp30fwvTVFOV6FL9wv+Wo9MJB64OHwwhOw82L93ykU5oJ1VNGPIYIZGV+mTD6GdGcMm3k+DIgqgo5ZeaRcAnLRTpjdanHwWvueHl+xNBRFKX6qcUTIPU7lG32J7MRda+t0zPWQAz4AAAAuwGev2pCfwAAQXctU1UxRIzTyn3WNc44oxoA5RWDxWWbHFqNXklE2wsz+i1nOwQfU++PqJqTopp3+VdVKY7TCec2PBomMTAF6UAW2wmLeqdTbTkzyOADpweRGbWX8UdPVqSQEIlUyTWeXpWmaENaiiZj1IMQZeEieCGDBfS0egKAiixKyxMBLEsd3Ti3SW7ddk6W6pWMGSnZZdjpSlHDWlpC3yqHXYzlB8/6nrYnuBeEYhbqmSSVaHGXB3UAAAD8QZqkSahBbJlMCG///qeEAAADAC/+ypSVUGX1kehRAM46I6dj5qCSVV1M8VJDQyLnizfeoTlMJOg+PZq8J2QOvez4zLlM2daOsM6OKnr1V2Wkg2npzvLqBgcSy0noKLW+/39baFQaPdKgEKXkHaCWFKjtcbz/0egr34nI39LCoZu5uMbQ7L5exzTujcll0ekfZ41lD0axAOz7GClcmJIozNYKcRWHe1ZmV8gQsxTxCWnBLHyGknjk+iT8PlO02pyc80JFWoYfcWPU55Zn1bWrOOqxD6xBvwGiiUWF6Ya2O4ruqzviFgYCyl7uYDQCa25o0d4HonEOFrAw9OODAAAAkUGewkUVLCv/AAAzlh8u675iYaHKiR6Svlx2RNdwD6qLv97VFzhscARFYt7CdTTG0P0Zhm//5glYNnh/ofMyPc3UrlOt6VdsXKJwTKgfxi5b2pkf6j0mw6DCtntTPXsmvEGfVevs+01NEwIyvX4SAR0Ee21HxFEopHGseGRKGl0t/hg5dgQA/gB/Wj1xtXgRgXkAAACYAZ7hdEJ/AABBWsia/8a7SnEJTGqoErV2jORedBeQBGahplYjimhMPCtsaUQsbvkSrxGs86zMtQiHGrUIhbjLSulDbG+MwlO4BAvcyqMYARTL0XnnPHD94DKRshWtzYr8r0umJYW9sgZb1c0SjOrPnclS1j3+tPumDR3dlet0xsVE5tigstmfrX5H4UE7HbJwpIcB9dIAOuAAAAC+AZ7jakJ/AABBdy1TVTFEjNPKfdY1q3SgycRgS80WfJkgmuAD9lZ/YVhSOt4vb20YMzWc2Wfs3sbxm4ABzM8YegxQddsbMi+pLXeZysaSYZwnNmtAYATROyIuOPbdDx+To1p2/c9axPfBLo7WNffiQ7dNDmH234hD6cPYnefq7VbVoBd3Irhm90AiK0uB+oc/de+UwrL6K50ib2jsqfhJS4xj0Z2n4iTl99io47oYF8buaOSM+qRNg6anbwAtoQAAAWlBmuhJqEFsmUwIb//+p4QAAAMAJ/zLtHNv4GAAF+QGTaeSlyhvgK4VpIgyddg9itTpFrnFRHlW7XucAB7MwXTRZF454MzvEY6AVl1qpZ9mRagKY7jDdqCrQgZobDkZYj/8Hi+4XIBlVgMmumpEYsfzvVfVSYH5lhMoRNJCWV74J4fanDG3fVSfbrCansroftcx4Fo8uGbFDlV4yvJyuedRe1bkSlTp63XY5C8Zn2imRx/Ikl3843hKfKrmbEOprB2LN/i7vXftWOT1rg4zGpqrdyp7KB8oFxkmznQ0iMlhId0/oXIz4HDjBSn9WMvYw50y/KHBL1njb/MK1El5/8+gtQ4Y21jt/R7WyOI4En3xkbXq9683u5rZbMwVMyDTi3clXku2PmjpnQ3pNB+ETg9SuoFBP+ZVGGB6nggDYjpaOKZZT14FcrxacGxDjiIiMtfcOK5d4nDF3huIm2yzRLu48BJOGp+rKJAhAAAAq0GfBkUVLCv/AAAzlh8u675iYaHKiR6Svlx2RNdbe+sCYGfEUv5vhAHQjyzYLy+SePQG2okgW+jo7QBAYmPM1pG8hPVdzvTgsJlf8n/J7l4T0OGoMtACIEz1iD2IhNYTd2dmCwJD14N1wXX0F8/sl9FZzh1812BID6Jcn1GXztySp9rrXbzyCnaVxF+1xKMJXVQw9VH4LrbMzIFCJBTNeK5Vx14IweDO8wAEXQAAAMkBnyV0Qn8AAEFayJr/xrtKcQlMaqeqmykFt9nTXWRsEJ+zAAtFTKQtQ91l8Fnt4v6PGlJiseWOsJgb3WExrUfqE25jvknp6656TvrtUbYEJW84yl1fkJUskPxX9jUnGgpwvL5E1VvAnsqoMFTNbR3fHamb7o/izh8OCn4ErprQfDvRocXA0QxOqDGImyRu/HxjlSRjb9pm+RuIoIXUtQ2e6KA+OcskMsufFZySIgcrYuqYk/ZjyGcI2KMLD/tQE9lXBepM9h9LBV0AAAC7AZ8nakJ/AABBdy1TVTFEjNPKfdY1q3R6YrECezfrlACPeqK/3ZaBjL0AKU5Buerm4mDx1F8QVkZnoIDUiT1PnDEbm9eHodQXbpGtbe3vD0Pus8qNi9pUFo8R8KjsVBD2TDK6iC6cOR9666GN/Z6QajfhH0ocbQJT7xKzzC7FKknOo9yReJNyI9wWrKVOObFjzmg2iyIrLuWJt3q1QIK65oVOfy+JEMg/Vb3nCFdyfHonQ3y/aGSQ2YAbMAAAAV5BmyxJqEFsmUwIb//+p4QAAAMAJqVv0TM+zJWaj3gF9ikyv4Tga7Aj9U3P2EEooDNk+EVYTIReXiF0SW50CkNE8Fn28yN7k+I2i3mZgFS5Cma4gcTVdPpFEfQoGaSi2RpnRIxWhJnm4JO7AJcF5bLuYOWVeQgNQHbtsiPJ5mDUzq3vVdylGKcFRM708RZabb7tSiQ9NAhZgqVdTNYP3IFxMCB2Hi/uopyFs18H7v94wsnULUfEcoSDB0ZLW3IJ2pszNraxG5K/DkxTienUPb1eocYdeCtVRzPd/aZfWbbGKPbJ6kxgcT1fcooYBdJyYI/sUSFTgw2lLIDTFQ/tf8KMRb4s/CfVQF8imkQo5uso40EhdW7FW4GZOkWQmO8znIYqDRDmtiwFlLIEoX9owiXd47u8XghCdn5A6Sijqrq/u+fMJa9QUsnqfOGR70YDArTY7qMU8nWuyqzhniU5QwAAAJ5Bn0pFFSwr/wAAM5YfLuu+YmGhyokekr5cdkTXV00KBofFHFMLD2NUBG/wgJEWf3N8SgAugt82+18/xmCclpky+uWa0z8ENdttP7LxLLi2P87xv+kQxKCrIQG0GL5Ok1LBIm4hO53X0IxivK6o2ivibIKJ55VE9hukqhW9ioBUFLklmtTiaTfmDp7Ap4CQnwPmavjwSvQhOYN5Iag5YQAAAJYBn2l0Qn8AAEFayJr/xrtKcQlMaqeShMkwVhafNZoAC/E4OXJzMfwgVrB/T3WZaGjz0alXtOmBgRUNW/V4pAEF5Nla0LpKOFU5fNnIK28OI+d7h0iLmAjjrI+mzgQ+4Ea3Zxwja7R7lD+euGSBR2aKvbuBKv+DySa0Qbqr9bs0FzLx64fj+eidISZ+nssuKw1miFgA3oAAAACqAZ9rakJ/AABBdy1TVTFEjNPKfdY1pQMR2zQBtNOeemhbdXnr0GMRZCX+sca8uMl5SWFAuCpdAQphxzrXkpKo5wCdFyvBFO6YyfwvAjzLoToZ7+XbPVzS7lfWi0CXproKAz6J5crlMuqDk9+VeXxuurxx1a19QpCB5/XhrTnTS6LzAoWbbAAu7CsOI/U30VY77vSJjtj8naeeBjhEuVASaGd02HIeSk5QCHgAAAEhQZtwSahBbJlMCG///qeEAAADACbdN7UU0iN2gBbmMuJwm1roDycdYNytkbyy+6gmlzTi3EUMMvo8/d1qKn/4TiieOXPu9BP9/fjSdP4vBDr4K9ss/I6ZGs3Pd21JxRCMjJGjmKdGP52b0fI9sc7ozmatTZ34bRjc9sErG/tgTd6n9K5XtGW1PvBXAKonWBJx83/Z+yFM0nem8fWPPjzzritnHQyzvWTyQAebHbLMqdgX+5h+UAtk0TnVmANZOWq0LktTofxniG/zSM+yLpfTSODze/wsTVRJHnOv3gzBxhiDfK7XV6d8f9GsN87E7iZaS3DM4xBm8gJLDWscb5mRQ3iOpXthcHa3fkSDIH4AsLkzvsgo2d1ALQjHxwdEb3NOLwAAAKVBn45FFSwr/wAAM5YfLuu+YmGhyokekr5cdkTXWp+CxX1sPSAHSJGB8Dge5e+jWZyMr3xwxZrMe36Bhz7XSYZO8Y4JlkVF95W+jB6p8LX64f2GOCJI7i/oh3V/YmXQ82Fy3Qis7uxZsH0MNCSpRq57atF4wQgqCEbu4XiO9HUHqJYepoEfz6aPNyukQ4uKvXtDypTleoi0hPVeG2YXRhpOicMIGfEAAAChAZ+tdEJ/AABBWsia/8a7SnEJTGqnkoSw83TQC1kbeJk4+TvjqSK3OxGQGJ6NAt2R0oO4+GYvK3MYC22imPfqwynXINxf6sMwJM9b3zM59SPa6MFHITbTKyHAT0XpScBhgMIT6BQcOtJQXWZoGxVLL3BoPDrHJa37vrgjmJAEDf4coke0VstXr2DKt8wmdVNEX4AbGBtv7Lwgbq8YwZVAA1cAAAC+AZ+vakJ/AABBdy1TVTFEjNPKfdY1qgVDQiGoc7ABYGqB6au6w9GgWoFsM+dZbsZ0U51koWxRwGvQVh7DdKNBx55tjnAcX9fI5RswZY78OoTnSRNoYKyc0z4yZCntFPaMjd2MDsZwrvY6cYvuUJ+iHTdE1niXvhTtPCqk1QV3v8fQRlapYuF9bCRSv4I6bJTMr5bIMqEedOPXPAXSu7ozyH4NVojg7gapVF41kJi4Z0j+qtU7Tu8HMWO9iUhBwAAAAStBm7RJqEFsmUwIb//+p4QAAAMAEGZmzSHXYJo3/7zgBLGq3X4lwsZvcmanqThYTeB4+LMbcW1cHCWmZbaWaCFKTOA6TOWr58FLxWdjydivtxTcQ5YU6jUGAQh+cjKax9J4588DEeg0utkorryr0557Zy8SzL8yx8f6bnM1CNEa9n4h2brPYVvSIGQiMY80PuE79B2R2ZFFjh96AbnXFnbVsiRJtslyr/NImhkx5B6Z6LYka8sZxUe4JStxjy4gOdfnF+8Gc78MelB2T/9RSi5986iZzCztUUVl8yPkKVrkCEQQYX+QdJNo55bxdOm1D24bwgbG85s8TbJyEtEl0btmk/I68CzuI46MWNzuWUtvkt1no/22bjw6saAzR2LR+h3nx/5aAWF2JRdnwAAAAMhBn9JFFSwr/wAAM5YfLuu+YmGhyokekr5cdkTXWpmZ5dAvWxo6F/wOAFgbePIPyqc8+69p89YwXZpfaJqEmzbJeiPdGbY7ePGxUzoT/7I477XqFrBv2zlVt748Xv69ZklBtp8W/KCelyOQdOvED9MNEbXKIcbvAPwmmimBP3SKfx/rQpt0z00INoK+9RTzNJsyl27mW/hVCF3JgdQ+N6l+OpJVqvnPs0sq4TvSoUqRCvng6T7YxaqmI0fCgR2Qj8pHoqci6YDUgQAAAJkBn/F0Qn8AAEFayJr/xrtKcQlMaqepcVWr29NBI/ILHiv1Ejs4Q+ux65an4FRXIoMaUwOTWA5mYv7sap/0EUZ7UUXd+QShB5HcBgMOG6Tt7mWCFNAKR9SMJnfnk29s32QHUfpiJNg7mKSZ3o+pQ7kiie0ejoEl2uFSCdSPs4hCTI/Mnfxe8n/UWUjZF5ODZ5G72fF7jEQA3oAAAAC/AZ/zakJ/AABBdy1TVTFEjNPKfdY1qzHHYkeWBrQmnQHleQfL8jK8kHnsDoATV4ztPD4WdSs5hlqTf9Q35o4+aQomBj1KMKphEs2bhTLfarenxg16vafP6CHebUZbsp5zWjcvtWYTBsILrUQBvTQ76dnZakLefr//xJD+43PlNRCZ+tsowg+Li6mYVGDDgenxWB/4+kjZh0vptAwxrutWhwzoj0WxHo40kmZiS3g9hjJG18k6OFUAz2yE9hq8g44AAAEUQZv4SahBbJlMCG///qeEAAADABBvkat4V2H4UiOb4LAC3Toowwi8+bCNKDzvfZ2koUURHLk97T7NIS6p+KcCxniDoTek1YlCtj/9Yx7gIDaP8quq/Uz1J4v1aD/d/lgI/fvZy2boR1v+u1fCyfT9Hl0tY+T7ThV/nWmDESvb9czZswe366f7U1aBgyA4AS8/k8fUu+V2dx7GKoSfeQieABnmepqGUV+0rvG9i0YR7RaDS2tUhEv+9EA8E/7B2pV625WE2bAB2zd/SpVXILb54B4ukTtJYMME4dcr7HtQsqEh3k5XSfEM3OesmzPm4cVztFrbZrA66IeEJRf718XXd52HbR82Cs7pz2IcsF5XFqfGSdPdAAAAwUGeFkUVLCv/AAAzlh8u675iYaHKiR6Svlx2RNdamZr/Q1AyV/3euDsaa4ShidaW6O0C7W9Uynb2Xv5CoM31LNdmFOKyW/mDKyhNTHpOcw0ssKoPKaoUC19MTf6Gh4/nV1QlNtzfEHVCM2Ubk8dR6ZgHCH9HktXvFIxMGapkqaNuikU6gxlSVn5mjVCE/Q2tf4uRohUT4FITl0an+zcTa98JBV+ce+9l1KBMAVYOz7WMDMZc2lbamDmKWEW9JFkyIQcAAADIAZ41dEJ/AABBWsia/8a7SnEJTGqnpQnEak8MAivl9SevBmjo+z6ZlrwgHEijLFjvmesv9rQSzMfsL7/GV1MX7UObQu21F1vfaDFfglENqXS9+xg9h6doHo0TLxWzu1F0yD7E72+gZ3F2XuHs4pN4B+kMVb/2slOSxgG18Hku6m9eNozyjuzPO4ZcfLPAQJDnq+ELw4j+4K4ogueC/7FswtsyVuWdBoT1ILaBWz+pFquxDx7fm05QD9zyiuPTl5KyUZbr3oegAasAAAC9AZ43akJ/AABBdy1TVTFEjNPKfdY1qgYeCZhOOhc7qepRI+7jgAPxHcWlkUhWNktqOm5/6CkbpQ8rO96jm/yXf8jsIy/a0q/yQodBEaViaEqkbbz5mlxWGWOCndYl5sR0Qcw2OEpnuJZylvdJ2hdb46qGvqkiUFje4NaGb6KbAFF6fL45JIRunY1fL4KyZUaeTyiC610qbmMeC+N4D/XLoWCi+D0xPRDpzTbMrXfak0FDhMuAPJirAqsic8RtAAAAsUGaOUmoQWyZTAhP//3xAAADAAIZI0B/ejAAfzt81a5hRAtsX3WzsZXF+hI6FL16KI74Sex5K6Xzbmz/iWgZw8PkRvCBnQtpK4bGZrWOkXS8Sqtwnruvb4X9i37JJyBXMycKwsfdvpBfg9vvNdEGMkyHisDxNkYL6UuX1F+TvYKGfLP7oHMlavuAFLwgmB4nJnr67xF3uVUtb/aLiRyOecWCTEivwOuxCC4AcwehMAXa2AAACR1liIIABD/+94G/MstkP6rJcfnnfSyszzzkPHJdia640AAAAwAAAwABR4e1643dg1tJ0AAAGsADpB/BeRgx0CPj5HCOgcBEi8Avx+f/2CwzDaAkxWp2NDJKiKdr21h3x+LayOlauEHUBX2uqYaKTiqbF3B3IyGdtHUooeqskXZciVNhIpYID69PP5hFHhqSTAHvl/Uo8DWj+b7Ic2u+M91wJNt7ql2cBLG0a+yijk25cmGQrZ8CPdZtpbTjRV98Q35qUHx6kwMq6hHOD1egKfEairn5MLKzfBvUnCC4wW7ujxZeTd8c17plzXwSukhwzr6OUWiN5KjWFso8b2RrOwFd91ZCZBihkPoqPa+8rZg7+43uSY4d0PhuWGVkErCJLqGIlpnDayQuW8y3w8vOQaH+HcyEDFfWQYhx3n0FwNA805ZFJEs2RASDyBG4+eL9nN8HdyBPq6ZKbdGmSxrS7JlvErXso70D6zcx/zZiwkGpX1o9vB7QpsirRYiuuiHPTKl9SjDBhP+iy/QVCOb8WuHyq/VZEWX+TE6R2RzJLZAadQkpyCyIGC9kXEXATKF0nRXtSWXoV2naIPHeSNfSKmyizD3s78iqBdydfAvHJp/3pb5ogSAVZCs/9MIDqO1vU3O9oBuOFfHROmvXgic/3aen6bNIO4NSHXXeHp13aqfUiKfeRKW7hYXwA/UXy2Ql+zDl6LaRlE62m27oH5yEv+yxTs8RGZjisb/9phFV8YbyGSMNs/K96DZFFzCdvER1yObLjy3QFcDv8IDUc1Cze9mAvyCmA9NERVePT4x+yApNa6RaUAx4nVIESG0W+SDH0Mcydk/6Az1K94AQHf9Gv2rPWDa2bU/PnJEtpJTuNwm5Esg/lkpvTF5R4I+pclJ+tkTFX/AWqCUr1bPyHV1+v+AsfyLQaWCyTiu1CnA7AxmPZFUcHkk4+UQz8j85Qc490z5/HYhwfgHjmk8nkImTxVt01UAWA26iXG1bJhgSfAx8p99f7zYm19lrBPOZHZ/xUC49fd6J+lXm6uH+NqqvAy+JrXXWMbvPtMyyXF06HtvSdo1BTuXuhzNYg1wwTiMHVX7GQbQM6nDrHyZ6nsjeY61PM14zcJ2SCFNMcK06OcwlhEDecA+uqF6b/RM9BB1IxKeZhX3oqdUHAZtKvnI2KbR6XCszStU+Xfgd0GY+w6DnAdqODvkWiAzAZn2o6JyX/BD34rZeziPW2gBtLkQUD1KKRvdNIO0hF7hgMUZQyXclO/nRmYmDHAWeVKvB3tfc4Vd8JgyN2dW8n/iuo19f7npFU5phmwGP//17wQ0Xq1+13klfLsEQWa38XwOrMRqv/ln7QoeMWpLJbVzt787N43gprZCXeoN9KpP8twTGw7eHIOtvSan8i/7dwqOMn/MtEPMbm67DVRc0ERJo04fJUZX2hxyfK9Q3Qx6vqZwtrGEfLa5xa3s2PerEHU970L5xhWOp8Ixwrg4fJmqbEHR8X/DKoNNEO8JvtLRKFD2RIGojtH1hh1MVj+WtAdFkud+3+Vhsw7k7LD9aJGTSPG3sVusgDpaZb1leAfn5TGTMrj6KU8OdKsjMx9FAmiGaB43Fc8/NX9h6HFAHZloXCEaI5GfWmfhOYMfiFvzfEucKHy2MG/kQGI8VVnM0LxUYTpPSOXgx57+0OkrXywcx8X0CYPuBK3REkPYnsR56zgQNDKEerd3383pw8uAtEq6Z8MrvvlU0TV6ux+yBiM73o5wmfASA/ov5JA4hbfiGzCbKGZhYTnvWTusXRDTcIZ/YPgTQ2CAvmVBd+7FRsFbmEmeRGl6Cquo2/M+Tr6Te1MWw1LnTl4drvIYrF/YPW+JsWomBA98VK/+yrxyqvvSXtWVVuWAel2Yzkh3R/wPa3LqnvFE1YsvPR1GWw8sU/O6QBLMCTm9d0NufmIgMvwrzW1KZ97SQx0rAk2FjIA9T5yBLRPeQHsGOxg5YR6XhI9dr5xw9LnWG30sHo7zk/NSDlDP5G+lvJfC2E1P/X8eS68OVmfQsWzy4gO6VbbLuX+HyB6WmSBpFDc51poZ5/8Iymn0+lfA+AAXptjLLlsiSL0F7GlbJKWe3J2lhhke2ferpkyuuDhl9+5GpfpKuB2VoRawcijLvfKtD/0YsL2vpSbl1gDdsGUABOWi2zPOCAMpiVCTNe0ja9YFr+aYI9A60swpfKiSRdmW13Uogaog0iNXGMhUjLvhcYBZLly0kCbme+Vf/7VMqoPh7yJt/QoCF2MZXSrvtU7JaPidsn7a66ugKamjwCOrScu5gr29+ykdp55z93bhInT9Pt6DikD7gnF/VGTcYRFQFI2OuI9exxge1LqnT7vlUQnt7RJOY4SfiEl1yPDVlbyNpLS0VA+4C3bEQ/kvUagilOoFgM+c2MUhAqX12+4YsX/9mGsQpSQ+qGwu31M6Qr1gGIBmSzA5h0nr6syIP2sneH7P6tA/M5RMYRVezIFVjn5FxaM7WdWjm9vhH0W2E6rT/YrBkvXbtQoo8Sda/6T2HB5PWLAsSMl38yQJQogZqEvVqYPAxJbX+aZk3GlL3AUvFN5rtN7Oip7EN8yEF4Syi8xx5NoAlnYf7CU3PveoRkvuTuZA/9s35yHA5YpBeZUi7yCXWV23T9PJl1yhPDR5x/ay/iWzyI/s0kYavZmRqNl4dizretsbEf9Mxk9si5eS7cafdQeFzVy5JNwDjfjqhxB3gcqwypqOIeAp1szMCYAThuCwPFHxlu0gOzaHU1J5EXF1/mL0YTrkWxnEmMyPpzo6uDVbXrpbq4gukyDHySHa6XC8P55k83aQMuj4zOp/OfHWTXTs0UXL/7h4CzzXviu4l7DN/dmlcKj76M4mss1FiU8zg2g4U3D7wFoNwF6lWtqX8YKdy6QK7Q41Wpt8wUGzZ9V5ufSoppA4d3oQY3bt8u2XNsB96D8itcANNl44o5ZpofOXbNVIoWPwiLlPZymV/3efOlbQACPfS1JtlHqPoFpLgYr4rcEdUMTLKzvpli+IkibeIt6ZeV6GfZz+0t8a5el+rYnevbJwmWysZfScJcEmeOEEx/9Iw9kVVZ4NxMEx/fzdu9I8vScpt0gAAAwAAAwAAAwBYwQAAAR1BmiNsQ3/+p4QAAAMADz69+eIRvAAfwfAD4vwbPrJ4mpNu2MPnelgQgvUaEdfTvqdsUFL8ZJdiOhfRp/k/e/CB5qldJoplsV9hHEeHRg/UggeargxjgW6/gXRyFnWyDJoKMKkaSnA0991rXgh7YBuEslyqgwQrieSfkon/MDejCg1pvK851x/7d+j5i6gXcqiQJ6ie1UoaGt9797ecB23aynpXUUoUVZfqzlGUSboGeMwckfLIYSoYJtH/vSHJSJ9W+2iDTQwz2pFewXWx7VWilsI60jOKB0GIZLb8Xgn8XFl8OEQhwviA62eBCF9Eh9Q32to73zwFyZcqIS6yUFkfPOyngVYPEzL//9cBmoM5xzZ8cnN2e/ojky9ZSVIAAACIQZ5BeIV/AAADAAzkb/3syAFvESh/mh8VPbWeWR/WUVk/XHuxUfZQjTko6AyS8eYGeVdf/VaJr9mP376hIL2nvpzKFyHI9rdW0VMZkKHlcjdV1QozZYAQfLGfjewrn0drv4pJMDZeea31Upx4Jh5krsnnth7IT5qaRqbWt+4PjvSoTE0QUYPHTQAAAG4BnmJqQn8AAAMAD+PvXACPdvZ/cLh/e9ILru5QT8whKOrjlg1NmEHhYw3eFpb1fYy2jg81JFxJGG8jDTvH3FypWn13BhFMzlOilbL1yoy/2HB729WdRYgg5iaZfV02RGxM1ywd0SxG3NmXtOW0DwAAAR1BmmdJqEFomUwIb//+p4QAAAMAJaXzcAbjCk2yBDr/hB03poT9NLt0KlDrL6wnsPY3TS+T4/7YKYQrNtf54A2iYsO2zSmPKok74Zbx+Q0guzSb9CtfMp23u4yEmeoZrf6cMZefTsCowr+UCdctGvgJ2VkQWPEY4xyoqbt3szp6EQivfiotKnW+iQWOhnf0nun48JqTnFa/GDPcDkT4W/ikNNw8Z5RXCPrQ11ky9YCKqVN6c1DOpFVzyGki7gyOdHF9Y91UxOVc86bBKN3fgwFB40Y4Fwd6Z+qQ7gT7z+g0ynkpqCVTyTz4Q5bw8KPuAJFpQO6O/LtHR7I1KwRGkwZPaT17y3V4Ph/OV0UzyKolzbkLhbRXJIMkPyXewiwAAACgQZ6FRREsK/8AAAMAHmZTsFQCpeUAF1Hck4svvgxzwYFVzmn4nRG2MAOcuSEbWWSL6fYKxK6og4z5Cimgla3iH4iuo3yGDe39PGJxYZ0D6mMofaBnYlnKWxGhFY//jmVVqTXW5hnIDoAvGUORWiNqGTev2oNA7Q9H5ipjR8VQXfOdhcZILgJOjagmS/g/zmgAzBjEeyqtjXjHUmW3Ttw0EAAAAI4BnqR0Qn8AAAMAEN9c20D0SrU310/QAJ27cda1ab8zCr0h+y+lzoN+qwcG7JRQCcaTX068ujuODCqHjxE2mfPK+sT8igKqJeey0WOptCzGzSbwyRV20F6kzdQ8zKymHSVkYkZytY5cSZIw1DQyTl95U/ANP73llyl4EbzqnT2lMo8nrtsnwexiLBB4UmrBAAAAkAGepmpCfwAAAwAQ2JNqpkHcARLqRrFZoAqj3uvBIkoiZT6NzjvQJarOVPG65/zdakyvW2lrqHJ4NKrwF5SBVLy0rfE1jyMofH7/rR9XVSw/btoQValVhV+Z3QQe89ytocjhAoAJS87Z2mu+YzHrVT8qHz52zUureTYgs9v3dDTe9PWEUDEdvnMNzozPl1TVgAAAAS5BmqtJqEFsmUwIb//+p4QAAAMAJaoPa1sv4LPDcAJprWa9zr4Yj2vNVdSvsaO8wsM1TO1QKihLK0Qu2d8BMDNS80o3B/9z3BBKGyKRXpSrbQcvREYqXVHmBO1IDkemjuHZwUYhV6uWT9yXjtBvvSGWVyr/Ji5X4iRCuXh8zoWHTCTOnHfecPUKbZ46Kq3pgqp88zAcCmsQkymW/tR7257N8KHfmcY+onBBNvjS3kWRHZ7aS0jq3XNFvqWb9/a6ZD+6QuZUPu/CXxmlxuk7923iWlSsqXtnewB8sD1LHrDhkRjS672F7yzVYW1lN+U4CgaGB18TbeHc2GQRZpEf2HJtTJf26A6oU9ViKA02NngOaxy+fJVbfwyhcO9dspKv9/XPjYfo5+4wb2z5R127gQAAAIpBnslFFSwr/wAAAwAeYDdgteVL7JgygAnFP8NpEDXQYoCRzYGxSx/1Y7M4uAl0QR5BleQx3Otg4tAOchA/T4NbJv/hfjL57cMUkE3vDhv/kG9ICmuidKeiPAUdPenbVElVZKwCB6ehZfurgE6ZyPgooasxnhp2wFc9sWZfXjQB7fN2ZTL+o6vTwcAAAACZAZ7odEJ/AAADACj6czRVFA27PwAXQT75AJI/0tF9cMuADyZry0Na6ZW3A5+z89N2MMjaz6nLhFGitOiICvFBgWzNZH/3WftxgE85GnZjQhGt7JzHF0CDwadjZamh/ec8Lzaxx2baZBDX79qh8/KYK67S9nEeJoiiR0P/yg4nNrrKrEN9rWcIWDIVZgIJt8n+Joed+EUF8gOnAAAAeAGe6mpCfwAAAwAo7NI9ke0YNiYmTwACuZukZ7vWZxIGktdcMe2wd+en/aDXsgQPUO7HLuk2ZLxfcQPyW/QHeCe/rAELan4HNGVWwJBfJyv2K2DjV6rLhIjqWkGsu/8bof2M9mzq+mA2rbWfkd10u1quPwP809OG9QAAAY5Bmu9JqEFsmUwIb//+p4QAAAMADtKIK4AiVAZy0QJ8tSo+ddYTSUO2G1SLkhbmQd7aCG1jGxBVgunlnm4nCcZvz7DL1CtGnonhWwi58Ky8ybweIVv2Ng2R0J0BoEfHxp+IWqd7X+F9VnbXm90jcLxFCPmzXJ7gfvLPXtsptPzSBahsCgqw1djPL8IogG3Rr/RHFTMT4SId3wYrOPHLONZgBYVCCQ7BozCbiiKQXycv076o6mK15fJLJz7vwVrdgryctwZ5DRRQYI5LEUg064gqW4JqPYGVBMjJOQuRqGza7uEaqopSzEL2g8SVPkfskZPhtCDajJRNfkady0kynpY7H8/eUGfsdOhbn2EgLKlTXZIU0FqwstiZgIdDIO+gtYxjBWwVih54+fAR3XuqrWNpLIIfowllX8TrNwE71d3JMEt3FKsn7xDL8Y3qDZvrrF2Mk/kysNvja8OUNtPFmhAp+BLcwVgAiIOI2apfgLEVol45U/5L54HaggEiPK1LCAnfxyFD4KK7cjWUMU39IQAAAKNBnw1FFSwr/wAAAwANM6Jzrz7mdYn6gALf6AwbZZNpB7amvbX5Gy5psF2e1AogKpLHL3IPCtO75XVwTL/VNnb1yQbBh4txUNQS7UdwqXmBt0iPt/VIpJoly7gI/3dP6Po5DMNlRswHcqrVCmA9Jz2Vd9eo1dIKams8nltHE9aoSjYpBBjM669g+iC5tUU8fHm9NFDtMXXTeMOQmElnCVANpvuBAAAAXQGfLHRCfwAAAwAP6vQAHSOmydtCIkvdircMx1qysuRwcVTrSBahlnbZ76m3Qn7t0pL0aCpUdXPcPlkMY8Lab00ES673vhQZ95gO4v4CBYbqXs3K2BAMNRrjmGwggAAAAIgBny5qQn8AAAMAJtNOABsQEKXW96e+9kJMLgZMLijuQmQNr76567oNlOFdTWWk3Oj8BYlmk2LrLzjhFHHBbQMeF2XWXx+5YfzKTutRgXSsyAGqDV4Ex5bUtXdDzLt7MNAAeUqIkhb3NXQMxhuw8hntg5OCFGHlKZVhE5eTjKn30OeWe4IhuzJeAAABOEGbMkmoQWyZTAhv//6nhAAAAwAjpi+QAt63DUjD0vTLmHDPP8y6HYJzK8k9+4fO7VWao69p1LH9hI2KLNnaWozMc4VI+JuACgeUaRHZPmIVT/IaojzqgmQtpJMjgqR8iCmttSVKqZdKCErp9DMmHPW4ROv9OaLVksY8MADIozPqe8bmT+YYd9y0nleBdiczaYvXcRW27y0adA2m5xvfNwhHjS87Y0E4+vcQra+kwhaPvf6nDJvAkr7D+tEt7FNftsHlnHy3oPUZwAWxvJKL8go6YzvkbPLopo66e2f9PFDqlbYJ/FuMq5jC09A/P7ar+FkK1gcSkKYgocaehPCfT0xfY4IiZ7FKcUecrQbQorfWBBbWHHMc2RCSHbRpmTmA6mtpfvprsvI7EM/ZFadfbGqgBKFQ/DrFCQAAAJ5Bn1BFFSwr/wAAAwActND8eAUAQMS+8jroFI/mAEQcUaLD1LUNVUDMgcjoiBus6c7lFF8++QwFXI3Sn/iMOl1qVS41u2CY9gq68dFaFDEH12OCxfW3S1+LmY4Ui92VP8eyv9Sh/YPQUozFNxDCCRlenOdkNwH3pUZ5+jUTQMwxfTRg6g/KISFRv8Maiw5AcG3/+EyfnFj/ntxF3UkEfAAAAHEBn3FqQn8AAAMAJbuCJRZTKHi9Kib3z54AsEuE/doNGOWF9J7DbvbwbrNxKL7Oh/n8ablkrPtUBEeFTkrF9npUckOKOlIg/7u5KF8T+D48EjgC6XU8FMwBSW4B6K2V/JN7vv9y0PdHcqKUcOzkV9ATMAAAAPFBm3ZJqEFsmUwIb//+p4QAAAMAI98EJRgTJpqBdstIAv8QWU4tnPxFb0pYjRu/SQAWrshzLm0ufCBkGZS3h/3A640P4tIrXL7cojknURdE6ycFw+R0RV6Ycqt9b0cQQv4L8Be5hdNcZ8uyY72ebvLlH1kURNnfeDsAO2DWikLs0QijlYGZJsVkeXsIf26uFtS2fVWi9vt2/T7/pAX/x1i7pvb5DW+wVOv2PAj7GktMoPO5agMo63pt0B0FANsqqkjA+3HFPeyLry0Tayde1Z2ID76APBYt6eiKTCso6U3uyv6CxV8wfYWUrNbDvVOxiLkjAAAApUGflEUVLCv/AAADAB0AOCeV51mL9IAWv0RDmES1MD/uJ3ULGHBEndyub6FQct/qeUuHEuMXXlVzN834h5k6pouC3pdcVCMP6rdbMWw4NrPJUWIWKNwj42wL9AgR5FdGwZUI0IvSBOvPA1cC2QP7rAd2K9Sx1LLbelkgivTdXYXmMKWc19s+ZmYdFDIQxtzi1d2KYpb+E9hwplTsR0x7gL8n9sU7gQAAAEMBn7N0Qn8AAAMAJa1LlrlLQ/pH+a8AOJ2yn7HTVeV4eSbX/Py1Jdc5FKe9EvaMNgV+IhBWANfBzh5lnmamw60mvRYPAAAAbQGftWpCfwAAAwAQ3bWz7njJeSCxhs4J/gAmmPd7KBKG9QvgKka8/gbkyzBNxGRlxkRlDKfr16ilox1vpNUJBFSQMTxcocXTFjeEiR3TKZi+C7B91Q4MSbnta6G7BloGFYWZmuy/lWzx/6lJ2rAAAADaQZu6SahBbJlMCG///qeEAAADACWz4hSAL0ITzipByhq97y9xaEoKl1hY2EqCUjMwl0gZ/wZuEXRUqivwfK2KfEhj7hWN8r+YDSi3bLf/uYUS5ctlR9+dlmYItC1D6k/4J+eUE/nFrkFyTY5YO8lPdVcR2WRM+weuMYdL5I31ASE0IV1bcVXnV9tidSrTQE6hMzZtDKW8FlaYSCjvqN/mg1tA8K/IuyQG/zUs2B30X/FQhmL22VK8iSJndAVDHBRsdrltnCzqzb0FMcqlXqlGXsdHUQCjxnEVtugAAABCQZ/YRRUsK/8AAAMADTWFPzCgznps9qDJ4uAXEF7HBABcX4q8cy0Ad5hJ50MBx9dnt0bZhcGtTe0FAU0NA2ZcFCBhAAAAHgGf93RCfwAAAwAQ1pPVz4MywLF1eu+3EX6tCcQMCAAAAC8Bn/lqQn8AAAMAEN21s+63wCAAFAZ9w8WBjkZ9Iow+DpuohL5zNlB15p1/H86KKAAAAPlBm/5JqEFsmUwIb//+p4QAAAMAJatnFFvuvuku3PGYAbsg/LiqWWGrNOzSHa3MAdhbwtbtYCrhfZRN/QEN1tJzVGQeonCd4IvWo/PQ2Pr6hZBpakaIxYspIlTK9HrRZOnBrdxrcNSF0Kv9AoD3oYAbJ6605EWO4CiWXeEwy9kvSof/Id2T9AVZ77pw/ph+PsMyYs73OxMsTfloIR81bd53NHdDlFcQ7Fqi/9SfoXKMZVB96FCkZ0fJPZm6i+dgvzSmEgfP1TBk7nLfYmy8ZGKLrBlqoDX0RoWGWFRYi6Dq8sv1kGSQMLE3GUN5QSp+Q20s4E2GSSOv5UEAAABIQZ4cRRUsK/8AAAMADTWFPOiOP+LinQAHCWs6lCHAQrW+SPEVQywSnQ7h70dJ760iBAhS1zU5QrqXTiZToFpO3R7bkGQNbCDgAAAAQwGeO3RCfwAAAwAQ1pOeIrgkLQIAXUdNh+x3PUUCHVshlAxpb9TjuoyOTfvnhUJ0/9KNbOq34e3uq+oRK8cEqQzoB00AAAB5AZ49akJ/AAADABDdtZ+sIAoMAKN+CWiNI28/EXsIaZzw9fgitk1WRLwb+AVJsFCULLHpbag6KX4ASzlbiZXYZ+r95zQFLrPZ95VwQhP8dnc8qtxXTBqxNGK5Qw6KwakPPkb28iSiPS0iOB6VwqT/5ezehc0WtAsD0wAAAM1Bmj9JqEFsmUwIb//+p4QAAAMADz+yn4Lkw/+RaAIlDMk0x4bq6ILdxK4mhPIziZ7BFPWij16neKG9n62lrdLCF1V8sqafgx3Exrergw5nzhFWVUnYNS7BXjSA7PLd1olteaWVdsY5Pp181zslGx/SIoDJcLiWAFcu1+hR0APemn304wsGQvuLXCwyXZGs1EnvUraHrmboOGjhmBRxpg9N28dvhGrlm3ltKXf35DnXUtJ0k1lX0KdPdZtBEKwxJLB27sOC4WjLaNYMjNVBAAAA60GaQ0nhClJlMCG//qeEAAADAA59v60cbXX8cAfZI1xieKw+N+d2vAzUq6djqA4jaUuPkPyooKOP3bmqLkPMcpoWsLUAMK9M0a8D3Y8uPOwbG4zy0qIlwWqnwPgyRvf5ihfsP0fHzwKIaX/o7I5YgKFy0uaqjONncmbQZO0XfoYg04xFrDljWq7Q6BwSm6FnAaFR8DvststiG5ELwxxXZ12j5mnU/QXSM/v3MOJxNcZaV7DWQ6RevGsgwgggKCPX0Ne09qPbLyWVLZ0VXWeYUTX7n1MqJaVo+pXbkDPkrtOFnCxf3EaUITJ8skEAAAB2QZ5hRTRMK/8AAAMADTSXEbuR22jfX9v8FMTVdMAVEXD46m7gPXiIR31ATWLcwAXAerwcFdxmNF9SqYZKGAaeOTnEJrg6LVmElja0KyyIxQrC79WCdPeEfgr5QBVdiu7eczrScTYmsvps4mfl4DfsMYTxcYAGPAAAAEUBnoB0Qn8AAAMAENaTvHd3nSSc+JnyEME6oEAZXHP2JxN/0W81+ECFobG9bC6dAjZvpCkPbP/jxLhUGQOJRUglFXnUM+EAAABIAZ6CakJ/AAADABDdtZnBPD+1Egh6zk6tsUAI9496ayRjn1Xd43aOzSrv62opXY2SSMSB5rirOdHI3u67IM/zYmGNUhZfuQEfAAABD0Gah0moQWiZTAhv//6nhAAAAwAO0Rx0ADi1WbMNLigNBAwx8YiO5PfDuJdxkA3DRxFAHDdEVm6EX7h3YE0Cz6I4iFpyDko0Z/AG8eSqBbBKGIgSYhLGbn67IzlyT5+gfClpDGyCVxx02Xcl03LFEVaGiQoUqwYe3o2KqVAWmtAUtMYRAwFOwO9jzLsHTTK9XpoA4OsOumzSO2OwN+ENB8GVT+qefCOdb+G0lMq/uBBfcVnbkxfR45zO34t2aZsWRkZgkPMxMG/WeIa6eoTR4OVbgBFpEOndAfYeUnZFhvkVGpjzc36JImgNenryPmNdBB5xc8am8BODbe9dCFBIFzuonm97SrkTQJZLQkXvcWAAAAB9QZ6lRREsK/8AAAMADTWFPPmvBEe5gAjI5oRIuKYf6QBjOZq5G0vg/YgdG5AVDM94Fbs3Iw09E0mb6pSOoznAc+FBHTfgvSrVK1zsVAPnEqG9NlpSXserXkqZ+B2Go60fgDflDrqbU6mf8td7+ZQJNquuixJfKcc+eJ+s+YAAAABpAZ7EdEJ/AAADABDWk54i0a4t5T8oAjArfraeNiRVLGaPYOO2F5PQwHJx/sbHMLdIdKTwcIM+uMrY3JaihO5OKaQ2hwqwzMAAC+6rEYteICgGm9ybf3IFgfGx7jYaKeFBbGsfcbU4bIOBAAAAWwGexmpCfwAAAwAQ3bqKgBB5zZL/oGmuT6faaqdyI7OVPj30+SeNvSJDqBmlQMEkd1rGjkA3nrJE3tobqBL4Unp8qdY7ExVDCUtSLfWpXJlpbGMUTgCrgjb4HTAAAACJQZrLSahBbJlMCG///qeEAAADAA7SeOO6jI95p+frXG0wA4RzuIA/E0A3zOfSi+qhqkBnqdQNz0IIv7LMDIayZLOm7esfoesuO00+eAtIF0g1vXMvW3haFAXSaf7fCAnPWfmh2AtqB85MCB3SQ4pMrY+DOLANuAJHgWjOj+UWYEyRgispULGVCS8AAABvQZ7pRRUsK/8AAAMADTWFPidzyur2bGflgAFgnEzzqOw9PJYs/NxrsBbJeIlx32y44AmdGhaVSf+AkcqANOCM9c0F2vA7iXA1V8YBacTiKOD0pu7N2gY64LHrIq2fGpTsQFjLoPCyMpOIUE5G9rP8AAAAlQGfCHRCfwAAAwAQ1rVJKW+rGIO4lTnsUm92XYeitQBGAvpVIAIRL1wfZsBJhsd9bn6daAtFFs950YcukJEUxyjomIcXr+avyRRmw0w39yOlZ2guKrTZ9km2Y/nAeAk0A85t4uoWexh8osxZjgKpSDUEKx0vDyJ5rPYus4or5ekI+oOwBttreFsMyahfd9aQ4cP4BPmBAAAAewGfCmpCfwAAAwAQ3c3MG3b3OIXNaEoRTIVKF9LnAAi+GpS3/rlh8CLMe5FHrFGYlgXJRyZHM0qy+Batlnx0JVj2p2FpNoXePQ5msQ89aPJQJoIzd8qpaY0hkLxyoqoDtqn4hfyUyrwU/wW2QLgHh/FIXI0105ULVqrZgQAAAHRBmw9JqEFsmUwIb//+p4QAAAMADtBGJ9ne/ZSoceTIGKrgA+I6Ksa34lyrVgpoxA+gK2o/iTRrSnOGbtPfet1C6FGUmxqYyZGKnT7s91nr6d+JHtUDPbIgrxLdf0acKN1JhP06Up/yUX33spxlpIKTznL2BwAAAH1Bny1FFSwr/wAAAwANNYfaLElRdJrlQswBClJPJgSEEH2jAdz3ozyUy1j+qEC27TVd11mldiXApCTVk/o5Ibu3bKDh7I6P6Wc59VBNAur8v2YXIVMo+KVrDZjLo9vBZ/wluecUtFxkQPByo1PqF1gv6Rjc8USE0tfKFJPG9QAAAEsBn0x0Qn8AAAMAENa1XhqW6kpREimwgcwgBVpyhNjuqOFDlQokFyGIzvsdq1p3I+nSRda0AboV1O9KfzCcWPccaWRpASSIbmIFB6sAAABlAZ9OakJ/AAADABDdzcpDpSVLUkugDld939oFez+2t/vXobfNQ7Qhp0NRevTNbJPpW+T55q+MzNkYQ/xsFFSv0Aq+DejEB+8xRraK+UjCB3DPNSkf1y62jQZz61MmKzoV90mlr/AAAAB3QZtTSahBbJlMCG///qeEAAADAA7RxKXB++1dvDEboAce06sedP02udhF/lD1UIw7mj6lhSQtJ2pPfRwWoDV1PH5qfa7+9vTHrwy0VZdk59B+FqsSAXylIQNuFgrw9JhArF3NiX6posMl0wEOYbEQfFYvZt7u4IEAAACKQZ9xRRUsK/8AAAMADTWIG/Hv4E3cARL9sgtB2RoTAmwSOdMzIf1xU7Tm0eJAt+BaLqJAvtR+scUnX5sgEOeGzDqCqtmgjA8xN2STofqGOoI4TpgbJbqESfLOLyS507dY0sQ2q0+wt5dEKWclhY/c4lT7T/WfcHNAwIEC3r98e319nYX+ZcxxT8yAAAAAbwGfkHRCfwAAAwAQ1nRXohH6RLaN19QByjOTRdpvo0JZB5kfNjknIB6Yb2qVg8ljVmNlYCYVZnROGTry8PWv0T1hZf4F/S2N5JRg+87Y3XYB2Rif7wancI4fTS2jfGlbWcfwzzV8RpfKIzzgKjEv8AAAAFUBn5JqQn8AAAMAEN2SuuKLX7zV3H+eml6O9mWAum2G4AgasjTDs2ur34JatlwEX3sS/xNXxbDNdrw0/Tgxljuqvr2TucEb7GtR/1dMMEpOMItVts45AAAAdkGbl0moQWyZTAhv//6nhAAAAwAOfagRBwAt1AZylrOvP/Rgqs4vy6WJ89qYO9Uj5ZHjX5GQMhwR2gSxs1zk96wWS8f4oJ7cNTP+MX3KHUqylG84IfJXrhOkqyERXZAbW9zAtelDSvxHav478D00zLpoN7XSMyEAAABsQZ+1RRUsK/8AAAMADTWIHOlDFToumSj4eIq8ESWPADb83xQolL53c2IgkI7iy2X6WzIDIrgL4YHvOW1KnMJDYmWB7lo5LaS8HECbqy6zdxmafddbsPM29lcddCn4UStN9QQv4T5GK4jkdqHhAAAAYgGf1HRCfwAAAwAQ1rR3fHwRwpYt8gBxY+T8MPdlQ2fU5OC9wu7VS+NHjwo6CoIXo6rU2PJWMD6509WJz5M//4zbozFSuBE8KRuw11smA7H9Z7UltKQUOjV+jlhu6+5CWH58AAAAXwGf1mpCfwAAAwAQ3c2wKxUuhv/9jLYfue/yfxgCJjQVBFCPZOTAUemE6zNZoBKMLloyQu6XgL+xdE8vkEb8bgznmIAABzL+KnmX7pmCJQHbK7UJM/rIOSJwKNZ3sPz4AAAAn0Gb20moQWyZTAhv//6nhAAAAwAO0QCQAJ29yMvSP8VAtuyan2uE81ceFoSf3dkKy5MjT52aHIdZjN7ZhKNeCHSPL6lLIMeduTnhPfTuw7eKagmNR9DkKF7GY3QHpOdRyi0qrDUOYgYPrdG7FfDmvIfT86Acqfm5VMItmSr0i4ZPGHdSWIxD2Mg15v8ueu8it1ei715D3t6xA0B23ftHLQAAAG5Bn/lFFSwr/wAAAwANNYFg3SWeskQBGR0RNYeI/YeofbGyu4sXBfXtr9RRCZv5P7p91Q7UNUAJNl4Jp78fM/gwK23KNf8d/KGNZ5VJnj8Z9Rp0VKOwmXv9svoB2QSwYV0WCi26tsBPqNqc3B4j4AAAAFoBnhh0Qn8AAAMAENaTniQPjAfABa5xMGJGLElWDbpSicR9FpVaUZEfy+QgO6e0+lj0CIQRrNKWKvUaViumwVvYs7sibluoNf3X6sv57Bh9GP952WPukYA4RSoAAAB5AZ4aakJ/AAADABDdtXKrt7oKjf+/YA5/OFzGHbpe4lVITWERalTLvimD19Rf/OVgGbJyriexISE+gj2yZs8ZQFDe+mkvByNFthFAxJ70LUqexZvK3keWDnEY2ywhi85PSnhZnIMe/R+Ctmxd87CePZwZLpIXE6QJuQAAAHZBmh9JqEFsmUwIb//+p4QAAAMAD++yptdyY87jpiGXI2D9DrHqjwGX7NQRc/7J2lhmO7pKedvj6fUFLLetYU6Wo7RL2L5QYz1s3hvEG8PsaOIXjWiE8G36M5YQ+ETU3RuO8WKW5t/HcFHWs/Q/2SmY7iktcQXdAAAAeUGePUUVLCv/AAADAA0xBJd2WAxvOkVqIRE4mPXJQTXXI4i2JxyzRpFhTV+tnig7t2AFML4UMI9vkmZQoqx3HMXzxt7Gsn2w1AMRC2nvpOw1JhMJUFtcqLFyBTLnbYrZ0OLu0JS4h5Fveioyhpj1SG3kxjlxRnQwKmEAAABVAZ5cdEJ/AAADABDWdFY+IzSTqGORABxZzFnSmP1Nwsf1cC3PyQZ6DQYj4tJ2s/fCt23NwlmaCH3CIgFDpEm7zDrZCOmap/0WtafyZYoHdcyP+qIOmQAAAGkBnl5qQn8AAAMAECTc4iVYVGReh8ZBxXW1sQoA6R0zYoVZdJhlkYLWxn8BMvI5GHASKDGrOg9HguErX0Oej3Lf0acDx9zjtn1Cwowb+Hr9l9lSYNWDamrgAynu3jqO3QM8mL0TAvL0LuAAAABmQZpDSahBbJlMCG///qeEAAADAA8oYY1BUtQOrPZSdN6w3sBABKohtBIPqHLdO3VSsRxehNTJhtI7hzW875Pb2bHgYAxVUZiKDCmrHUNnDKHthiMUSt8gfn45l882htIR4MIa73pBAAAAZUGeYUUVLCv/AAADAAy+dr4g00tXHYTpOIcQY3B7DWSmeADjeW6WNWYZVsGhgQsnJTqT+7fhiMLO1C78InKzMhnrDr6iJfCUo/zp/Ba7KMZVEHdOXreREoDP/wwLQcopd6J11LyAAAAASwGegHRCfwAAAwAQVnRXX94XT8cYA5huSFoPrQDG2ACrr2/N0EIr5rqlsQlQvxIu1KNSNeKWNaBgX7hKpCB8mzQj9HsXomrEOY+b0QAAAI0BnoJqQn8AAAMAEF2SuoTe6lYYRn9plAFGl0PsJKv1MH+fHBxejATAD0yE8HjQOQNqY5oWIuhWg3foz0/TJ0OzJTs7Zw8+B82NZEwPTquaLXTKQdZrjBrueihbILFG38CJUJHGX/o4v0qetjoj2mMkbTewMVfFdOfX1UoOPjYpcrG8buqOWrh+BeOwdMEAAAB1QZqHSahBbJlMCGf//p4QAAADADuexqPFsK9kDoEOcANnueDph/sVdYTIC/qpddiWOZ6wqPMF8FAwZNUh1XIRAhdfEu0Qua7ClgwjNO8uEe0ubZOQ1GZEqezLKrB52+Dwz7U3gkhtjNcwR0eMKmEORbDE904IAAAAeEGepUUVLCv/AAADAA2Dqu6rVFBEHDmr6vRAEJJWHQBeOAURPGBe7o+Kg3FAE6fu6ysJeiyjgmGn1Bz6Rr0xUgX87Uq2JVINloC+xP6C66CYjNk7l82WXKg08TWEEYaeEi8lb1yGHERoWms/aKZwR73slDdhvLCP+AAAAKEBnsR0Qn8AAAMAEGheAEGC92R7DJv7tECo2CyQpYyV+ygdPMWdDrjjLdkKe9LH4F5xBblbNPXLogYdRcoFpW0Nv082G7it9y05OR1vkD79Gt643NVHdJ5Zpehe3Q7aVrxXD9ypxt1HLiGG84DUgl8FN3kr5R8fAMq/eOHN3HN/bo6TYQ6WFPHjfMfMz1kUnAMwmq+XcJ0jPBxNyqxRNwSDewAAAH0BnsZqQn8AAAMAD4jpMAF+JvWz1ZzE33Z7KyX7CB8vPAY694FN6ZRSBG9Qfyjz1CD8RPUMqqSsw1wkT9gTDZsm/OpoMEBXfKGg0hLJy3W6nPm5lQrNWGg8auc/Yj5O/E9cvWN20cWzNlK61TlIijh8DLuSFnyU7qv1yIRfUgAAAIFBmstJqEFsmUwIX//+jLAAAAMAO6FFYAcew1bIzLnxhQ8zHO+fBNHBE/KJfK6i95vTOE8fxKu6HYzZFKcRqr57aWYLCv9ZaEQhYE6lVommNVj9PV6IMQqivL+RDEcXJRZkJc75hv1yZrLGE3E09Kmr/qD3+8v8YV+6y+z1TlqlhlUAAACMQZ7pRRUsK/8AAAMADJOUKYDloATt5sYeFiL2ccaeqLc41eM76XHfAhcv9Q2IQQTGkp+REomcTu4o38ZFWPwjuab47wEqqca2oIsgIPtStg3F1z75os3ikTIXigMjfhMlO24jDnTkqN6HfzZh9f/ydt7FWPVBALyOMN4CYvBLqx/dcliW9c7Db3fD3oAAAAB0AZ8IdEJ/AAADABDfkViiJyM/+AOYQoGpRAGTCZ1G++ISUb6YWPuPHXI3FdFQoN1lWcTunYpDB6cVkOWzGHKYg99vE79Egvs+kCWY8d8kZ3xgbo5GiGrVg6oveRG+vjdQSU8n32j27R4sH/GAGayFySMs7oEAAAB5AZ8KakJ/AAADABDYw8SFKWa/nQALXItLv9B+YjEugDIguWnp9A8t+nChCQNAZ8WmH8fZjvLJ5H1ESf0Xr9mYV1vSWtnPJDhVSudmVnYRpTVy8PlLJpQTTHkVWAC4uPut4fOAA56nQEQxykSeFJ0b5NbYi2jMtLFEHQAAAIVBmw5JqEFsmUwIT//98QAAAwACXdZwANe0ZExuJhuf+SMNvFHw5x2sxfrUNzizI6v0YfX7HCJ7M397AE9V9vMlTfYQpSNTA9zRAxTIWYKBfKOXcx7swi/VoLGKyS/9qHV4bx3BCl9+Dg8UaAN4qUi4Ro/oB6+IbxFxZ4XRphayYyTToLSBAAAAi0GfLEUVLCv/AAADAA0zq3b2xAFb83FaxAS0dZPL+kPGfb1yofj37SQGJfCpkAS616ZIIYHDzOZrNRbQQVQJD/V6TUtTQcvTKKYX4npa1TwKXAw0Fv9TzCltDHSp3NtcGnyYup2ZIgBmka5ZAUv7puOGys7DiYErciqkjoznVBjjA77SXVW6IwiRQ8EAAABnAZ9NakJ/AAADABDduoqAC/E1q3xr8t1HqYzDwYfLMh0T4H4T9ux7jckXvtmzMiZiR+M+/Ne0pkH7Z+FRXejeVUDltD1uIKPMpSEH4DikPb6oAPuVWaRjSwgghlg9MC9GcmnDHaz0gAAAEiptb292AAAAbG12aGQAAAAAAAAAAAAAAAAAAAPoAAAq1wABAAABAAAAAAAAAAAAAAAAAQAAAAAAAAAAAAAAAAAAAAEAAAAAAAAAAAAAAAAAAEAAAAAAAAAAAAAAAAAAAAAAAAAAAAAAAAAAAAAAAAACAAARVHRyYWsAAABcdGtoZAAAAAMAAAAAAAAAAAAAAAEAAAAAAAAq1wAAAAAAAAAAAAAAAAAAAAAAAQAAAAAAAAAAAAAAAAAAAAEAAAAAAAAAAAAAAAAAAEAAAAACYAAAAZAAAAAAACRlZHRzAAAAHGVsc3QAAAAAAAAAAQAAKtcAAAQAAAEAAAAAEMxtZGlhAAAAIG1kaGQAAAAAAAAAAAAAAAAAADwAAAKSAFXEAAAAAAAtaGRscgAAAAAAAAAAdmlkZQAAAAAAAAAAAAAAAFZpZGVvSGFuZGxlcgAAABB3bWluZgAAABR2bWhkAAAAAQAAAAAAAAAAAAAAJGRpbmYAAAAcZHJlZgAAAAAAAAABAAAADHVybCAAAAABAAAQN3N0YmwAAACXc3RzZAAAAAAAAAABAAAAh2F2YzEAAAAAAAAAAQAAAAAAAAAAAAAAAAAAAAACYAGQAEgAAABIAAAAAAAAAAEAAAAAAAAAAAAAAAAAAAAAAAAAAAAAAAAAAAAAAAAAAAAY//8AAAAxYXZjQwFkAB7/4QAYZ2QAHqzZQJgzoQAAAwABAAADADwPFi2WAQAGaOvjyyLAAAAAGHN0dHMAAAAAAAAAAQAAAUkAAAIAAAAAGHN0c3MAAAAAAAAAAgAAAAEAAAD7AAAKAGN0dHMAAAAAAAABPgAAAAEAAAQAAAAAAQAACAAAAAACAAACAAAAAAEAAAYAAAAAAQAAAgAAAAABAAAGAAAAAAEAAAIAAAAAAQAACAAAAAACAAACAAAAAAEAAAYAAAAAAQAAAgAAAAABAAAGAAAAAAEAAAIAAAAAAQAACAAAAAACAAACAAAAAAEAAAgAAAAAAgAAAgAAAAABAAAKAAAAAAEAAAQAAAAAAQAAAAAAAAABAAACAAAAAAEAAAQAAAAAAQAACgAAAAABAAAEAAAAAAEAAAAAAAAAAQAAAgAAAAABAAAIAAAAAAIAAAIAAAAAAQAACAAAAAACAAACAAAAAAEAAAYAAAAAAQAAAgAAAAABAAAKAAAAAAEAAAQAAAAAAQAAAAAAAAABAAACAAAAAAEAAAgAAAAAAgAAAgAAAAABAAAKAAAAAAEAAAQAAAAAAQAAAAAAAAABAAACAAAAAAEAAAoAAAAAAQAABAAAAAABAAAAAAAAAAEAAAIAAAAAAQAACgAAAAABAAAEAAAAAAEAAAAAAAAAAQAAAgAAAAABAAAKAAAAAAEAAAQAAAAAAQAAAAAAAAABAAACAAAAAAEAAAoAAAAAAQAABAAAAAABAAAAAAAAAAEAAAIAAAAAAQAACgAAAAABAAAEAAAAAAEAAAAAAAAAAQAAAgAAAAABAAAKAAAAAAEAAAQAAAAAAQAAAAAAAAABAAACAAAAAAEAAAoAAAAAAQAABAAAAAABAAAAAAAAAAEAAAIAAAAAAQAACgAAAAABAAAEAAAAAAEAAAAAAAAAAQAAAgAAAAABAAAKAAAAAAEAAAQAAAAAAQAAAAAAAAABAAACAAAAAAEAAAoAAAAAAQAABAAAAAABAAAAAAAAAAEAAAIAAAAAAQAACgAAAAABAAAEAAAAAAEAAAAAAAAAAQAAAgAAAAABAAAKAAAAAAEAAAQAAAAAAQAAAAAAAAABAAACAAAAAAEAAAoAAAAAAQAABAAAAAABAAAAAAAAAAEAAAIAAAAAAQAACgAAAAABAAAEAAAAAAEAAAAAAAAAAQAAAgAAAAABAAAKAAAAAAEAAAQAAAAAAQAAAAAAAAABAAACAAAAAAEAAAoAAAAAAQAABAAAAAABAAAAAAAAAAEAAAIAAAAAAQAACgAAAAABAAAEAAAAAAEAAAAAAAAAAQAAAgAAAAABAAAKAAAAAAEAAAQAAAAAAQAAAAAAAAABAAACAAAAAAEAAAoAAAAAAQAABAAAAAABAAAAAAAAAAEAAAIAAAAAAQAACgAAAAABAAAEAAAAAAEAAAAAAAAAAQAAAgAAAAABAAAKAAAAAAEAAAQAAAAAAQAAAAAAAAABAAACAAAAAAEAAAoAAAAAAQAABAAAAAABAAAAAAAAAAEAAAIAAAAAAQAACgAAAAABAAAEAAAAAAEAAAAAAAAAAQAAAgAAAAABAAAKAAAAAAEAAAQAAAAAAQAAAAAAAAABAAACAAAAAAEAAAoAAAAAAQAABAAAAAABAAAAAAAAAAEAAAIAAAAAAQAACgAAAAABAAAEAAAAAAEAAAAAAAAAAQAAAgAAAAABAAAKAAAAAAEAAAQAAAAAAQAAAAAAAAABAAACAAAAAAEAAAoAAAAAAQAABAAAAAABAAAAAAAAAAEAAAIAAAAAAQAACgAAAAABAAAEAAAAAAEAAAAAAAAAAQAAAgAAAAABAAAKAAAAAAEAAAQAAAAAAQAAAAAAAAABAAACAAAAAAEAAAoAAAAAAQAABAAAAAABAAAAAAAAAAEAAAIAAAAAAQAACgAAAAABAAAEAAAAAAEAAAAAAAAAAQAAAgAAAAABAAAKAAAAAAEAAAQAAAAAAQAAAAAAAAABAAACAAAAAAEAAAoAAAAAAQAABAAAAAABAAAAAAAAAAEAAAIAAAAAAQAACgAAAAABAAAEAAAAAAEAAAAAAAAAAQAAAgAAAAABAAAKAAAAAAEAAAQAAAAAAQAAAAAAAAABAAACAAAAAAEAAAoAAAAAAQAABAAAAAABAAAAAAAAAAEAAAIAAAAAAQAACgAAAAABAAAEAAAAAAEAAAAAAAAAAQAAAgAAAAABAAAKAAAAAAEAAAQAAAAAAQAAAAAAAAABAAACAAAAAAEAAAoAAAAAAQAABAAAAAABAAAAAAAAAAEAAAIAAAAAAQAACgAAAAABAAAEAAAAAAEAAAAAAAAAAQAAAgAAAAABAAAKAAAAAAEAAAQAAAAAAQAAAAAAAAABAAACAAAAAAEAAAoAAAAAAQAABAAAAAABAAAAAAAAAAEAAAIAAAAAAQAACgAAAAABAAAEAAAAAAEAAAAAAAAAAQAAAgAAAAABAAAKAAAAAAEAAAQAAAAAAQAAAAAAAAABAAACAAAAAAEAAAoAAAAAAQAABAAAAAABAAAAAAAAAAEAAAIAAAAAAQAACgAAAAABAAAEAAAAAAEAAAAAAAAAAQAAAgAAAAABAAAKAAAAAAEAAAQAAAAAAQAAAAAAAAABAAACAAAAAAEAAAoAAAAAAQAABAAAAAABAAAAAAAAAAEAAAIAAAAAAQAACgAAAAABAAAEAAAAAAEAAAAAAAAAAQAAAgAAAAACAAAEAAAAAAEAAAgAAAAAAgAAAgAAAAABAAAKAAAAAAEAAAQAAAAAAQAAAAAAAAABAAACAAAAAAEAAAoAAAAAAQAABAAAAAABAAAAAAAAAAEAAAIAAAAAAQAACgAAAAABAAAEAAAAAAEAAAAAAAAAAQAAAgAAAAABAAAIAAAAAAIAAAIAAAAAAQAACgAAAAABAAAEAAAAAAEAAAAAAAAAAQAAAgAAAAABAAAKAAAAAAEAAAQAAAAAAQAAAAAAAAABAAACAAAAAAEAAAoAAAAAAQAABAAAAAABAAAAAAAAAAEAAAIAAAAAAQAABAAAAAABAAAKAAAAAAEAAAQAAAAAAQAAAAAAAAABAAACAAAAAAEAAAoAAAAAAQAABAAAAAABAAAAAAAAAAEAAAIAAAAAAQAACgAAAAABAAAEAAAAAAEAAAAAAAAAAQAAAgAAAAABAAAKAAAAAAEAAAQAAAAAAQAAAAAAAAABAAACAAAAAAEAAAoAAAAAAQAABAAAAAABAAAAAAAAAAEAAAIAAAAAAQAACgAAAAABAAAEAAAAAAEAAAAAAAAAAQAAAgAAAAABAAAKAAAAAAEAAAQAAAAAAQAAAAAAAAABAAACAAAAAAEAAAoAAAAAAQAABAAAAAABAAAAAAAAAAEAAAIAAAAAAQAACgAAAAABAAAEAAAAAAEAAAAAAAAAAQAAAgAAAAABAAAKAAAAAAEAAAQAAAAAAQAAAAAAAAABAAACAAAAAAEAAAoAAAAAAQAABAAAAAABAAAAAAAAAAEAAAIAAAAAAQAACAAAAAACAAACAAAAABxzdHNjAAAAAAAAAAEAAAABAAABSQAAAAEAAAU4c3RzegAAAAAAAAAAAAABSQAACgkAAAGeAAAATwAAAFoAAACwAAAATwAAAQEAAABVAAAA+wAAAGcAAABwAAAA1QAAAIIAAAC+AAAAcwAAAKEAAAB4AAAAaAAAAP0AAABvAAAAgAAAAcMAAACvAAAAmwAAAJUAAAEKAAABIwAAAMQAAADtAAAA0wAAAS4AAADUAAAAtwAAAQ4AAADNAAAAvwAAARQAAADLAAABOwAAAPQAAACvAAAAoQAAAUEAAAClAAAAsQAAAVgAAADxAAAArQAAAMUAAAE+AAAAzAAAAK8AAACiAAABWAAAALEAAADOAAAAngAAAXQAAACnAAAArwAAAJMAAAFYAAAAvgAAALIAAADTAAABWwAAANIAAADHAAAA5gAAAUUAAACyAAAAoQAAAL8AAAFiAAAAtAAAAM4AAADcAAABLQAAAKsAAACxAAAA3QAAAUkAAADCAAAAjwAAALMAAAE+AAAAwAAAAIwAAACpAAABdwAAAOIAAACEAAAAlgAAAVkAAAC6AAAAuQAAAKsAAAGMAAAA1wAAAKgAAADSAAABDAAAAOQAAACrAAAA2AAAAQMAAADJAAAAxgAAAKoAAAENAAAAhwAAAIgAAACBAAAA8QAAAK4AAACSAAAAlAAAATcAAADWAAAA1AAAANUAAAFHAAAAzgAAAOIAAADYAAABOwAAAMcAAACzAAAAvQAAAP4AAADbAAAAtQAAAJEAAAEuAAAA4gAAANMAAADPAAAA5gAAAP4AAADJAAAA0AAAATUAAAD6AAAAkgAAALEAAAEfAAAAygAAAL4AAADUAAABVAAAAPIAAAC9AAAAwQAAAT4AAADaAAAAuQAAAKQAAAEUAAAAsgAAALkAAAC5AAABCwAAAN4AAACtAAAAuwAAAVoAAADwAAAAxgAAAPEAAAFMAAAA1AAAAM4AAADxAAABRQAAANIAAACdAAAAyQAAAU8AAADHAAAAuAAAAJYAAAE0AAAAtQAAAKUAAADWAAABLgAAAMAAAACyAAAA0AAAASsAAADuAAAAxgAAALwAAAFHAAAA1AAAAKsAAAC2AAABNgAAANAAAADIAAAAogAAAUYAAADdAAAA4AAAALUAAAFSAAAA7QAAANwAAACvAAABEgAAAMAAAACnAAAA0AAAAWcAAADHAAAAoAAAAKoAAAEzAAAAwwAAAJQAAADOAAABLQAAANcAAACnAAAAvwAAAQAAAACVAAAAnAAAAMIAAAFtAAAArwAAAM0AAAC/AAABYgAAAKIAAACaAAAArgAAASUAAACpAAAApQAAAMIAAAEvAAAAzAAAAJ0AAADDAAABGAAAAMUAAADMAAAAwQAAALUAAAkhAAABIQAAAIwAAAByAAABIQAAAKQAAACSAAAAlAAAATIAAACOAAAAnQAAAHwAAAGSAAAApwAAAGEAAACMAAABPAAAAKIAAAB1AAAA9QAAAKkAAABHAAAAcQAAAN4AAABGAAAAIgAAADMAAAD9AAAATAAAAEcAAAB9AAAA0QAAAO8AAAB6AAAASQAAAEwAAAETAAAAgQAAAG0AAABfAAAAjQAAAHMAAACZAAAAfwAAAHgAAACBAAAATwAAAGkAAAB7AAAAjgAAAHMAAABZAAAAegAAAHAAAABmAAAAYwAAAKMAAAByAAAAXgAAAH0AAAB6AAAAfQAAAFkAAABtAAAAagAAAGkAAABPAAAAkQAAAHkAAAB8AAAApQAAAIEAAACFAAAAkAAAAHgAAAB9AAAAiQAAAI8AAABrAAAAFHN0Y28AAAAAAAAAAQAAADAAAABidWR0YQAAAFptZXRhAAAAAAAAACFoZGxyAAAAAAAAAABtZGlyYXBwbAAAAAAAAAAAAAAAAC1pbHN0AAAAJal0b28AAAAdZGF0YQAAAAEAAAAATGF2ZjU4LjI5LjEwMA==\" type=\"video/mp4\" />\n",
              "             </video>"
            ],
            "text/plain": [
              "<IPython.core.display.HTML object>"
            ]
          },
          "metadata": {},
          "output_type": "display_data"
        }
      ],
      "source": [
        "import glob\n",
        "import io\n",
        "import base64\n",
        "import imageio\n",
        "from IPython.display import HTML, display\n",
        "from gym.wrappers.monitoring.video_recorder import VideoRecorder\n",
        "\n",
        "def show_video_of_model(agent, env_name):\n",
        "    env = gym.make(env_name, render_mode='rgb_array')\n",
        "    state, _ = env.reset()\n",
        "    done = False\n",
        "    frames = []\n",
        "    while not done:\n",
        "        frame = env.render()\n",
        "        frames.append(frame)\n",
        "        action = agent.act(state)\n",
        "        state, reward, done, _, _ = env.step(action.item())\n",
        "    env.close()\n",
        "    imageio.mimsave('video.mp4', frames, fps=30)\n",
        "\n",
        "show_video_of_model(agent, 'LunarLander-v2')\n",
        "\n",
        "def show_video():\n",
        "    mp4list = glob.glob('*.mp4')\n",
        "    if len(mp4list) > 0:\n",
        "        mp4 = mp4list[0]\n",
        "        video = io.open(mp4, 'r+b').read()\n",
        "        encoded = base64.b64encode(video)\n",
        "        display(HTML(data='''<video alt=\"test\" autoplay\n",
        "                loop controls style=\"height: 400px;\">\n",
        "                <source src=\"data:video/mp4;base64,{0}\" type=\"video/mp4\" />\n",
        "             </video>'''.format(encoded.decode('ascii'))))\n",
        "    else:\n",
        "        print(\"Could not find video\")\n",
        "\n",
        "show_video()"
      ]
    }
  ],
  "metadata": {
    "colab": {
      "provenance": []
    },
    "kernelspec": {
      "display_name": "Python 3",
      "name": "python3"
    },
    "language_info": {
      "codemirror_mode": {
        "name": "ipython",
        "version": 3
      },
      "file_extension": ".py",
      "mimetype": "text/x-python",
      "name": "python",
      "nbconvert_exporter": "python",
      "pygments_lexer": "ipython3",
      "version": "3.12.1"
    }
  },
  "nbformat": 4,
  "nbformat_minor": 0
}
